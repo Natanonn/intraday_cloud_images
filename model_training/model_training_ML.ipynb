{
 "cells": [
  {
   "cell_type": "markdown",
   "id": "de676290",
   "metadata": {},
   "source": [
    "# Import all libraries"
   ]
  },
  {
   "cell_type": "code",
   "execution_count": null,
   "id": "c7fbb338",
   "metadata": {},
   "outputs": [],
   "source": [
    "import numpy as np\n",
    "import pandas as pd\n",
    "import matplotlib.pyplot as plt\n",
    "import random\n",
    "import math\n",
    "\n",
    "import os\n",
    "import datetime\n",
    "from  datetime import timedelta, time\n",
    "\n",
    "import warnings\n",
    "warnings.filterwarnings(\"ignore\")\n",
    "import lightgbm as lgb\n",
    "from lightgbm import LGBMRegressor"
   ]
  },
  {
   "cell_type": "code",
   "execution_count": null,
   "id": "6c860a27",
   "metadata": {},
   "outputs": [],
   "source": [
    "from sklearn.metrics import r2_score, mean_absolute_error, mean_squared_error\n",
    "from sklearn.model_selection import GridSearchCV, RandomizedSearchCV, TimeSeriesSplit\n",
    "from sklearn.linear_model import LinearRegression \n",
    "from sklearn.svm import SVR\n",
    "from sklearn.ensemble import RandomForestRegressor\n",
    "from sklearn.preprocessing import MinMaxScaler,StandardScaler"
   ]
  },
  {
   "cell_type": "markdown",
   "id": "cdaf743c",
   "metadata": {},
   "source": [
    "# Define relevant class "
   ]
  },
  {
   "cell_type": "code",
   "execution_count": null,
   "id": "4deb8ef6",
   "metadata": {},
   "outputs": [],
   "source": [
    "class ModelSplitter:\n",
    "    \n",
    "    def __init__(self, df):\n",
    "        self.df = df\n",
    "        self.start_morn = 6.5\n",
    "        self.end_morn = 9.0\n",
    "        self.start_noon = 9.5\n",
    "        self.end_noon = 15.0\n",
    "        self.start_even = 15.5\n",
    "        self.end_even = 17.0\n",
    "        \n",
    "    def split_train_test(self, train_date_list, test_date_list,fh_step):\n",
    "        \n",
    "        start_morn_min, start_morn_hour = math.modf(self.start_morn)\n",
    "        end_morn_min, end_morn_hour = math.modf(self.end_morn-0.5*fh_step)\n",
    "        \n",
    "        start_noon_min, start_noon_hour = math.modf(self.start_noon-0.5*fh_step)\n",
    "        end_noon_min, end_noon_hour = math.modf(self.end_noon-0.5*fh_step)\n",
    "        \n",
    "        start_even_min, start_even_hour = math.modf(self.start_even-0.5*fh_step)\n",
    "        end_even_min, end_even_hour = math.modf(self.end_even-0.5*fh_step)\n",
    "        \n",
    "        # noon models\n",
    "        noon_cols = ['site','Datetime', f'I_lead_{fh_step}step', \n",
    "                     'I', f'I_lead_{fh_step}step_back1D', f'hour_index_lead_{fh_step}step', f'iclr_lead_{fh_step}step', \n",
    "                     'I_lag_1step', 'I_lag_2step','I_lag_3step','I_lag_4step','I_lag_5step',\n",
    "                     'ci_center', f'ci_est(t+{fh_step})']\n",
    "\n",
    "        _df_noon = self.df[self.df['Datetime'].dt.time.isin(pd.date_range(datetime.time(int(start_noon_hour), int(start_noon_min*60)).strftime('%H:%M:%S'), \n",
    "                                                                              datetime.time(int(end_noon_hour), int(end_noon_min*60)).strftime('%H:%M:%S'), \n",
    "                                                                              freq='30min').time)][noon_cols]\n",
    "        _df_noon = _df_noon.dropna()\n",
    "        date_noon_index = _df_noon['Datetime'].dt.date\n",
    "\n",
    "        train_date_noon_cond = date_noon_index.isin(train_date_list)\n",
    "        end_date_noon_cond = date_noon_index.isin(test_date_list)\n",
    "\n",
    "        _df_noon_train = _df_noon[train_date_noon_cond].set_index(['site', 'Datetime'])\n",
    "        _df_noon_test = _df_noon[end_date_noon_cond].set_index(['site', 'Datetime'])\n",
    "\n",
    "\n",
    "        X_train_noon, X_test_noon = _df_noon_train.drop(columns=[f'I_lead_{fh_step}step']), _df_noon_test.drop(columns=[f'I_lead_{fh_step}step'])\n",
    "        y_train_noon, y_test_noon = _df_noon_train[f'I_lead_{fh_step}step'], _df_noon_test[f'I_lead_{fh_step}step']\n",
    "        \n",
    "        # evening models\n",
    "        \n",
    "        even_cols = ['site','Datetime', f'I_lead_{fh_step}step', 'I',\n",
    "                         f'I_lead_{fh_step}step_back1D', f'hour_index_lead_{fh_step}step', \n",
    "                         f'iclr_lead_{fh_step}step', 'ci_center', f'ci_est(t+{fh_step})']\n",
    "        \n",
    "        _df_even = self.df[self.df['Datetime'].dt.time.isin(pd.date_range(datetime.time(int(start_even_hour), int(start_even_min*60)).strftime('%H:%M:%S'), \n",
    "                                                                              datetime.time(int(end_even_hour), int(end_even_min*60)).strftime('%H:%M:%S'), \n",
    "                                                                              freq='30min').time)][even_cols]\n",
    "        \n",
    "        _df_even = _df_even.dropna()\n",
    "        date_even_index = _df_even['Datetime'].dt.date\n",
    "\n",
    "        train_date_even_cond = date_even_index.isin(train_date_list)\n",
    "        end_date_even_cond = date_even_index.isin(test_date_list)\n",
    "\n",
    "        _df_even_train = _df_even[train_date_even_cond].set_index(['site', 'Datetime'])\n",
    "        _df_even_test = _df_even[end_date_even_cond].set_index(['site', 'Datetime'])\n",
    "        \n",
    "        X_train_even, X_test_even = _df_even_train.drop(columns=[f'I_lead_{fh_step}step']), _df_even_test.drop(columns=[f'I_lead_{fh_step}step'])\n",
    "        y_train_even, y_test_even = _df_even_train[f'I_lead_{fh_step}step'], _df_even_test[f'I_lead_{fh_step}step']\n",
    "        \n",
    "        \n",
    "        if fh_step <= 5 :\n",
    "        \n",
    "            morn_cols = even_cols\n",
    "            _df_morn = self.df[self.df['Datetime'].dt.time.isin(pd.date_range(datetime.time(int(start_morn_hour), int(start_morn_min*60)).strftime('%H:%M:%S'), \n",
    "                                                                              datetime.time(int(end_morn_hour), int(end_morn_min*60)).strftime('%H:%M:%S'), \n",
    "                                                                              freq='30min').time)][morn_cols]\n",
    "            \n",
    "            _df_morn = _df_morn.dropna()\n",
    "            date_morn_index = _df_morn['Datetime'].dt.date\n",
    "\n",
    "            train_date_morn_cond = date_morn_index.isin(train_date_list)\n",
    "            end_date_morn_cond = date_morn_index.isin(test_date_list)\n",
    "\n",
    "            _df_morn_train = _df_morn[train_date_morn_cond].set_index(['site', 'Datetime'])\n",
    "            _df_morn_test = _df_morn[end_date_morn_cond].set_index(['site', 'Datetime'])\n",
    "\n",
    "\n",
    "            X_train_morn, X_test_morn = _df_morn_train.drop(columns=[f'I_lead_{fh_step}step']), _df_morn_test.drop(columns=[f'I_lead_{fh_step}step'])\n",
    "            y_train_morn, y_test_morn = _df_morn_train[f'I_lead_{fh_step}step'], _df_morn_test[f'I_lead_{fh_step}step']\n",
    "            \n",
    "            return X_train_morn, X_test_morn, y_train_morn, y_test_morn, X_train_noon, X_test_noon,y_train_noon, y_test_noon, X_train_even, X_test_even, y_train_even, y_test_even\n",
    "        \n",
    "        else :\n",
    "            return X_train_noon, X_test_noon,y_train_noon, y_test_noon, X_train_even, X_test_even, y_train_even, y_test_even\n",
    "        \n",
    "        \n",
    "        \n",
    "        "
   ]
  },
  {
   "cell_type": "markdown",
   "id": "52bf783f",
   "metadata": {},
   "source": [
    "# Import data"
   ]
  },
  {
   "cell_type": "code",
   "execution_count": null,
   "id": "68466a82",
   "metadata": {},
   "outputs": [],
   "source": [
    "main_path = os.path.abspath(os.getcwd())\n",
    "csv_path = os.path.join(main_path, 'csv_data')\n",
    "\n",
    "all_sites_df = pd.read_csv(os.path.join(csv_path, 'processed_all_sites_HS1e0_df_not_imputed_R_channel.csv'), parse_dates = ['Datetime'])\n",
    "all_sites_df = all_sites_df.iloc[:, 1:]"
   ]
  },
  {
   "cell_type": "code",
   "execution_count": null,
   "id": "52a47787",
   "metadata": {},
   "outputs": [],
   "source": [
    "import pickle\n",
    "f = open('train_test_date_listVar.pkl', 'rb')\n",
    "train_date_list, test_date_list, val_date_list,train_date_val_list = pickle.load(f)\n",
    "print(f'training set has {len(train_date_val_list)} dates\\n'+\n",
    "      f'validation set has {len(val_date_list)} dates \\n'+\n",
    "      f'test set has {len(test_date_list)}')"
   ]
  },
  {
   "cell_type": "markdown",
   "id": "19106bd6",
   "metadata": {},
   "source": [
    "# Training \n",
    "- Note that the morning model only appear in step 1-5"
   ]
  },
  {
   "cell_type": "code",
   "execution_count": null,
   "id": "ceb9ad9a",
   "metadata": {},
   "outputs": [],
   "source": [
    "model_data = ModelSplitter(all_sites_df)"
   ]
  },
  {
   "cell_type": "code",
   "execution_count": null,
   "id": "02af0333",
   "metadata": {},
   "outputs": [],
   "source": [
    "fh_step = 1\n",
    "X_train_morn, X_test_morn, y_train_morn, y_test_morn, X_train_noon, X_test_noon,y_train_noon, y_test_noon, X_train_even, X_test_even, y_train_even, y_test_even = model_data.split_train_test(train_date_list, test_date_list,fh_step=fh_step)\n"
   ]
  },
  {
   "cell_type": "markdown",
   "id": "b427c32f",
   "metadata": {},
   "source": [
    "## LR"
   ]
  },
  {
   "cell_type": "code",
   "execution_count": null,
   "id": "45b3768c",
   "metadata": {},
   "outputs": [],
   "source": [
    "lr_morn = LinearRegression()\n",
    "lr_noon = LinearRegression()\n",
    "lr_even = LinearRegression()\n",
    "\n",
    "lr_morn.fit(X_train_morn, y_train_morn)\n",
    "lr_noon.fit(X_train_noon, y_train_noon)\n",
    "lr_even.fit(X_train_even, y_train_even)\n",
    "\n",
    "y_pred_morn = lr_morn.predict(X_test_morn)\n",
    "y_pred_morn[y_pred_morn < 0] = 0\n",
    "\n",
    "y_pred_noon = lr_noon.predict(X_test_noon)\n",
    "y_pred_noon[y_pred_noon < 0] = 0\n",
    "\n",
    "y_pred_even = lr_even.predict(X_test_even)\n",
    "y_pred_even[y_pred_even < 0] = 0\n",
    "\n",
    "y_pred_lr = np.concatenate([y_pred_morn, y_pred_noon, y_pred_even])\n",
    "y_test = pd.concat([y_test_morn, y_test_noon, y_test_even], axis=0)\n",
    "\n",
    "print(mean_squared_error(y_test, y_pred_lr)**(1/2))\n",
    "print(mean_absolute_error(y_test, y_pred_lr))"
   ]
  },
  {
   "cell_type": "markdown",
   "id": "23328bec",
   "metadata": {},
   "source": [
    "## RF"
   ]
  },
  {
   "cell_type": "code",
   "execution_count": null,
   "id": "31e738f7",
   "metadata": {},
   "outputs": [],
   "source": [
    "rf_morn = RandomForestRegressor(max_depth=30 , min_samples_leaf= 25, min_samples_split = 25, n_estimators= 1500, random_state=42)\n",
    "rf_morn.fit(X_train_morn, y_train_morn)\n",
    "y_pred_morn = rf_morn.predict(X_test_morn)\n",
    "y_pred_morn[y_pred_morn < 0] = 0 \n",
    "\n",
    "rf_noon = RandomForestRegressor(max_depth=30 , min_samples_leaf= 25, min_samples_split = 25, n_estimators= 1500, random_state=42)\n",
    "rf_noon.fit(X_train_noon, y_train_noon)\n",
    "y_pred_noon = rf_noon.predict(X_test_noon)\n",
    "y_pred_noon[y_pred_noon < 0] = 0 \n",
    "\n",
    "rf_even = RandomForestRegressor(max_depth=30 , min_samples_leaf= 25, min_samples_split = 25, n_estimators= 1500, random_state=42)\n",
    "rf_even.fit(X_train_even, y_train_even)\n",
    "y_pred_even = rf_even.predict(X_test_even)\n",
    "y_pred_even[y_pred_even < 0] = 0 \n",
    "\n",
    "y_pred_rf = np.concatenate([y_pred_morn, y_pred_noon, y_pred_even])\n",
    "y_test = pd.concat([y_test_morn, y_test_noon, y_test_even], axis=0)\n",
    "\n",
    "print(mean_squared_error(y_test, y_pred_rf)**(1/2))\n",
    "print(mean_absolute_error(y_test, y_pred_rf))"
   ]
  },
  {
   "cell_type": "markdown",
   "id": "f34d6b9e",
   "metadata": {},
   "source": [
    "## SVR"
   ]
  },
  {
   "cell_type": "code",
   "execution_count": null,
   "id": "c40fec84",
   "metadata": {},
   "outputs": [],
   "source": [
    "morn_scaler = StandardScaler()\n",
    "noon_scaler = StandardScaler()\n",
    "even_scaler = StandardScaler()\n",
    "\n",
    "X_train_morn_scaled = morn_scaler.fit_transform(X_train_morn)\n",
    "X_test_morn_scaled = morn_scaler.transform(X_test_morn)\n",
    "\n",
    "X_train_noon_scaled = noon_scaler.fit_transform(X_train_noon)\n",
    "X_test_noon_scaled = noon_scaler.transform(X_test_noon)\n",
    "\n",
    "X_train_even_scaled = even_scaler.fit_transform(X_train_even)\n",
    "X_test_even_scaled = even_scaler.transform(X_test_even)"
   ]
  },
  {
   "cell_type": "code",
   "execution_count": null,
   "id": "2becd015",
   "metadata": {},
   "outputs": [],
   "source": [
    "svr_morn = SVR(kernel='rbf', C=100, epsilon=1, gamma=0.1)\n",
    "svr_morn.fit(X_train_morn_scaled, y_train_morn)\n",
    "y_pred_morn = svr_morn.predict(X_test_morn_scaled)\n",
    "y_pred_morn[y_pred_morn < 0] = 0 \n",
    "\n",
    "svr_noon = SVR(kernel='rbf', C=100, epsilon=1, gamma=0.1)\n",
    "svr_noon.fit(X_train_noon_scaled, y_train_noon)\n",
    "y_pred_noon = svr_noon.predict(X_test_noon_scaled)\n",
    "y_pred_noon[y_pred_noon < 0] = 0 \n",
    "\n",
    "svr_even = SVR(kernel='rbf', C=100, epsilon=1, gamma=0.1)\n",
    "svr_even.fit(X_train_even_scaled, y_train_even)\n",
    "y_pred_even = svr_even.predict(X_test_even_scaled)\n",
    "y_pred_even[y_pred_even < 0] = 0 \n",
    "\n",
    "y_pred_svr = np.concatenate([y_pred_morn, y_pred_noon, y_pred_even])\n",
    "y_test = pd.concat([y_test_morn, y_test_noon, y_test_even], axis=0)\n",
    "\n",
    "print(mean_squared_error(y_test, y_pred_svr)**(1/2))\n",
    "print(mean_absolute_error(y_test, y_pred_svr))"
   ]
  },
  {
   "cell_type": "markdown",
   "id": "ad9e1820",
   "metadata": {},
   "source": [
    "## LGBM"
   ]
  },
  {
   "cell_type": "code",
   "execution_count": null,
   "id": "eeee7af5",
   "metadata": {},
   "outputs": [],
   "source": [
    "lgbm_morn = LGBMRegressor(boosting_type='goss',learning_rate=0.005, max_depth = 10 , n_estimators=2000)\n",
    "lgbm_morn.fit(X_train_morn, y_train_morn)\n",
    "y_pred_morn = lgbm_morn.predict(X_test_morn)\n",
    "y_pred_morn[y_pred_morn < 0] = 0 \n",
    "\n",
    "lgbm_noon = LGBMRegressor(boosting_type='goss',learning_rate=0.005, max_depth = 10 , n_estimators=2000)\n",
    "lgbm_noon.fit(X_train_noon, y_train_noon)\n",
    "y_pred_noon = lgbm_noon.predict(X_test_noon)\n",
    "y_pred_noon[y_pred_noon < 0] = 0 \n",
    "\n",
    "lgbm_even = LGBMRegressor(boosting_type='goss',learning_rate=0.005, max_depth = 10 , n_estimators=2000)\n",
    "lgbm_even.fit(X_train_even, y_train_even)\n",
    "y_pred_even = lgbm_even.predict(X_test_even)\n",
    "y_pred_even[y_pred_even < 0] = 0 \n",
    "\n",
    "y_pred_lgbm = np.concatenate([y_pred_morn, y_pred_noon, y_pred_even])\n",
    "y_test = pd.concat([y_test_morn, y_test_noon, y_test_even], axis=0)\n",
    "\n",
    "\n",
    "print(mean_squared_error(y_test, y_pred_lgbm)**(1/2))\n",
    "print(mean_absolute_error(y_test, y_pred_lgbm))\n"
   ]
  },
  {
   "cell_type": "markdown",
   "id": "7e59f3f0",
   "metadata": {},
   "source": [
    "# Save to csv"
   ]
  },
  {
   "cell_type": "code",
   "execution_count": null,
   "id": "f4bef1a8",
   "metadata": {},
   "outputs": [],
   "source": [
    "df_test = pd.DataFrame(y_test)\n",
    "df_test['I_pred_lr'] = y_pred_lr\n",
    "df_test['I_pred_rf'] = y_pred_rf\n",
    "df_test['I_pred_svr'] = y_pred_svr\n",
    "df_test['I_pred_lgbm'] = y_pred_lgbm\n",
    "df_test.to_csv(f'df_test_{fh_step}step.csv')"
   ]
  }
 ],
 "metadata": {
  "kernelspec": {
   "display_name": "Python 3 (ipykernel)",
   "language": "python",
   "name": "python3"
  },
  "language_info": {
   "codemirror_mode": {
    "name": "ipython",
    "version": 3
   },
   "file_extension": ".py",
   "mimetype": "text/x-python",
   "name": "python",
   "nbconvert_exporter": "python",
   "pygments_lexer": "ipython3",
   "version": "3.9.13"
  },
  "toc": {
   "base_numbering": 1,
   "nav_menu": {},
   "number_sections": true,
   "sideBar": true,
   "skip_h1_title": false,
   "title_cell": "Table of Contents",
   "title_sidebar": "Contents",
   "toc_cell": false,
   "toc_position": {
    "height": "calc(100% - 180px)",
    "left": "10px",
    "top": "150px",
    "width": "409.6px"
   },
   "toc_section_display": true,
   "toc_window_display": true
  },
  "varInspector": {
   "cols": {
    "lenName": 16,
    "lenType": 16,
    "lenVar": 40
   },
   "kernels_config": {
    "python": {
     "delete_cmd_postfix": "",
     "delete_cmd_prefix": "del ",
     "library": "var_list.py",
     "varRefreshCmd": "print(var_dic_list())"
    },
    "r": {
     "delete_cmd_postfix": ") ",
     "delete_cmd_prefix": "rm(",
     "library": "var_list.r",
     "varRefreshCmd": "cat(var_dic_list()) "
    }
   },
   "types_to_exclude": [
    "module",
    "function",
    "builtin_function_or_method",
    "instance",
    "_Feature"
   ],
   "window_display": false
  }
 },
 "nbformat": 4,
 "nbformat_minor": 5
}
