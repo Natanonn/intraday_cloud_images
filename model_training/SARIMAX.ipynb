{
 "cells": [
  {
   "cell_type": "code",
   "execution_count": 42,
   "id": "cbd41357",
   "metadata": {},
   "outputs": [],
   "source": [
    "# !pip install kaleido==0.1.*\n",
    "# !pip install wandb\n",
    "# !pip install datashader\n",
    "import numpy as np\n",
    "import pandas as pd\n",
    "import matplotlib.pyplot as plt\n",
    "\n",
    "\n",
    "\n",
    "# plotly\n",
    "import plotly\n",
    "import plotly.express as px\n",
    "import plotly.graph_objects as go\n",
    "from plotly.subplots import make_subplots\n",
    "import plotly.io as pio\n",
    "import kaleido\n",
    "import statsmodels.api as sm\n",
    "from sklearn.metrics import mean_absolute_error,mean_squared_error\n",
    "\n",
    "# use ggplot2 template\n",
    "pio.templates.default = 'ggplot2'"
   ]
  },
  {
   "cell_type": "code",
   "execution_count": 2,
   "id": "bd63e8e3",
   "metadata": {},
   "outputs": [],
   "source": [
    "solar_df = pd.read_csv('processed_all_sites_HS1e0_df_not_imputed_R_channel.csv', parse_dates=['Datetime'], index_col = 'Datetime')"
   ]
  },
  {
   "cell_type": "code",
   "execution_count": 43,
   "id": "74fb892a",
   "metadata": {
    "scrolled": true
   },
   "outputs": [
    {
     "name": "stdout",
     "output_type": "stream",
     "text": [
      "1\n"
     ]
    },
    {
     "name": "stderr",
     "output_type": "stream",
     "text": [
      "C:\\Users\\User\\AppData\\Local\\Temp\\ipykernel_6544\\3303734108.py:36: SettingWithCopyWarning:\n",
      "\n",
      "\n",
      "A value is trying to be set on a copy of a slice from a DataFrame\n",
      "\n",
      "See the caveats in the documentation: https://pandas.pydata.org/pandas-docs/stable/user_guide/indexing.html#returning-a-view-versus-a-copy\n",
      "\n"
     ]
    },
    {
     "name": "stdout",
     "output_type": "stream",
     "text": [
      "2\n"
     ]
    },
    {
     "name": "stderr",
     "output_type": "stream",
     "text": [
      "C:\\Users\\User\\AppData\\Local\\Temp\\ipykernel_6544\\3303734108.py:36: SettingWithCopyWarning:\n",
      "\n",
      "\n",
      "A value is trying to be set on a copy of a slice from a DataFrame\n",
      "\n",
      "See the caveats in the documentation: https://pandas.pydata.org/pandas-docs/stable/user_guide/indexing.html#returning-a-view-versus-a-copy\n",
      "\n"
     ]
    },
    {
     "name": "stdout",
     "output_type": "stream",
     "text": [
      "3\n"
     ]
    },
    {
     "name": "stderr",
     "output_type": "stream",
     "text": [
      "C:\\Users\\User\\AppData\\Local\\Temp\\ipykernel_6544\\3303734108.py:36: SettingWithCopyWarning:\n",
      "\n",
      "\n",
      "A value is trying to be set on a copy of a slice from a DataFrame\n",
      "\n",
      "See the caveats in the documentation: https://pandas.pydata.org/pandas-docs/stable/user_guide/indexing.html#returning-a-view-versus-a-copy\n",
      "\n"
     ]
    },
    {
     "name": "stdout",
     "output_type": "stream",
     "text": [
      "4\n"
     ]
    },
    {
     "name": "stderr",
     "output_type": "stream",
     "text": [
      "C:\\Users\\User\\AppData\\Local\\Temp\\ipykernel_6544\\3303734108.py:36: SettingWithCopyWarning:\n",
      "\n",
      "\n",
      "A value is trying to be set on a copy of a slice from a DataFrame\n",
      "\n",
      "See the caveats in the documentation: https://pandas.pydata.org/pandas-docs/stable/user_guide/indexing.html#returning-a-view-versus-a-copy\n",
      "\n"
     ]
    },
    {
     "name": "stdout",
     "output_type": "stream",
     "text": [
      "6\n"
     ]
    },
    {
     "name": "stderr",
     "output_type": "stream",
     "text": [
      "C:\\Users\\User\\AppData\\Local\\Temp\\ipykernel_6544\\3303734108.py:36: SettingWithCopyWarning:\n",
      "\n",
      "\n",
      "A value is trying to be set on a copy of a slice from a DataFrame\n",
      "\n",
      "See the caveats in the documentation: https://pandas.pydata.org/pandas-docs/stable/user_guide/indexing.html#returning-a-view-versus-a-copy\n",
      "\n"
     ]
    },
    {
     "name": "stdout",
     "output_type": "stream",
     "text": [
      "7\n"
     ]
    },
    {
     "name": "stderr",
     "output_type": "stream",
     "text": [
      "C:\\Users\\User\\AppData\\Local\\Temp\\ipykernel_6544\\3303734108.py:36: SettingWithCopyWarning:\n",
      "\n",
      "\n",
      "A value is trying to be set on a copy of a slice from a DataFrame\n",
      "\n",
      "See the caveats in the documentation: https://pandas.pydata.org/pandas-docs/stable/user_guide/indexing.html#returning-a-view-versus-a-copy\n",
      "\n"
     ]
    },
    {
     "name": "stdout",
     "output_type": "stream",
     "text": [
      "8\n"
     ]
    },
    {
     "name": "stderr",
     "output_type": "stream",
     "text": [
      "C:\\Users\\User\\AppData\\Local\\Temp\\ipykernel_6544\\3303734108.py:36: SettingWithCopyWarning:\n",
      "\n",
      "\n",
      "A value is trying to be set on a copy of a slice from a DataFrame\n",
      "\n",
      "See the caveats in the documentation: https://pandas.pydata.org/pandas-docs/stable/user_guide/indexing.html#returning-a-view-versus-a-copy\n",
      "\n"
     ]
    },
    {
     "name": "stdout",
     "output_type": "stream",
     "text": [
      "9\n"
     ]
    },
    {
     "name": "stderr",
     "output_type": "stream",
     "text": [
      "C:\\Users\\User\\AppData\\Local\\Temp\\ipykernel_6544\\3303734108.py:36: SettingWithCopyWarning:\n",
      "\n",
      "\n",
      "A value is trying to be set on a copy of a slice from a DataFrame\n",
      "\n",
      "See the caveats in the documentation: https://pandas.pydata.org/pandas-docs/stable/user_guide/indexing.html#returning-a-view-versus-a-copy\n",
      "\n"
     ]
    },
    {
     "name": "stdout",
     "output_type": "stream",
     "text": [
      "10\n"
     ]
    },
    {
     "name": "stderr",
     "output_type": "stream",
     "text": [
      "C:\\Users\\User\\AppData\\Local\\Temp\\ipykernel_6544\\3303734108.py:36: SettingWithCopyWarning:\n",
      "\n",
      "\n",
      "A value is trying to be set on a copy of a slice from a DataFrame\n",
      "\n",
      "See the caveats in the documentation: https://pandas.pydata.org/pandas-docs/stable/user_guide/indexing.html#returning-a-view-versus-a-copy\n",
      "\n"
     ]
    },
    {
     "name": "stdout",
     "output_type": "stream",
     "text": [
      "11\n"
     ]
    },
    {
     "name": "stderr",
     "output_type": "stream",
     "text": [
      "C:\\Users\\User\\AppData\\Local\\Temp\\ipykernel_6544\\3303734108.py:36: SettingWithCopyWarning:\n",
      "\n",
      "\n",
      "A value is trying to be set on a copy of a slice from a DataFrame\n",
      "\n",
      "See the caveats in the documentation: https://pandas.pydata.org/pandas-docs/stable/user_guide/indexing.html#returning-a-view-versus-a-copy\n",
      "\n"
     ]
    },
    {
     "name": "stdout",
     "output_type": "stream",
     "text": [
      "12\n"
     ]
    },
    {
     "name": "stderr",
     "output_type": "stream",
     "text": [
      "C:\\Users\\User\\AppData\\Local\\Temp\\ipykernel_6544\\3303734108.py:36: SettingWithCopyWarning:\n",
      "\n",
      "\n",
      "A value is trying to be set on a copy of a slice from a DataFrame\n",
      "\n",
      "See the caveats in the documentation: https://pandas.pydata.org/pandas-docs/stable/user_guide/indexing.html#returning-a-view-versus-a-copy\n",
      "\n"
     ]
    },
    {
     "name": "stdout",
     "output_type": "stream",
     "text": [
      "14\n"
     ]
    },
    {
     "name": "stderr",
     "output_type": "stream",
     "text": [
      "C:\\Users\\User\\AppData\\Local\\Temp\\ipykernel_6544\\3303734108.py:36: SettingWithCopyWarning:\n",
      "\n",
      "\n",
      "A value is trying to be set on a copy of a slice from a DataFrame\n",
      "\n",
      "See the caveats in the documentation: https://pandas.pydata.org/pandas-docs/stable/user_guide/indexing.html#returning-a-view-versus-a-copy\n",
      "\n"
     ]
    },
    {
     "name": "stdout",
     "output_type": "stream",
     "text": [
      "15\n"
     ]
    },
    {
     "name": "stderr",
     "output_type": "stream",
     "text": [
      "C:\\Users\\User\\AppData\\Local\\Temp\\ipykernel_6544\\3303734108.py:36: SettingWithCopyWarning:\n",
      "\n",
      "\n",
      "A value is trying to be set on a copy of a slice from a DataFrame\n",
      "\n",
      "See the caveats in the documentation: https://pandas.pydata.org/pandas-docs/stable/user_guide/indexing.html#returning-a-view-versus-a-copy\n",
      "\n"
     ]
    },
    {
     "name": "stdout",
     "output_type": "stream",
     "text": [
      "16\n"
     ]
    },
    {
     "name": "stderr",
     "output_type": "stream",
     "text": [
      "C:\\Users\\User\\AppData\\Local\\Temp\\ipykernel_6544\\3303734108.py:36: SettingWithCopyWarning:\n",
      "\n",
      "\n",
      "A value is trying to be set on a copy of a slice from a DataFrame\n",
      "\n",
      "See the caveats in the documentation: https://pandas.pydata.org/pandas-docs/stable/user_guide/indexing.html#returning-a-view-versus-a-copy\n",
      "\n"
     ]
    },
    {
     "name": "stdout",
     "output_type": "stream",
     "text": [
      "17\n"
     ]
    },
    {
     "name": "stderr",
     "output_type": "stream",
     "text": [
      "C:\\Users\\User\\AppData\\Local\\Temp\\ipykernel_6544\\3303734108.py:36: SettingWithCopyWarning:\n",
      "\n",
      "\n",
      "A value is trying to be set on a copy of a slice from a DataFrame\n",
      "\n",
      "See the caveats in the documentation: https://pandas.pydata.org/pandas-docs/stable/user_guide/indexing.html#returning-a-view-versus-a-copy\n",
      "\n"
     ]
    },
    {
     "name": "stdout",
     "output_type": "stream",
     "text": [
      "18\n"
     ]
    },
    {
     "name": "stderr",
     "output_type": "stream",
     "text": [
      "C:\\Users\\User\\AppData\\Local\\Temp\\ipykernel_6544\\3303734108.py:36: SettingWithCopyWarning:\n",
      "\n",
      "\n",
      "A value is trying to be set on a copy of a slice from a DataFrame\n",
      "\n",
      "See the caveats in the documentation: https://pandas.pydata.org/pandas-docs/stable/user_guide/indexing.html#returning-a-view-versus-a-copy\n",
      "\n"
     ]
    },
    {
     "name": "stdout",
     "output_type": "stream",
     "text": [
      "19\n"
     ]
    },
    {
     "name": "stderr",
     "output_type": "stream",
     "text": [
      "C:\\Users\\User\\AppData\\Local\\Temp\\ipykernel_6544\\3303734108.py:36: SettingWithCopyWarning:\n",
      "\n",
      "\n",
      "A value is trying to be set on a copy of a slice from a DataFrame\n",
      "\n",
      "See the caveats in the documentation: https://pandas.pydata.org/pandas-docs/stable/user_guide/indexing.html#returning-a-view-versus-a-copy\n",
      "\n"
     ]
    },
    {
     "name": "stdout",
     "output_type": "stream",
     "text": [
      "20\n"
     ]
    },
    {
     "name": "stderr",
     "output_type": "stream",
     "text": [
      "C:\\Users\\User\\AppData\\Local\\Temp\\ipykernel_6544\\3303734108.py:36: SettingWithCopyWarning:\n",
      "\n",
      "\n",
      "A value is trying to be set on a copy of a slice from a DataFrame\n",
      "\n",
      "See the caveats in the documentation: https://pandas.pydata.org/pandas-docs/stable/user_guide/indexing.html#returning-a-view-versus-a-copy\n",
      "\n"
     ]
    },
    {
     "name": "stdout",
     "output_type": "stream",
     "text": [
      "21\n"
     ]
    },
    {
     "name": "stderr",
     "output_type": "stream",
     "text": [
      "C:\\Users\\User\\AppData\\Local\\Temp\\ipykernel_6544\\3303734108.py:36: SettingWithCopyWarning:\n",
      "\n",
      "\n",
      "A value is trying to be set on a copy of a slice from a DataFrame\n",
      "\n",
      "See the caveats in the documentation: https://pandas.pydata.org/pandas-docs/stable/user_guide/indexing.html#returning-a-view-versus-a-copy\n",
      "\n"
     ]
    },
    {
     "name": "stdout",
     "output_type": "stream",
     "text": [
      "22\n"
     ]
    },
    {
     "name": "stderr",
     "output_type": "stream",
     "text": [
      "C:\\Users\\User\\AppData\\Local\\Temp\\ipykernel_6544\\3303734108.py:36: SettingWithCopyWarning:\n",
      "\n",
      "\n",
      "A value is trying to be set on a copy of a slice from a DataFrame\n",
      "\n",
      "See the caveats in the documentation: https://pandas.pydata.org/pandas-docs/stable/user_guide/indexing.html#returning-a-view-versus-a-copy\n",
      "\n"
     ]
    },
    {
     "name": "stdout",
     "output_type": "stream",
     "text": [
      "23\n"
     ]
    },
    {
     "name": "stderr",
     "output_type": "stream",
     "text": [
      "C:\\Users\\User\\AppData\\Local\\Temp\\ipykernel_6544\\3303734108.py:36: SettingWithCopyWarning:\n",
      "\n",
      "\n",
      "A value is trying to be set on a copy of a slice from a DataFrame\n",
      "\n",
      "See the caveats in the documentation: https://pandas.pydata.org/pandas-docs/stable/user_guide/indexing.html#returning-a-view-versus-a-copy\n",
      "\n"
     ]
    },
    {
     "name": "stdout",
     "output_type": "stream",
     "text": [
      "24\n"
     ]
    },
    {
     "name": "stderr",
     "output_type": "stream",
     "text": [
      "C:\\Users\\User\\AppData\\Local\\Temp\\ipykernel_6544\\3303734108.py:36: SettingWithCopyWarning:\n",
      "\n",
      "\n",
      "A value is trying to be set on a copy of a slice from a DataFrame\n",
      "\n",
      "See the caveats in the documentation: https://pandas.pydata.org/pandas-docs/stable/user_guide/indexing.html#returning-a-view-versus-a-copy\n",
      "\n"
     ]
    },
    {
     "name": "stdout",
     "output_type": "stream",
     "text": [
      "25\n"
     ]
    },
    {
     "name": "stderr",
     "output_type": "stream",
     "text": [
      "C:\\Users\\User\\AppData\\Local\\Temp\\ipykernel_6544\\3303734108.py:36: SettingWithCopyWarning:\n",
      "\n",
      "\n",
      "A value is trying to be set on a copy of a slice from a DataFrame\n",
      "\n",
      "See the caveats in the documentation: https://pandas.pydata.org/pandas-docs/stable/user_guide/indexing.html#returning-a-view-versus-a-copy\n",
      "\n"
     ]
    },
    {
     "name": "stdout",
     "output_type": "stream",
     "text": [
      "26\n"
     ]
    },
    {
     "name": "stderr",
     "output_type": "stream",
     "text": [
      "C:\\Users\\User\\AppData\\Local\\Temp\\ipykernel_6544\\3303734108.py:36: SettingWithCopyWarning:\n",
      "\n",
      "\n",
      "A value is trying to be set on a copy of a slice from a DataFrame\n",
      "\n",
      "See the caveats in the documentation: https://pandas.pydata.org/pandas-docs/stable/user_guide/indexing.html#returning-a-view-versus-a-copy\n",
      "\n"
     ]
    },
    {
     "name": "stdout",
     "output_type": "stream",
     "text": [
      "27\n"
     ]
    },
    {
     "name": "stderr",
     "output_type": "stream",
     "text": [
      "C:\\Users\\User\\AppData\\Local\\Temp\\ipykernel_6544\\3303734108.py:36: SettingWithCopyWarning:\n",
      "\n",
      "\n",
      "A value is trying to be set on a copy of a slice from a DataFrame\n",
      "\n",
      "See the caveats in the documentation: https://pandas.pydata.org/pandas-docs/stable/user_guide/indexing.html#returning-a-view-versus-a-copy\n",
      "\n"
     ]
    },
    {
     "name": "stdout",
     "output_type": "stream",
     "text": [
      "28\n"
     ]
    },
    {
     "name": "stderr",
     "output_type": "stream",
     "text": [
      "C:\\Users\\User\\AppData\\Local\\Temp\\ipykernel_6544\\3303734108.py:36: SettingWithCopyWarning:\n",
      "\n",
      "\n",
      "A value is trying to be set on a copy of a slice from a DataFrame\n",
      "\n",
      "See the caveats in the documentation: https://pandas.pydata.org/pandas-docs/stable/user_guide/indexing.html#returning-a-view-versus-a-copy\n",
      "\n"
     ]
    },
    {
     "name": "stdout",
     "output_type": "stream",
     "text": [
      "29\n"
     ]
    },
    {
     "name": "stderr",
     "output_type": "stream",
     "text": [
      "C:\\Users\\User\\AppData\\Local\\Temp\\ipykernel_6544\\3303734108.py:36: SettingWithCopyWarning:\n",
      "\n",
      "\n",
      "A value is trying to be set on a copy of a slice from a DataFrame\n",
      "\n",
      "See the caveats in the documentation: https://pandas.pydata.org/pandas-docs/stable/user_guide/indexing.html#returning-a-view-versus-a-copy\n",
      "\n"
     ]
    },
    {
     "name": "stdout",
     "output_type": "stream",
     "text": [
      "30\n"
     ]
    },
    {
     "name": "stderr",
     "output_type": "stream",
     "text": [
      "C:\\Users\\User\\AppData\\Local\\Temp\\ipykernel_6544\\3303734108.py:36: SettingWithCopyWarning:\n",
      "\n",
      "\n",
      "A value is trying to be set on a copy of a slice from a DataFrame\n",
      "\n",
      "See the caveats in the documentation: https://pandas.pydata.org/pandas-docs/stable/user_guide/indexing.html#returning-a-view-versus-a-copy\n",
      "\n"
     ]
    },
    {
     "name": "stdout",
     "output_type": "stream",
     "text": [
      "34\n"
     ]
    },
    {
     "name": "stderr",
     "output_type": "stream",
     "text": [
      "C:\\Users\\User\\AppData\\Local\\Temp\\ipykernel_6544\\3303734108.py:36: SettingWithCopyWarning:\n",
      "\n",
      "\n",
      "A value is trying to be set on a copy of a slice from a DataFrame\n",
      "\n",
      "See the caveats in the documentation: https://pandas.pydata.org/pandas-docs/stable/user_guide/indexing.html#returning-a-view-versus-a-copy\n",
      "\n"
     ]
    },
    {
     "name": "stdout",
     "output_type": "stream",
     "text": [
      "35\n"
     ]
    },
    {
     "name": "stderr",
     "output_type": "stream",
     "text": [
      "C:\\Users\\User\\AppData\\Local\\Temp\\ipykernel_6544\\3303734108.py:36: SettingWithCopyWarning:\n",
      "\n",
      "\n",
      "A value is trying to be set on a copy of a slice from a DataFrame\n",
      "\n",
      "See the caveats in the documentation: https://pandas.pydata.org/pandas-docs/stable/user_guide/indexing.html#returning-a-view-versus-a-copy\n",
      "\n"
     ]
    },
    {
     "name": "stdout",
     "output_type": "stream",
     "text": [
      "36\n"
     ]
    },
    {
     "name": "stderr",
     "output_type": "stream",
     "text": [
      "C:\\Users\\User\\AppData\\Local\\Temp\\ipykernel_6544\\3303734108.py:36: SettingWithCopyWarning:\n",
      "\n",
      "\n",
      "A value is trying to be set on a copy of a slice from a DataFrame\n",
      "\n",
      "See the caveats in the documentation: https://pandas.pydata.org/pandas-docs/stable/user_guide/indexing.html#returning-a-view-versus-a-copy\n",
      "\n"
     ]
    },
    {
     "name": "stdout",
     "output_type": "stream",
     "text": [
      "37\n"
     ]
    },
    {
     "name": "stderr",
     "output_type": "stream",
     "text": [
      "C:\\Users\\User\\AppData\\Local\\Temp\\ipykernel_6544\\3303734108.py:36: SettingWithCopyWarning:\n",
      "\n",
      "\n",
      "A value is trying to be set on a copy of a slice from a DataFrame\n",
      "\n",
      "See the caveats in the documentation: https://pandas.pydata.org/pandas-docs/stable/user_guide/indexing.html#returning-a-view-versus-a-copy\n",
      "\n"
     ]
    },
    {
     "name": "stdout",
     "output_type": "stream",
     "text": [
      "39\n"
     ]
    },
    {
     "name": "stderr",
     "output_type": "stream",
     "text": [
      "C:\\Users\\User\\AppData\\Local\\Temp\\ipykernel_6544\\3303734108.py:36: SettingWithCopyWarning:\n",
      "\n",
      "\n",
      "A value is trying to be set on a copy of a slice from a DataFrame\n",
      "\n",
      "See the caveats in the documentation: https://pandas.pydata.org/pandas-docs/stable/user_guide/indexing.html#returning-a-view-versus-a-copy\n",
      "\n"
     ]
    },
    {
     "name": "stdout",
     "output_type": "stream",
     "text": [
      "40\n"
     ]
    },
    {
     "name": "stderr",
     "output_type": "stream",
     "text": [
      "C:\\Users\\User\\AppData\\Local\\Temp\\ipykernel_6544\\3303734108.py:36: SettingWithCopyWarning:\n",
      "\n",
      "\n",
      "A value is trying to be set on a copy of a slice from a DataFrame\n",
      "\n",
      "See the caveats in the documentation: https://pandas.pydata.org/pandas-docs/stable/user_guide/indexing.html#returning-a-view-versus-a-copy\n",
      "\n"
     ]
    },
    {
     "name": "stdout",
     "output_type": "stream",
     "text": [
      "41\n"
     ]
    },
    {
     "name": "stderr",
     "output_type": "stream",
     "text": [
      "C:\\Users\\User\\AppData\\Local\\Temp\\ipykernel_6544\\3303734108.py:36: SettingWithCopyWarning:\n",
      "\n",
      "\n",
      "A value is trying to be set on a copy of a slice from a DataFrame\n",
      "\n",
      "See the caveats in the documentation: https://pandas.pydata.org/pandas-docs/stable/user_guide/indexing.html#returning-a-view-versus-a-copy\n",
      "\n"
     ]
    },
    {
     "name": "stdout",
     "output_type": "stream",
     "text": [
      "42\n"
     ]
    },
    {
     "name": "stderr",
     "output_type": "stream",
     "text": [
      "C:\\Users\\User\\AppData\\Local\\Temp\\ipykernel_6544\\3303734108.py:36: SettingWithCopyWarning:\n",
      "\n",
      "\n",
      "A value is trying to be set on a copy of a slice from a DataFrame\n",
      "\n",
      "See the caveats in the documentation: https://pandas.pydata.org/pandas-docs/stable/user_guide/indexing.html#returning-a-view-versus-a-copy\n",
      "\n"
     ]
    },
    {
     "name": "stdout",
     "output_type": "stream",
     "text": [
      "43\n"
     ]
    },
    {
     "name": "stderr",
     "output_type": "stream",
     "text": [
      "C:\\Users\\User\\AppData\\Local\\Temp\\ipykernel_6544\\3303734108.py:36: SettingWithCopyWarning:\n",
      "\n",
      "\n",
      "A value is trying to be set on a copy of a slice from a DataFrame\n",
      "\n",
      "See the caveats in the documentation: https://pandas.pydata.org/pandas-docs/stable/user_guide/indexing.html#returning-a-view-versus-a-copy\n",
      "\n"
     ]
    },
    {
     "name": "stdout",
     "output_type": "stream",
     "text": [
      "46\n"
     ]
    },
    {
     "name": "stderr",
     "output_type": "stream",
     "text": [
      "C:\\Users\\User\\AppData\\Local\\Temp\\ipykernel_6544\\3303734108.py:36: SettingWithCopyWarning:\n",
      "\n",
      "\n",
      "A value is trying to be set on a copy of a slice from a DataFrame\n",
      "\n",
      "See the caveats in the documentation: https://pandas.pydata.org/pandas-docs/stable/user_guide/indexing.html#returning-a-view-versus-a-copy\n",
      "\n"
     ]
    },
    {
     "name": "stdout",
     "output_type": "stream",
     "text": [
      "47\n"
     ]
    },
    {
     "name": "stderr",
     "output_type": "stream",
     "text": [
      "C:\\Users\\User\\AppData\\Local\\Temp\\ipykernel_6544\\3303734108.py:36: SettingWithCopyWarning:\n",
      "\n",
      "\n",
      "A value is trying to be set on a copy of a slice from a DataFrame\n",
      "\n",
      "See the caveats in the documentation: https://pandas.pydata.org/pandas-docs/stable/user_guide/indexing.html#returning-a-view-versus-a-copy\n",
      "\n"
     ]
    },
    {
     "name": "stdout",
     "output_type": "stream",
     "text": [
      "48\n"
     ]
    },
    {
     "name": "stderr",
     "output_type": "stream",
     "text": [
      "C:\\Users\\User\\AppData\\Local\\Temp\\ipykernel_6544\\3303734108.py:36: SettingWithCopyWarning:\n",
      "\n",
      "\n",
      "A value is trying to be set on a copy of a slice from a DataFrame\n",
      "\n",
      "See the caveats in the documentation: https://pandas.pydata.org/pandas-docs/stable/user_guide/indexing.html#returning-a-view-versus-a-copy\n",
      "\n"
     ]
    },
    {
     "name": "stdout",
     "output_type": "stream",
     "text": [
      "49\n"
     ]
    },
    {
     "name": "stderr",
     "output_type": "stream",
     "text": [
      "C:\\Users\\User\\AppData\\Local\\Temp\\ipykernel_6544\\3303734108.py:36: SettingWithCopyWarning:\n",
      "\n",
      "\n",
      "A value is trying to be set on a copy of a slice from a DataFrame\n",
      "\n",
      "See the caveats in the documentation: https://pandas.pydata.org/pandas-docs/stable/user_guide/indexing.html#returning-a-view-versus-a-copy\n",
      "\n"
     ]
    },
    {
     "name": "stdout",
     "output_type": "stream",
     "text": [
      "50\n"
     ]
    },
    {
     "name": "stderr",
     "output_type": "stream",
     "text": [
      "C:\\Users\\User\\AppData\\Local\\Temp\\ipykernel_6544\\3303734108.py:36: SettingWithCopyWarning:\n",
      "\n",
      "\n",
      "A value is trying to be set on a copy of a slice from a DataFrame\n",
      "\n",
      "See the caveats in the documentation: https://pandas.pydata.org/pandas-docs/stable/user_guide/indexing.html#returning-a-view-versus-a-copy\n",
      "\n"
     ]
    },
    {
     "name": "stdout",
     "output_type": "stream",
     "text": [
      "51\n"
     ]
    },
    {
     "name": "stderr",
     "output_type": "stream",
     "text": [
      "C:\\Users\\User\\AppData\\Local\\Temp\\ipykernel_6544\\3303734108.py:36: SettingWithCopyWarning:\n",
      "\n",
      "\n",
      "A value is trying to be set on a copy of a slice from a DataFrame\n",
      "\n",
      "See the caveats in the documentation: https://pandas.pydata.org/pandas-docs/stable/user_guide/indexing.html#returning-a-view-versus-a-copy\n",
      "\n"
     ]
    },
    {
     "name": "stdout",
     "output_type": "stream",
     "text": [
      "52\n"
     ]
    },
    {
     "name": "stderr",
     "output_type": "stream",
     "text": [
      "C:\\Users\\User\\AppData\\Local\\Temp\\ipykernel_6544\\3303734108.py:36: SettingWithCopyWarning:\n",
      "\n",
      "\n",
      "A value is trying to be set on a copy of a slice from a DataFrame\n",
      "\n",
      "See the caveats in the documentation: https://pandas.pydata.org/pandas-docs/stable/user_guide/indexing.html#returning-a-view-versus-a-copy\n",
      "\n"
     ]
    },
    {
     "name": "stdout",
     "output_type": "stream",
     "text": [
      "53\n"
     ]
    },
    {
     "name": "stderr",
     "output_type": "stream",
     "text": [
      "C:\\Users\\User\\AppData\\Local\\Temp\\ipykernel_6544\\3303734108.py:36: SettingWithCopyWarning:\n",
      "\n",
      "\n",
      "A value is trying to be set on a copy of a slice from a DataFrame\n",
      "\n",
      "See the caveats in the documentation: https://pandas.pydata.org/pandas-docs/stable/user_guide/indexing.html#returning-a-view-versus-a-copy\n",
      "\n"
     ]
    },
    {
     "name": "stdout",
     "output_type": "stream",
     "text": [
      "55\n"
     ]
    },
    {
     "name": "stderr",
     "output_type": "stream",
     "text": [
      "C:\\Users\\User\\AppData\\Local\\Temp\\ipykernel_6544\\3303734108.py:36: SettingWithCopyWarning:\n",
      "\n",
      "\n",
      "A value is trying to be set on a copy of a slice from a DataFrame\n",
      "\n",
      "See the caveats in the documentation: https://pandas.pydata.org/pandas-docs/stable/user_guide/indexing.html#returning-a-view-versus-a-copy\n",
      "\n"
     ]
    },
    {
     "name": "stdout",
     "output_type": "stream",
     "text": [
      "56\n"
     ]
    },
    {
     "name": "stderr",
     "output_type": "stream",
     "text": [
      "C:\\Users\\User\\AppData\\Local\\Temp\\ipykernel_6544\\3303734108.py:36: SettingWithCopyWarning:\n",
      "\n",
      "\n",
      "A value is trying to be set on a copy of a slice from a DataFrame\n",
      "\n",
      "See the caveats in the documentation: https://pandas.pydata.org/pandas-docs/stable/user_guide/indexing.html#returning-a-view-versus-a-copy\n",
      "\n"
     ]
    }
   ],
   "source": [
    "## no cloud\n",
    "\n",
    "start_train_date = '2022-02-05'\n",
    "end_train_date = '2022-10-31'\n",
    "start_test_date = '2022-11-01' #'2022-02-05'\n",
    "end_test_date = '2023-02-28'\n",
    "p,d,q,P,D,Q,T = 1,0,1,0,1,1,24\n",
    "step_of_forecast = 8\n",
    "total_lag = D*T+p\n",
    "\n",
    "no_site = [e for e in range(1,5)]\n",
    "no_site = no_site + [e for e in range(6,13)]\n",
    "no_site = no_site + [e for e in range(14,31)]\n",
    "no_site = no_site + [e for e in range(34,38)]\n",
    "no_site = no_site + [e for e in range(39,44)]\n",
    "no_site = no_site + [e for e in range(46,54)]\n",
    "no_site = no_site + [e for e in range(55,57)]\n",
    "\n",
    "y_merge = pd.DataFrame()\n",
    "I1 = pd.DataFrame()\n",
    "I2 = pd.DataFrame()\n",
    "I3 = pd.DataFrame()\n",
    "I4 = pd.DataFrame()\n",
    "I5 = pd.DataFrame()\n",
    "I6 = pd.DataFrame()\n",
    "I7 = pd.DataFrame()\n",
    "I8 = pd.DataFrame()\n",
    "\n",
    "for i in no_site:\n",
    "    \n",
    "    print(i)\n",
    "    \n",
    "    ## set up data\n",
    "    site = solar_df[solar_df['site'] == i]\n",
    "    site_train_test = site[['iclr','I']]\n",
    "    site_train_test.dropna(inplace = True)\n",
    "    X = site_train_test[['iclr']]\n",
    "    y = site_train_test[['I']].loc[start_train_date:end_test_date]\n",
    "\n",
    "\n",
    "    X_train, y_train = X.loc[start_train_date:end_train_date], np.asarray(y.loc[start_train_date:end_train_date])\n",
    "    X_test, y_test = X.loc[start_test_date:end_test_date], np.asarray(y.loc[start_test_date:end_test_date])\n",
    "#     y_endog = np.asarray(y.loc[start_train_date:end_endog_date])\n",
    "    y_endog = y_train[-total_lag+1:]\n",
    "\n",
    "    I_1_step = []\n",
    "    I_2_step = []\n",
    "    I_3_step = []\n",
    "    I_4_step = []\n",
    "    I_5_step = []\n",
    "    I_6_step = []\n",
    "    I_7_step = []\n",
    "    I_8_step = []\n",
    "\n",
    "    endo = y_endog[-total_lag+1:]\n",
    "    ## dummy variable since the 'extend' function needs to put the argument 'exog'\n",
    "    exo = np.array(X_train.iloc[-total_lag+1:])\n",
    "\n",
    "\n",
    "    ## model fitting\n",
    "    model = sm.tsa.statespace.SARIMAX(y_train, exog=np.array(X_train), order = (p,d,q), seasonal_order = (P,D,Q,T))\n",
    "    result = model.fit()\n",
    "\n",
    "    ## forecasting\n",
    "    for j in range(1,len(y.loc[start_test_date:end_test_date])-step_of_forecast):\n",
    "      y_pred_1 = result.forecast(steps = 8, exog=X_test.iloc[-len(y.loc[start_test_date:end_test_date])+j:\n",
    "                                                             -len(y.loc[start_test_date:end_test_date])+j+step_of_forecast])\n",
    "      I_1_step.append(y_pred_1[0])\n",
    "      I_2_step.append(y_pred_1[1])\n",
    "      I_3_step.append(y_pred_1[2])\n",
    "      I_4_step.append(y_pred_1[3])\n",
    "      I_5_step.append(y_pred_1[4])\n",
    "      I_6_step.append(y_pred_1[5])\n",
    "      I_7_step.append(y_pred_1[6])\n",
    "      I_8_step.append(y_pred_1[7])\n",
    "\n",
    "      endo = np.concatenate((endo[-total_lag+1:],y_test[j:j+1]))\n",
    "      exo = np.concatenate((exo[-total_lag+1:],np.array(X_test.iloc[j:j+1])))\n",
    "      result = result.extend(endog = endo, exog = exo)\n",
    "        \n",
    "    I_1_step = np.array(I_1_step)\n",
    "    I_2_step = np.array(I_2_step)\n",
    "    I_3_step = np.array(I_3_step)\n",
    "    I_4_step = np.array(I_4_step)\n",
    "    I_5_step = np.array(I_5_step)\n",
    "    I_6_step = np.array(I_6_step)\n",
    "    I_7_step = np.array(I_7_step)\n",
    "    I_8_step = np.array(I_8_step)\n",
    "    \n",
    "    I_1_step[I_1_step < 0] = 0\n",
    "    I_2_step[I_2_step < 0] = 0\n",
    "    I_3_step[I_3_step < 0] = 0\n",
    "    I_4_step[I_4_step < 0] = 0\n",
    "    I_5_step[I_5_step < 0] = 0\n",
    "    I_6_step[I_6_step < 0] = 0\n",
    "    I_7_step[I_7_step < 0] = 0\n",
    "    I_8_step[I_8_step < 0] = 0\n",
    "    \n",
    "    y_forecast = pd.DataFrame()\n",
    "    y_forecast['forecast_1_step'] = I_1_step\n",
    "    y_forecast['forecast_2_step'] = I_2_step\n",
    "    y_forecast['forecast_3_step'] = I_3_step\n",
    "    y_forecast['forecast_4_step'] = I_4_step\n",
    "    y_forecast['forecast_5_step'] = I_5_step\n",
    "    y_forecast['forecast_6_step'] = I_6_step\n",
    "    y_forecast['forecast_7_step'] = I_7_step\n",
    "    y_forecast['forecast_8_step'] = I_8_step\n",
    "    y_forecast['Datetime'] = np.array(y.iloc[-len(y.loc[start_test_date:end_test_date]):-step_of_forecast-1].index)\n",
    "    y_forecast = y_forecast.set_index(y_forecast['Datetime'])\n",
    "    y_forecast.drop('Datetime', axis=1, inplace=True)\n",
    "\n",
    "\n",
    "\n",
    "    y_test_all = site[['I_lead_1step','I_lead_2step','I_lead_3step','I_lead_4step','I_lead_5step','I_lead_6step','I_lead_7step','I_lead_8step']]\n",
    "    y_test_all = y_test_all.loc[start_test_date:end_test_date]\n",
    "    error_1_step = pd.merge(y_test_all['I_lead_1step'].dropna(), y_forecast['forecast_1_step'], how = 'inner', left_index = True, right_index = True)\n",
    "    error_2_step = pd.merge(y_test_all['I_lead_2step'].dropna(), y_forecast['forecast_2_step'], how = 'inner', left_index = True, right_index = True)\n",
    "    error_3_step = pd.merge(y_test_all['I_lead_3step'].dropna(), y_forecast['forecast_3_step'], how = 'inner', left_index = True, right_index = True)\n",
    "    error_4_step = pd.merge(y_test_all['I_lead_4step'].dropna(), y_forecast['forecast_4_step'], how = 'inner', left_index = True, right_index = True)\n",
    "    error_5_step = pd.merge(y_test_all['I_lead_5step'].dropna(), y_forecast['forecast_5_step'], how = 'inner', left_index = True, right_index = True)\n",
    "    error_6_step = pd.merge(y_test_all['I_lead_6step'].dropna(), y_forecast['forecast_6_step'], how = 'inner', left_index = True, right_index = True)\n",
    "    error_7_step = pd.merge(y_test_all['I_lead_7step'].dropna(), y_forecast['forecast_7_step'], how = 'inner', left_index = True, right_index = True)\n",
    "    error_8_step = pd.merge(y_test_all['I_lead_8step'].dropna(), y_forecast['forecast_8_step'], how = 'inner', left_index = True, right_index = True)\n",
    "    \n",
    "    error_1_step = error_1_step.between_time('06:29','16:59')\n",
    "    error_2_step = error_2_step.between_time('06:29','16:29')\n",
    "    error_3_step = error_3_step.between_time('06:29','15:59')\n",
    "    error_4_step = error_4_step.between_time('06:29','15:29')\n",
    "    error_5_step = error_5_step.between_time('06:29','14:59')\n",
    "    error_6_step = error_6_step.between_time('06:29','14:29')\n",
    "    error_7_step = error_7_step.between_time('06:29','13:59')\n",
    "    error_8_step = error_8_step.between_time('06:29','13:29')\n",
    "\n",
    "    y_pre_merge = pd.DataFrame()\n",
    "    y_pre_merge = pd.merge(y_pre_merge,error_1_step,how = 'outer', left_index = True, right_index = True)\n",
    "    y_pre_merge = pd.merge(y_pre_merge,error_2_step,how = 'outer', left_index = True, right_index = True)\n",
    "    y_pre_merge = pd.merge(y_pre_merge,error_3_step,how = 'outer', left_index = True, right_index = True)\n",
    "    y_pre_merge = pd.merge(y_pre_merge,error_4_step,how = 'outer', left_index = True, right_index = True)\n",
    "    y_pre_merge = pd.merge(y_pre_merge,error_5_step,how = 'outer', left_index = True, right_index = True)\n",
    "    y_pre_merge = pd.merge(y_pre_merge,error_6_step,how = 'outer', left_index = True, right_index = True)\n",
    "    y_pre_merge = pd.merge(y_pre_merge,error_7_step,how = 'outer', left_index = True, right_index = True)\n",
    "    y_pre_merge = pd.merge(y_pre_merge,error_8_step,how = 'outer', left_index = True, right_index = True)\n",
    "    y_pre_merge['site'] = i\n",
    "#     y_pre_merge.drop(['I_lead_1step','I_lead_2step','I_lead_3step','I_lead_4step','I_lead_5step','I_lead_6step','I_lead_7step','I_lead_8step'],axis = 1, inplace = True)\n",
    "    y_merge = pd.concat([y_merge, y_pre_merge])\n",
    "\n",
    "\n",
    "    error_1_step['site'] = i\n",
    "    error_2_step['site'] = i\n",
    "    error_3_step['site'] = i\n",
    "    error_4_step['site'] = i\n",
    "    error_5_step['site'] = i\n",
    "    error_6_step['site'] = i\n",
    "    error_7_step['site'] = i\n",
    "    error_8_step['site'] = i\n",
    "    I1 = pd.concat([I1,error_1_step])\n",
    "    I2 = pd.concat([I2,error_2_step])\n",
    "    I3 = pd.concat([I3,error_3_step])\n",
    "    I4 = pd.concat([I4,error_4_step])\n",
    "    I5 = pd.concat([I5,error_5_step])\n",
    "    I6 = pd.concat([I6,error_6_step])\n",
    "    I7 = pd.concat([I7,error_7_step])\n",
    "    I8 = pd.concat([I8,error_8_step])\n",
    "\n",
    "#   return y_merge\n",
    "#   return I1,I2,I3,I4,I5,I6,I7,I8"
   ]
  },
  {
   "cell_type": "code",
   "execution_count": 44,
   "id": "4f2cf5d9",
   "metadata": {
    "scrolled": true
   },
   "outputs": [],
   "source": [
    "y_merge.to_csv('y_merge.csv')"
   ]
  },
  {
   "cell_type": "code",
   "execution_count": 47,
   "id": "89bba88d",
   "metadata": {},
   "outputs": [],
   "source": [
    "def get_metric(y_merge):\n",
    "    RMSE_list = []\n",
    "    MAE_list = []\n",
    "    NRMSE_list = []\n",
    "    NMAE_list = []\n",
    "    \n",
    "    for i in range(1,9):\n",
    "        pre_df = y_merge[[f'I_lead_{i}step',f'forecast_{i}_step']].dropna()\n",
    "        MAE = mean_absolute_error(pre_df[f'I_lead_{i}step'],pre_df[f'forecast_{i}_step'])\n",
    "        RMSE = mean_squared_error(pre_df[f'I_lead_{i}step'],pre_df[f'forecast_{i}_step'])**0.5\n",
    "        MAE_list.append(MAE)\n",
    "        RMSE_list.append(RMSE)\n",
    "        NMAE_list.append(MAE/pre_df[f'I_lead_{i}step'].mean()*100)\n",
    "        NRMSE_list.append(RMSE/pre_df[f'I_lead_{i}step'].mean()*100)\n",
    "    metric_list = [MAE_list,RMSE_list,NMAE_list,NRMSE_list]\n",
    "    metric_df = pd.DataFrame(metric_list,index = ['MAE','RMSE','NMAE','NRMSE'])\n",
    "    metric_df = metric_df.rename(columns = {0:'t+30',1:'t+60',2:'t+90',3:'t+120'\n",
    "                                           ,4:'t+150',5:'t+30',6:'t+30',7:'t+30'})\n",
    "    \n",
    "    return MAE_list,RMSE_list,NMAE_list,NRMSE_list,metric_df"
   ]
  },
  {
   "cell_type": "code",
   "execution_count": 48,
   "id": "de29ead5",
   "metadata": {},
   "outputs": [],
   "source": [
    "MAE_list,RMSE_list,NMAE_list,NRMSE_list,metric_df = get_metric(y_merge)\n",
    "MAE_cloud_list,RMSE_cloud_list,NMAE_cloud_list,NRMSE_cloud_list,metric_cloud_df = get_metric(y_merge_cloud)"
   ]
  },
  {
   "cell_type": "code",
   "execution_count": 49,
   "id": "6a433021",
   "metadata": {
    "scrolled": true
   },
   "outputs": [
    {
     "data": {
      "text/html": [
       "<div>\n",
       "<style scoped>\n",
       "    .dataframe tbody tr th:only-of-type {\n",
       "        vertical-align: middle;\n",
       "    }\n",
       "\n",
       "    .dataframe tbody tr th {\n",
       "        vertical-align: top;\n",
       "    }\n",
       "\n",
       "    .dataframe thead th {\n",
       "        text-align: right;\n",
       "    }\n",
       "</style>\n",
       "<table border=\"1\" class=\"dataframe\">\n",
       "  <thead>\n",
       "    <tr style=\"text-align: right;\">\n",
       "      <th></th>\n",
       "      <th>t+30</th>\n",
       "      <th>t+60</th>\n",
       "      <th>t+90</th>\n",
       "      <th>t+120</th>\n",
       "      <th>t+150</th>\n",
       "      <th>t+30</th>\n",
       "      <th>t+30</th>\n",
       "      <th>t+30</th>\n",
       "    </tr>\n",
       "  </thead>\n",
       "  <tbody>\n",
       "    <tr>\n",
       "      <th>MAE</th>\n",
       "      <td>68.328743</td>\n",
       "      <td>90.662231</td>\n",
       "      <td>106.814749</td>\n",
       "      <td>118.659194</td>\n",
       "      <td>127.330181</td>\n",
       "      <td>133.161393</td>\n",
       "      <td>136.576016</td>\n",
       "      <td>137.693743</td>\n",
       "    </tr>\n",
       "    <tr>\n",
       "      <th>RMSE</th>\n",
       "      <td>97.342371</td>\n",
       "      <td>118.962131</td>\n",
       "      <td>134.668495</td>\n",
       "      <td>146.663457</td>\n",
       "      <td>155.984188</td>\n",
       "      <td>162.560380</td>\n",
       "      <td>166.620124</td>\n",
       "      <td>168.364670</td>\n",
       "    </tr>\n",
       "    <tr>\n",
       "      <th>NMAE</th>\n",
       "      <td>14.851088</td>\n",
       "      <td>18.871241</td>\n",
       "      <td>21.412516</td>\n",
       "      <td>23.086523</td>\n",
       "      <td>24.255852</td>\n",
       "      <td>25.070533</td>\n",
       "      <td>25.655628</td>\n",
       "      <td>26.067564</td>\n",
       "    </tr>\n",
       "    <tr>\n",
       "      <th>NRMSE</th>\n",
       "      <td>21.157131</td>\n",
       "      <td>24.761833</td>\n",
       "      <td>26.996190</td>\n",
       "      <td>28.535077</td>\n",
       "      <td>29.714317</td>\n",
       "      <td>30.605533</td>\n",
       "      <td>31.299375</td>\n",
       "      <td>31.874046</td>\n",
       "    </tr>\n",
       "  </tbody>\n",
       "</table>\n",
       "</div>"
      ],
      "text/plain": [
       "            t+30        t+60        t+90       t+120       t+150        t+30  \\\n",
       "MAE    68.328743   90.662231  106.814749  118.659194  127.330181  133.161393   \n",
       "RMSE   97.342371  118.962131  134.668495  146.663457  155.984188  162.560380   \n",
       "NMAE   14.851088   18.871241   21.412516   23.086523   24.255852   25.070533   \n",
       "NRMSE  21.157131   24.761833   26.996190   28.535077   29.714317   30.605533   \n",
       "\n",
       "             t+30        t+30  \n",
       "MAE    136.576016  137.693743  \n",
       "RMSE   166.620124  168.364670  \n",
       "NMAE    25.655628   26.067564  \n",
       "NRMSE   31.299375   31.874046  "
      ]
     },
     "execution_count": 49,
     "metadata": {},
     "output_type": "execute_result"
    }
   ],
   "source": [
    "metric_df"
   ]
  },
  {
   "cell_type": "code",
   "execution_count": 50,
   "id": "131ece99",
   "metadata": {
    "scrolled": true
   },
   "outputs": [
    {
     "data": {
      "text/html": [
       "<div>\n",
       "<style scoped>\n",
       "    .dataframe tbody tr th:only-of-type {\n",
       "        vertical-align: middle;\n",
       "    }\n",
       "\n",
       "    .dataframe tbody tr th {\n",
       "        vertical-align: top;\n",
       "    }\n",
       "\n",
       "    .dataframe thead th {\n",
       "        text-align: right;\n",
       "    }\n",
       "</style>\n",
       "<table border=\"1\" class=\"dataframe\">\n",
       "  <thead>\n",
       "    <tr style=\"text-align: right;\">\n",
       "      <th></th>\n",
       "      <th>t+30</th>\n",
       "      <th>t+60</th>\n",
       "      <th>t+90</th>\n",
       "      <th>t+120</th>\n",
       "      <th>t+150</th>\n",
       "      <th>t+30</th>\n",
       "      <th>t+30</th>\n",
       "      <th>t+30</th>\n",
       "    </tr>\n",
       "  </thead>\n",
       "  <tbody>\n",
       "    <tr>\n",
       "      <th>MAE</th>\n",
       "      <td>165.779914</td>\n",
       "      <td>161.445161</td>\n",
       "      <td>166.097983</td>\n",
       "      <td>172.316589</td>\n",
       "      <td>178.137823</td>\n",
       "      <td>182.701329</td>\n",
       "      <td>185.426472</td>\n",
       "      <td>187.080149</td>\n",
       "    </tr>\n",
       "    <tr>\n",
       "      <th>RMSE</th>\n",
       "      <td>206.812627</td>\n",
       "      <td>201.686820</td>\n",
       "      <td>207.252017</td>\n",
       "      <td>214.796508</td>\n",
       "      <td>222.061321</td>\n",
       "      <td>227.861924</td>\n",
       "      <td>231.481525</td>\n",
       "      <td>233.827701</td>\n",
       "    </tr>\n",
       "    <tr>\n",
       "      <th>NMAE</th>\n",
       "      <td>35.670646</td>\n",
       "      <td>33.295363</td>\n",
       "      <td>33.007790</td>\n",
       "      <td>33.274062</td>\n",
       "      <td>33.660933</td>\n",
       "      <td>34.112311</td>\n",
       "      <td>34.658874</td>\n",
       "      <td>35.342313</td>\n",
       "    </tr>\n",
       "    <tr>\n",
       "      <th>NRMSE</th>\n",
       "      <td>44.499601</td>\n",
       "      <td>41.594532</td>\n",
       "      <td>41.186117</td>\n",
       "      <td>41.476868</td>\n",
       "      <td>41.960719</td>\n",
       "      <td>42.544282</td>\n",
       "      <td>43.267226</td>\n",
       "      <td>44.173644</td>\n",
       "    </tr>\n",
       "  </tbody>\n",
       "</table>\n",
       "</div>"
      ],
      "text/plain": [
       "             t+30        t+60        t+90       t+120       t+150        t+30  \\\n",
       "MAE    165.779914  161.445161  166.097983  172.316589  178.137823  182.701329   \n",
       "RMSE   206.812627  201.686820  207.252017  214.796508  222.061321  227.861924   \n",
       "NMAE    35.670646   33.295363   33.007790   33.274062   33.660933   34.112311   \n",
       "NRMSE   44.499601   41.594532   41.186117   41.476868   41.960719   42.544282   \n",
       "\n",
       "             t+30        t+30  \n",
       "MAE    185.426472  187.080149  \n",
       "RMSE   231.481525  233.827701  \n",
       "NMAE    34.658874   35.342313  \n",
       "NRMSE   43.267226   44.173644  "
      ]
     },
     "execution_count": 50,
     "metadata": {},
     "output_type": "execute_result"
    }
   ],
   "source": [
    "metric_cloud_df"
   ]
  },
  {
   "cell_type": "code",
   "execution_count": 51,
   "id": "27f9decd",
   "metadata": {},
   "outputs": [],
   "source": [
    "def get_mae_dict_hour(y_merge,step):\n",
    "  \"\"\" Get mean of Absolute Difference for each our in list\n",
    "  Agrs :\n",
    "  DataFrame with Hour of Day column\n",
    "  Return :\n",
    "  Dictionary\n",
    "  \"\"\"\n",
    "  mae_dict = {}\n",
    "    \n",
    "  df = pd.DataFrame()\n",
    "  df['error'] = abs(y_merge[f'I_lead_{step}step']-y_merge[f'forecast_{step}_step'])\n",
    "  df.index = df.index + pd.Timedelta(minutes=step*30)\n",
    "  \n",
    "  for hour in pd.date_range('7:00:00', '17:00:00', freq='30min').time[step-1:]:\n",
    "    mae = df['error'][df.index.time == hour].dropna().mean()\n",
    "    mae_dict[hour] = mae\n",
    "  return mae_dict\n",
    "\n",
    "mae_dict_hour_cloud_8 = get_mae_dict_hour(y_merge_cloud,8)\n",
    "mae_dict_hour_8 = get_mae_dict_hour(y_merge,8)"
   ]
  },
  {
   "cell_type": "code",
   "execution_count": 52,
   "id": "bde338fe",
   "metadata": {},
   "outputs": [
    {
     "data": {
      "application/vnd.plotly.v1+json": {
       "config": {
        "plotlyServerURL": "https://plot.ly"
       },
       "data": [
        {
         "name": "MAE",
         "type": "bar",
         "x": [
          "10:30:00",
          "11:00:00",
          "11:30:00",
          "12:00:00",
          "12:30:00",
          "13:00:00",
          "13:30:00",
          "14:00:00",
          "14:30:00",
          "15:00:00",
          "15:30:00",
          "16:00:00",
          "16:30:00",
          "17:00:00"
         ],
         "y": [
          177.10601313904638,
          183.53316304933207,
          183.70219032810476,
          180.75041797169476,
          176.56937944555224,
          166.64321559446668,
          155.2567024770337,
          142.65733894917085,
          123.91324345562803,
          104.99728366832942,
          90.83096496971478,
          83.7507588611911,
          80.55631481856786,
          77.79804754881032
         ]
        }
       ],
       "layout": {
        "template": {
         "data": {
          "bar": [
           {
            "error_x": {
             "color": "#2a3f5f"
            },
            "error_y": {
             "color": "#2a3f5f"
            },
            "marker": {
             "line": {
              "color": "white",
              "width": 0.5
             },
             "pattern": {
              "fillmode": "overlay",
              "size": 10,
              "solidity": 0.2
             }
            },
            "type": "bar"
           }
          ],
          "barpolar": [
           {
            "marker": {
             "line": {
              "color": "white",
              "width": 0.5
             },
             "pattern": {
              "fillmode": "overlay",
              "size": 10,
              "solidity": 0.2
             }
            },
            "type": "barpolar"
           }
          ],
          "carpet": [
           {
            "aaxis": {
             "endlinecolor": "#2a3f5f",
             "gridcolor": "#C8D4E3",
             "linecolor": "#C8D4E3",
             "minorgridcolor": "#C8D4E3",
             "startlinecolor": "#2a3f5f"
            },
            "baxis": {
             "endlinecolor": "#2a3f5f",
             "gridcolor": "#C8D4E3",
             "linecolor": "#C8D4E3",
             "minorgridcolor": "#C8D4E3",
             "startlinecolor": "#2a3f5f"
            },
            "type": "carpet"
           }
          ],
          "choropleth": [
           {
            "colorbar": {
             "outlinewidth": 0,
             "ticks": ""
            },
            "type": "choropleth"
           }
          ],
          "contour": [
           {
            "colorbar": {
             "outlinewidth": 0,
             "ticks": ""
            },
            "colorscale": [
             [
              0,
              "#0d0887"
             ],
             [
              0.1111111111111111,
              "#46039f"
             ],
             [
              0.2222222222222222,
              "#7201a8"
             ],
             [
              0.3333333333333333,
              "#9c179e"
             ],
             [
              0.4444444444444444,
              "#bd3786"
             ],
             [
              0.5555555555555556,
              "#d8576b"
             ],
             [
              0.6666666666666666,
              "#ed7953"
             ],
             [
              0.7777777777777778,
              "#fb9f3a"
             ],
             [
              0.8888888888888888,
              "#fdca26"
             ],
             [
              1,
              "#f0f921"
             ]
            ],
            "type": "contour"
           }
          ],
          "contourcarpet": [
           {
            "colorbar": {
             "outlinewidth": 0,
             "ticks": ""
            },
            "type": "contourcarpet"
           }
          ],
          "heatmap": [
           {
            "colorbar": {
             "outlinewidth": 0,
             "ticks": ""
            },
            "colorscale": [
             [
              0,
              "#0d0887"
             ],
             [
              0.1111111111111111,
              "#46039f"
             ],
             [
              0.2222222222222222,
              "#7201a8"
             ],
             [
              0.3333333333333333,
              "#9c179e"
             ],
             [
              0.4444444444444444,
              "#bd3786"
             ],
             [
              0.5555555555555556,
              "#d8576b"
             ],
             [
              0.6666666666666666,
              "#ed7953"
             ],
             [
              0.7777777777777778,
              "#fb9f3a"
             ],
             [
              0.8888888888888888,
              "#fdca26"
             ],
             [
              1,
              "#f0f921"
             ]
            ],
            "type": "heatmap"
           }
          ],
          "heatmapgl": [
           {
            "colorbar": {
             "outlinewidth": 0,
             "ticks": ""
            },
            "colorscale": [
             [
              0,
              "#0d0887"
             ],
             [
              0.1111111111111111,
              "#46039f"
             ],
             [
              0.2222222222222222,
              "#7201a8"
             ],
             [
              0.3333333333333333,
              "#9c179e"
             ],
             [
              0.4444444444444444,
              "#bd3786"
             ],
             [
              0.5555555555555556,
              "#d8576b"
             ],
             [
              0.6666666666666666,
              "#ed7953"
             ],
             [
              0.7777777777777778,
              "#fb9f3a"
             ],
             [
              0.8888888888888888,
              "#fdca26"
             ],
             [
              1,
              "#f0f921"
             ]
            ],
            "type": "heatmapgl"
           }
          ],
          "histogram": [
           {
            "marker": {
             "pattern": {
              "fillmode": "overlay",
              "size": 10,
              "solidity": 0.2
             }
            },
            "type": "histogram"
           }
          ],
          "histogram2d": [
           {
            "colorbar": {
             "outlinewidth": 0,
             "ticks": ""
            },
            "colorscale": [
             [
              0,
              "#0d0887"
             ],
             [
              0.1111111111111111,
              "#46039f"
             ],
             [
              0.2222222222222222,
              "#7201a8"
             ],
             [
              0.3333333333333333,
              "#9c179e"
             ],
             [
              0.4444444444444444,
              "#bd3786"
             ],
             [
              0.5555555555555556,
              "#d8576b"
             ],
             [
              0.6666666666666666,
              "#ed7953"
             ],
             [
              0.7777777777777778,
              "#fb9f3a"
             ],
             [
              0.8888888888888888,
              "#fdca26"
             ],
             [
              1,
              "#f0f921"
             ]
            ],
            "type": "histogram2d"
           }
          ],
          "histogram2dcontour": [
           {
            "colorbar": {
             "outlinewidth": 0,
             "ticks": ""
            },
            "colorscale": [
             [
              0,
              "#0d0887"
             ],
             [
              0.1111111111111111,
              "#46039f"
             ],
             [
              0.2222222222222222,
              "#7201a8"
             ],
             [
              0.3333333333333333,
              "#9c179e"
             ],
             [
              0.4444444444444444,
              "#bd3786"
             ],
             [
              0.5555555555555556,
              "#d8576b"
             ],
             [
              0.6666666666666666,
              "#ed7953"
             ],
             [
              0.7777777777777778,
              "#fb9f3a"
             ],
             [
              0.8888888888888888,
              "#fdca26"
             ],
             [
              1,
              "#f0f921"
             ]
            ],
            "type": "histogram2dcontour"
           }
          ],
          "mesh3d": [
           {
            "colorbar": {
             "outlinewidth": 0,
             "ticks": ""
            },
            "type": "mesh3d"
           }
          ],
          "parcoords": [
           {
            "line": {
             "colorbar": {
              "outlinewidth": 0,
              "ticks": ""
             }
            },
            "type": "parcoords"
           }
          ],
          "pie": [
           {
            "automargin": true,
            "type": "pie"
           }
          ],
          "scatter": [
           {
            "fillpattern": {
             "fillmode": "overlay",
             "size": 10,
             "solidity": 0.2
            },
            "type": "scatter"
           }
          ],
          "scatter3d": [
           {
            "line": {
             "colorbar": {
              "outlinewidth": 0,
              "ticks": ""
             }
            },
            "marker": {
             "colorbar": {
              "outlinewidth": 0,
              "ticks": ""
             }
            },
            "type": "scatter3d"
           }
          ],
          "scattercarpet": [
           {
            "marker": {
             "colorbar": {
              "outlinewidth": 0,
              "ticks": ""
             }
            },
            "type": "scattercarpet"
           }
          ],
          "scattergeo": [
           {
            "marker": {
             "colorbar": {
              "outlinewidth": 0,
              "ticks": ""
             }
            },
            "type": "scattergeo"
           }
          ],
          "scattergl": [
           {
            "marker": {
             "colorbar": {
              "outlinewidth": 0,
              "ticks": ""
             }
            },
            "type": "scattergl"
           }
          ],
          "scattermapbox": [
           {
            "marker": {
             "colorbar": {
              "outlinewidth": 0,
              "ticks": ""
             }
            },
            "type": "scattermapbox"
           }
          ],
          "scatterpolar": [
           {
            "marker": {
             "colorbar": {
              "outlinewidth": 0,
              "ticks": ""
             }
            },
            "type": "scatterpolar"
           }
          ],
          "scatterpolargl": [
           {
            "marker": {
             "colorbar": {
              "outlinewidth": 0,
              "ticks": ""
             }
            },
            "type": "scatterpolargl"
           }
          ],
          "scatterternary": [
           {
            "marker": {
             "colorbar": {
              "outlinewidth": 0,
              "ticks": ""
             }
            },
            "type": "scatterternary"
           }
          ],
          "surface": [
           {
            "colorbar": {
             "outlinewidth": 0,
             "ticks": ""
            },
            "colorscale": [
             [
              0,
              "#0d0887"
             ],
             [
              0.1111111111111111,
              "#46039f"
             ],
             [
              0.2222222222222222,
              "#7201a8"
             ],
             [
              0.3333333333333333,
              "#9c179e"
             ],
             [
              0.4444444444444444,
              "#bd3786"
             ],
             [
              0.5555555555555556,
              "#d8576b"
             ],
             [
              0.6666666666666666,
              "#ed7953"
             ],
             [
              0.7777777777777778,
              "#fb9f3a"
             ],
             [
              0.8888888888888888,
              "#fdca26"
             ],
             [
              1,
              "#f0f921"
             ]
            ],
            "type": "surface"
           }
          ],
          "table": [
           {
            "cells": {
             "fill": {
              "color": "#EBF0F8"
             },
             "line": {
              "color": "white"
             }
            },
            "header": {
             "fill": {
              "color": "#C8D4E3"
             },
             "line": {
              "color": "white"
             }
            },
            "type": "table"
           }
          ]
         },
         "layout": {
          "annotationdefaults": {
           "arrowcolor": "#2a3f5f",
           "arrowhead": 0,
           "arrowwidth": 1
          },
          "autotypenumbers": "strict",
          "coloraxis": {
           "colorbar": {
            "outlinewidth": 0,
            "ticks": ""
           }
          },
          "colorscale": {
           "diverging": [
            [
             0,
             "#8e0152"
            ],
            [
             0.1,
             "#c51b7d"
            ],
            [
             0.2,
             "#de77ae"
            ],
            [
             0.3,
             "#f1b6da"
            ],
            [
             0.4,
             "#fde0ef"
            ],
            [
             0.5,
             "#f7f7f7"
            ],
            [
             0.6,
             "#e6f5d0"
            ],
            [
             0.7,
             "#b8e186"
            ],
            [
             0.8,
             "#7fbc41"
            ],
            [
             0.9,
             "#4d9221"
            ],
            [
             1,
             "#276419"
            ]
           ],
           "sequential": [
            [
             0,
             "#0d0887"
            ],
            [
             0.1111111111111111,
             "#46039f"
            ],
            [
             0.2222222222222222,
             "#7201a8"
            ],
            [
             0.3333333333333333,
             "#9c179e"
            ],
            [
             0.4444444444444444,
             "#bd3786"
            ],
            [
             0.5555555555555556,
             "#d8576b"
            ],
            [
             0.6666666666666666,
             "#ed7953"
            ],
            [
             0.7777777777777778,
             "#fb9f3a"
            ],
            [
             0.8888888888888888,
             "#fdca26"
            ],
            [
             1,
             "#f0f921"
            ]
           ],
           "sequentialminus": [
            [
             0,
             "#0d0887"
            ],
            [
             0.1111111111111111,
             "#46039f"
            ],
            [
             0.2222222222222222,
             "#7201a8"
            ],
            [
             0.3333333333333333,
             "#9c179e"
            ],
            [
             0.4444444444444444,
             "#bd3786"
            ],
            [
             0.5555555555555556,
             "#d8576b"
            ],
            [
             0.6666666666666666,
             "#ed7953"
            ],
            [
             0.7777777777777778,
             "#fb9f3a"
            ],
            [
             0.8888888888888888,
             "#fdca26"
            ],
            [
             1,
             "#f0f921"
            ]
           ]
          },
          "colorway": [
           "#636efa",
           "#EF553B",
           "#00cc96",
           "#ab63fa",
           "#FFA15A",
           "#19d3f3",
           "#FF6692",
           "#B6E880",
           "#FF97FF",
           "#FECB52"
          ],
          "font": {
           "color": "#2a3f5f"
          },
          "geo": {
           "bgcolor": "white",
           "lakecolor": "white",
           "landcolor": "white",
           "showlakes": true,
           "showland": true,
           "subunitcolor": "#C8D4E3"
          },
          "hoverlabel": {
           "align": "left"
          },
          "hovermode": "closest",
          "mapbox": {
           "style": "light"
          },
          "paper_bgcolor": "white",
          "plot_bgcolor": "white",
          "polar": {
           "angularaxis": {
            "gridcolor": "#EBF0F8",
            "linecolor": "#EBF0F8",
            "ticks": ""
           },
           "bgcolor": "white",
           "radialaxis": {
            "gridcolor": "#EBF0F8",
            "linecolor": "#EBF0F8",
            "ticks": ""
           }
          },
          "scene": {
           "xaxis": {
            "backgroundcolor": "white",
            "gridcolor": "#DFE8F3",
            "gridwidth": 2,
            "linecolor": "#EBF0F8",
            "showbackground": true,
            "ticks": "",
            "zerolinecolor": "#EBF0F8"
           },
           "yaxis": {
            "backgroundcolor": "white",
            "gridcolor": "#DFE8F3",
            "gridwidth": 2,
            "linecolor": "#EBF0F8",
            "showbackground": true,
            "ticks": "",
            "zerolinecolor": "#EBF0F8"
           },
           "zaxis": {
            "backgroundcolor": "white",
            "gridcolor": "#DFE8F3",
            "gridwidth": 2,
            "linecolor": "#EBF0F8",
            "showbackground": true,
            "ticks": "",
            "zerolinecolor": "#EBF0F8"
           }
          },
          "shapedefaults": {
           "line": {
            "color": "#2a3f5f"
           }
          },
          "ternary": {
           "aaxis": {
            "gridcolor": "#DFE8F3",
            "linecolor": "#A2B1C6",
            "ticks": ""
           },
           "baxis": {
            "gridcolor": "#DFE8F3",
            "linecolor": "#A2B1C6",
            "ticks": ""
           },
           "bgcolor": "white",
           "caxis": {
            "gridcolor": "#DFE8F3",
            "linecolor": "#A2B1C6",
            "ticks": ""
           }
          },
          "title": {
           "x": 0.05
          },
          "xaxis": {
           "automargin": true,
           "gridcolor": "#EBF0F8",
           "linecolor": "#EBF0F8",
           "ticks": "",
           "title": {
            "standoff": 15
           },
           "zerolinecolor": "#EBF0F8",
           "zerolinewidth": 2
          },
          "yaxis": {
           "automargin": true,
           "gridcolor": "#EBF0F8",
           "linecolor": "#EBF0F8",
           "ticks": "",
           "title": {
            "standoff": 15
           },
           "zerolinecolor": "#EBF0F8",
           "zerolinewidth": 2
          }
         }
        },
        "xaxis": {
         "linecolor": "black",
         "linewidth": 1,
         "mirror": true,
         "showline": true,
         "tickangle": 45,
         "title": {
          "text": "<b> Time of forecasted value </b>"
         }
        },
        "yaxis": {
         "linecolor": "black",
         "linewidth": 1,
         "mirror": true,
         "range": [
          0,
          250
         ],
         "showgrid": true,
         "showline": true,
         "title": {
          "text": "MAE [W/m<sup>2</sup>]"
         }
        }
       }
      },
      "text/html": [
       "<div>                            <div id=\"782846d3-051b-413d-be69-64f694338dfb\" class=\"plotly-graph-div\" style=\"height:525px; width:100%;\"></div>            <script type=\"text/javascript\">                require([\"plotly\"], function(Plotly) {                    window.PLOTLYENV=window.PLOTLYENV || {};                                    if (document.getElementById(\"782846d3-051b-413d-be69-64f694338dfb\")) {                    Plotly.newPlot(                        \"782846d3-051b-413d-be69-64f694338dfb\",                        [{\"name\":\"MAE\",\"x\":[\"10:30:00\",\"11:00:00\",\"11:30:00\",\"12:00:00\",\"12:30:00\",\"13:00:00\",\"13:30:00\",\"14:00:00\",\"14:30:00\",\"15:00:00\",\"15:30:00\",\"16:00:00\",\"16:30:00\",\"17:00:00\"],\"y\":[177.10601313904638,183.53316304933207,183.70219032810476,180.75041797169476,176.56937944555224,166.64321559446668,155.2567024770337,142.65733894917085,123.91324345562803,104.99728366832942,90.83096496971478,83.7507588611911,80.55631481856786,77.79804754881032],\"type\":\"bar\"}],                        {\"template\":{\"data\":{\"histogram2dcontour\":[{\"type\":\"histogram2dcontour\",\"colorbar\":{\"outlinewidth\":0,\"ticks\":\"\"},\"colorscale\":[[0.0,\"#0d0887\"],[0.1111111111111111,\"#46039f\"],[0.2222222222222222,\"#7201a8\"],[0.3333333333333333,\"#9c179e\"],[0.4444444444444444,\"#bd3786\"],[0.5555555555555556,\"#d8576b\"],[0.6666666666666666,\"#ed7953\"],[0.7777777777777778,\"#fb9f3a\"],[0.8888888888888888,\"#fdca26\"],[1.0,\"#f0f921\"]]}],\"choropleth\":[{\"type\":\"choropleth\",\"colorbar\":{\"outlinewidth\":0,\"ticks\":\"\"}}],\"histogram2d\":[{\"type\":\"histogram2d\",\"colorbar\":{\"outlinewidth\":0,\"ticks\":\"\"},\"colorscale\":[[0.0,\"#0d0887\"],[0.1111111111111111,\"#46039f\"],[0.2222222222222222,\"#7201a8\"],[0.3333333333333333,\"#9c179e\"],[0.4444444444444444,\"#bd3786\"],[0.5555555555555556,\"#d8576b\"],[0.6666666666666666,\"#ed7953\"],[0.7777777777777778,\"#fb9f3a\"],[0.8888888888888888,\"#fdca26\"],[1.0,\"#f0f921\"]]}],\"heatmap\":[{\"type\":\"heatmap\",\"colorbar\":{\"outlinewidth\":0,\"ticks\":\"\"},\"colorscale\":[[0.0,\"#0d0887\"],[0.1111111111111111,\"#46039f\"],[0.2222222222222222,\"#7201a8\"],[0.3333333333333333,\"#9c179e\"],[0.4444444444444444,\"#bd3786\"],[0.5555555555555556,\"#d8576b\"],[0.6666666666666666,\"#ed7953\"],[0.7777777777777778,\"#fb9f3a\"],[0.8888888888888888,\"#fdca26\"],[1.0,\"#f0f921\"]]}],\"heatmapgl\":[{\"type\":\"heatmapgl\",\"colorbar\":{\"outlinewidth\":0,\"ticks\":\"\"},\"colorscale\":[[0.0,\"#0d0887\"],[0.1111111111111111,\"#46039f\"],[0.2222222222222222,\"#7201a8\"],[0.3333333333333333,\"#9c179e\"],[0.4444444444444444,\"#bd3786\"],[0.5555555555555556,\"#d8576b\"],[0.6666666666666666,\"#ed7953\"],[0.7777777777777778,\"#fb9f3a\"],[0.8888888888888888,\"#fdca26\"],[1.0,\"#f0f921\"]]}],\"contourcarpet\":[{\"type\":\"contourcarpet\",\"colorbar\":{\"outlinewidth\":0,\"ticks\":\"\"}}],\"contour\":[{\"type\":\"contour\",\"colorbar\":{\"outlinewidth\":0,\"ticks\":\"\"},\"colorscale\":[[0.0,\"#0d0887\"],[0.1111111111111111,\"#46039f\"],[0.2222222222222222,\"#7201a8\"],[0.3333333333333333,\"#9c179e\"],[0.4444444444444444,\"#bd3786\"],[0.5555555555555556,\"#d8576b\"],[0.6666666666666666,\"#ed7953\"],[0.7777777777777778,\"#fb9f3a\"],[0.8888888888888888,\"#fdca26\"],[1.0,\"#f0f921\"]]}],\"surface\":[{\"type\":\"surface\",\"colorbar\":{\"outlinewidth\":0,\"ticks\":\"\"},\"colorscale\":[[0.0,\"#0d0887\"],[0.1111111111111111,\"#46039f\"],[0.2222222222222222,\"#7201a8\"],[0.3333333333333333,\"#9c179e\"],[0.4444444444444444,\"#bd3786\"],[0.5555555555555556,\"#d8576b\"],[0.6666666666666666,\"#ed7953\"],[0.7777777777777778,\"#fb9f3a\"],[0.8888888888888888,\"#fdca26\"],[1.0,\"#f0f921\"]]}],\"mesh3d\":[{\"type\":\"mesh3d\",\"colorbar\":{\"outlinewidth\":0,\"ticks\":\"\"}}],\"scatter\":[{\"fillpattern\":{\"fillmode\":\"overlay\",\"size\":10,\"solidity\":0.2},\"type\":\"scatter\"}],\"parcoords\":[{\"type\":\"parcoords\",\"line\":{\"colorbar\":{\"outlinewidth\":0,\"ticks\":\"\"}}}],\"scatterpolargl\":[{\"type\":\"scatterpolargl\",\"marker\":{\"colorbar\":{\"outlinewidth\":0,\"ticks\":\"\"}}}],\"bar\":[{\"error_x\":{\"color\":\"#2a3f5f\"},\"error_y\":{\"color\":\"#2a3f5f\"},\"marker\":{\"line\":{\"color\":\"white\",\"width\":0.5},\"pattern\":{\"fillmode\":\"overlay\",\"size\":10,\"solidity\":0.2}},\"type\":\"bar\"}],\"scattergeo\":[{\"type\":\"scattergeo\",\"marker\":{\"colorbar\":{\"outlinewidth\":0,\"ticks\":\"\"}}}],\"scatterpolar\":[{\"type\":\"scatterpolar\",\"marker\":{\"colorbar\":{\"outlinewidth\":0,\"ticks\":\"\"}}}],\"histogram\":[{\"marker\":{\"pattern\":{\"fillmode\":\"overlay\",\"size\":10,\"solidity\":0.2}},\"type\":\"histogram\"}],\"scattergl\":[{\"type\":\"scattergl\",\"marker\":{\"colorbar\":{\"outlinewidth\":0,\"ticks\":\"\"}}}],\"scatter3d\":[{\"type\":\"scatter3d\",\"line\":{\"colorbar\":{\"outlinewidth\":0,\"ticks\":\"\"}},\"marker\":{\"colorbar\":{\"outlinewidth\":0,\"ticks\":\"\"}}}],\"scattermapbox\":[{\"type\":\"scattermapbox\",\"marker\":{\"colorbar\":{\"outlinewidth\":0,\"ticks\":\"\"}}}],\"scatterternary\":[{\"type\":\"scatterternary\",\"marker\":{\"colorbar\":{\"outlinewidth\":0,\"ticks\":\"\"}}}],\"scattercarpet\":[{\"type\":\"scattercarpet\",\"marker\":{\"colorbar\":{\"outlinewidth\":0,\"ticks\":\"\"}}}],\"carpet\":[{\"aaxis\":{\"endlinecolor\":\"#2a3f5f\",\"gridcolor\":\"#C8D4E3\",\"linecolor\":\"#C8D4E3\",\"minorgridcolor\":\"#C8D4E3\",\"startlinecolor\":\"#2a3f5f\"},\"baxis\":{\"endlinecolor\":\"#2a3f5f\",\"gridcolor\":\"#C8D4E3\",\"linecolor\":\"#C8D4E3\",\"minorgridcolor\":\"#C8D4E3\",\"startlinecolor\":\"#2a3f5f\"},\"type\":\"carpet\"}],\"table\":[{\"cells\":{\"fill\":{\"color\":\"#EBF0F8\"},\"line\":{\"color\":\"white\"}},\"header\":{\"fill\":{\"color\":\"#C8D4E3\"},\"line\":{\"color\":\"white\"}},\"type\":\"table\"}],\"barpolar\":[{\"marker\":{\"line\":{\"color\":\"white\",\"width\":0.5},\"pattern\":{\"fillmode\":\"overlay\",\"size\":10,\"solidity\":0.2}},\"type\":\"barpolar\"}],\"pie\":[{\"automargin\":true,\"type\":\"pie\"}]},\"layout\":{\"autotypenumbers\":\"strict\",\"colorway\":[\"#636efa\",\"#EF553B\",\"#00cc96\",\"#ab63fa\",\"#FFA15A\",\"#19d3f3\",\"#FF6692\",\"#B6E880\",\"#FF97FF\",\"#FECB52\"],\"font\":{\"color\":\"#2a3f5f\"},\"hovermode\":\"closest\",\"hoverlabel\":{\"align\":\"left\"},\"paper_bgcolor\":\"white\",\"plot_bgcolor\":\"white\",\"polar\":{\"bgcolor\":\"white\",\"angularaxis\":{\"gridcolor\":\"#EBF0F8\",\"linecolor\":\"#EBF0F8\",\"ticks\":\"\"},\"radialaxis\":{\"gridcolor\":\"#EBF0F8\",\"linecolor\":\"#EBF0F8\",\"ticks\":\"\"}},\"ternary\":{\"bgcolor\":\"white\",\"aaxis\":{\"gridcolor\":\"#DFE8F3\",\"linecolor\":\"#A2B1C6\",\"ticks\":\"\"},\"baxis\":{\"gridcolor\":\"#DFE8F3\",\"linecolor\":\"#A2B1C6\",\"ticks\":\"\"},\"caxis\":{\"gridcolor\":\"#DFE8F3\",\"linecolor\":\"#A2B1C6\",\"ticks\":\"\"}},\"coloraxis\":{\"colorbar\":{\"outlinewidth\":0,\"ticks\":\"\"}},\"colorscale\":{\"sequential\":[[0.0,\"#0d0887\"],[0.1111111111111111,\"#46039f\"],[0.2222222222222222,\"#7201a8\"],[0.3333333333333333,\"#9c179e\"],[0.4444444444444444,\"#bd3786\"],[0.5555555555555556,\"#d8576b\"],[0.6666666666666666,\"#ed7953\"],[0.7777777777777778,\"#fb9f3a\"],[0.8888888888888888,\"#fdca26\"],[1.0,\"#f0f921\"]],\"sequentialminus\":[[0.0,\"#0d0887\"],[0.1111111111111111,\"#46039f\"],[0.2222222222222222,\"#7201a8\"],[0.3333333333333333,\"#9c179e\"],[0.4444444444444444,\"#bd3786\"],[0.5555555555555556,\"#d8576b\"],[0.6666666666666666,\"#ed7953\"],[0.7777777777777778,\"#fb9f3a\"],[0.8888888888888888,\"#fdca26\"],[1.0,\"#f0f921\"]],\"diverging\":[[0,\"#8e0152\"],[0.1,\"#c51b7d\"],[0.2,\"#de77ae\"],[0.3,\"#f1b6da\"],[0.4,\"#fde0ef\"],[0.5,\"#f7f7f7\"],[0.6,\"#e6f5d0\"],[0.7,\"#b8e186\"],[0.8,\"#7fbc41\"],[0.9,\"#4d9221\"],[1,\"#276419\"]]},\"xaxis\":{\"gridcolor\":\"#EBF0F8\",\"linecolor\":\"#EBF0F8\",\"ticks\":\"\",\"title\":{\"standoff\":15},\"zerolinecolor\":\"#EBF0F8\",\"automargin\":true,\"zerolinewidth\":2},\"yaxis\":{\"gridcolor\":\"#EBF0F8\",\"linecolor\":\"#EBF0F8\",\"ticks\":\"\",\"title\":{\"standoff\":15},\"zerolinecolor\":\"#EBF0F8\",\"automargin\":true,\"zerolinewidth\":2},\"scene\":{\"xaxis\":{\"backgroundcolor\":\"white\",\"gridcolor\":\"#DFE8F3\",\"linecolor\":\"#EBF0F8\",\"showbackground\":true,\"ticks\":\"\",\"zerolinecolor\":\"#EBF0F8\",\"gridwidth\":2},\"yaxis\":{\"backgroundcolor\":\"white\",\"gridcolor\":\"#DFE8F3\",\"linecolor\":\"#EBF0F8\",\"showbackground\":true,\"ticks\":\"\",\"zerolinecolor\":\"#EBF0F8\",\"gridwidth\":2},\"zaxis\":{\"backgroundcolor\":\"white\",\"gridcolor\":\"#DFE8F3\",\"linecolor\":\"#EBF0F8\",\"showbackground\":true,\"ticks\":\"\",\"zerolinecolor\":\"#EBF0F8\",\"gridwidth\":2}},\"shapedefaults\":{\"line\":{\"color\":\"#2a3f5f\"}},\"annotationdefaults\":{\"arrowcolor\":\"#2a3f5f\",\"arrowhead\":0,\"arrowwidth\":1},\"geo\":{\"bgcolor\":\"white\",\"landcolor\":\"white\",\"subunitcolor\":\"#C8D4E3\",\"showland\":true,\"showlakes\":true,\"lakecolor\":\"white\"},\"title\":{\"x\":0.05},\"mapbox\":{\"style\":\"light\"}}},\"xaxis\":{\"title\":{\"text\":\"<b> Time of forecasted value </b>\"},\"tickangle\":45,\"showline\":true,\"linewidth\":1,\"linecolor\":\"black\",\"mirror\":true},\"yaxis\":{\"title\":{\"text\":\"MAE [W/m<sup>2</sup>]\"},\"range\":[0,250],\"showline\":true,\"linewidth\":1,\"linecolor\":\"black\",\"mirror\":true,\"showgrid\":true}},                        {\"responsive\": true}                    ).then(function(){\n",
       "                            \n",
       "var gd = document.getElementById('782846d3-051b-413d-be69-64f694338dfb');\n",
       "var x = new MutationObserver(function (mutations, observer) {{\n",
       "        var display = window.getComputedStyle(gd).display;\n",
       "        if (!display || display === 'none') {{\n",
       "            console.log([gd, 'removed!']);\n",
       "            Plotly.purge(gd);\n",
       "            observer.disconnect();\n",
       "        }}\n",
       "}});\n",
       "\n",
       "// Listen for the removal of the full notebook cells\n",
       "var notebookContainer = gd.closest('#notebook-container');\n",
       "if (notebookContainer) {{\n",
       "    x.observe(notebookContainer, {childList: true});\n",
       "}}\n",
       "\n",
       "// Listen for the clearing of the current output cell\n",
       "var outputEl = gd.closest('.output');\n",
       "if (outputEl) {{\n",
       "    x.observe(outputEl, {childList: true});\n",
       "}}\n",
       "\n",
       "                        })                };                });            </script>        </div>"
      ]
     },
     "metadata": {},
     "output_type": "display_data"
    }
   ],
   "source": [
    "def MAE(mae_dict_hour_step,step):  \n",
    "  \"\"\"Get MAE for each hour of the day\n",
    "  Args : \n",
    "  MAE dict from get_mae_dict_hour and that k-step\n",
    "  Return :\n",
    "  Graph and file\n",
    "  \"\"\"\n",
    "  from plotly.subplots import make_subplots\n",
    "  import plotly.graph_objects as go\n",
    "  import plotly.io as pio\n",
    "  pio.templates.default = 'plotly_white'\n",
    "  day_time = pd.date_range('7:00:00', '17:00:00', freq='30min').time[step-1:]\n",
    "  mae_error_list = [mae_dict_hour_step[hour] for hour in day_time]\n",
    "  mae_error_array = np.array(mae_error_list)\n",
    "  \n",
    "  fig = go.Figure()\n",
    "  fig.add_trace(go.Bar(x=day_time, y=mae_error_array, name = 'MAE'))\n",
    "  fig.update_layout(xaxis_title='<b> Hour of Day </b>',\n",
    "                      yaxis_title='<b> MAE [W/m2] </b>')\n",
    "  fig.update_yaxes(title_text='MAE [W/m<sup>2</sup>]',range=[0, 250], \n",
    "                    showline=True, linewidth=1, linecolor='black',mirror=True,showgrid=True)\n",
    "  fig.update_xaxes(title_text='<b> Time of forecasted value </b>',tickangle= 45,\n",
    "                     showline=True, linewidth=1, linecolor='black',mirror=True)\n",
    "  fig.show()\n",
    "  pio.write_image(fig, 'Hourly_MAE_SARIMAX.pdf')\n",
    "  return None\n",
    "\n",
    "MAE(mae_dict_hour_8,8)"
   ]
  },
  {
   "cell_type": "code",
   "execution_count": 30,
   "id": "e2c1501e",
   "metadata": {},
   "outputs": [
    {
     "data": {
      "application/vnd.plotly.v1+json": {
       "config": {
        "plotlyServerURL": "https://plot.ly"
       },
       "data": [
        {
         "line": {
          "color": "royalblue",
          "width": 2
         },
         "marker": {
          "size": 8,
          "symbol": "x"
         },
         "mode": "lines+markers",
         "name": "Actual",
         "showlegend": true,
         "type": "scatter",
         "x": [
          "11-01 07:00",
          "11-01 07:30",
          "11-01 08:00",
          "11-01 08:30",
          "11-01 09:00",
          "11-01 09:30",
          "11-01 10:00",
          "11-01 10:30",
          "11-01 11:00",
          "11-01 11:30",
          "11-01 12:00",
          "11-01 12:30",
          "11-01 13:00",
          "11-01 13:30",
          "11-01 14:00",
          "11-01 14:30",
          "11-01 15:00",
          "11-01 15:30",
          "11-01 16:00",
          "11-01 16:30",
          "11-01 17:00",
          "11-02 07:00",
          "11-02 07:30",
          "11-02 08:00",
          "11-02 08:30",
          "11-02 09:00",
          "11-02 09:30",
          "11-02 10:00",
          "11-02 10:30",
          "11-02 11:00",
          "11-02 11:30",
          "11-02 12:00",
          "11-02 12:30",
          "11-02 13:00",
          "11-02 13:30",
          "11-02 14:00",
          "11-02 14:30",
          "11-02 15:00",
          "11-02 15:30",
          "11-02 16:00",
          "11-02 16:30",
          "11-02 17:00",
          "11-03 07:00",
          "11-03 07:30",
          "11-03 08:00",
          "11-03 08:30",
          "11-03 09:00",
          "11-03 09:30",
          "11-03 10:00",
          "11-03 10:30",
          "11-03 11:00",
          "11-03 11:30",
          "11-03 12:00",
          "11-03 12:30",
          "11-03 13:00",
          "11-03 13:30",
          "11-03 14:00",
          "11-03 14:30",
          "11-03 15:00",
          "11-03 15:30",
          "11-03 16:00",
          "11-03 16:30",
          "11-03 17:00"
         ],
         "y": [
          92.76812,
          205.6555,
          357.5377,
          466.3281,
          434.9786,
          608.992,
          665.9479,
          745.9494,
          800.747,
          843.9851,
          840.2905,
          797.0157,
          709.0762,
          767.349,
          666.2405,
          518.0529,
          422.7607,
          325.8956,
          311.5926,
          176.4643,
          68.73475,
          142.5542,
          219.7024,
          376.2669,
          489.886,
          578.8131,
          675.4954,
          781.0667,
          844.4241,
          881.2241,
          877.6757,
          862.9704,
          798.8448,
          854.9592,
          789.0046,
          737.6456,
          652.8521,
          551.524,
          431.6132,
          321.2499,
          196.547,
          86.4397,
          127.1172,
          254.7466,
          379.8884,
          492.9221,
          598.4568,
          694.5538,
          774.0798,
          836.1934,
          875.5906,
          875.6638,
          885.321,
          843.0706,
          843.2535,
          816.7327,
          748.2174,
          502.4696,
          420.9683,
          308.8125,
          349.234,
          224.4579,
          100.0476
         ]
        },
        {
         "line": {
          "color": "firebrick",
          "width": 2
         },
         "marker": {
          "size": 8,
          "symbol": "circle-open"
         },
         "mode": "lines+markers",
         "name": "Forecasted",
         "showlegend": true,
         "type": "scatter",
         "x": [
          "11-01 07:00",
          "11-01 07:30",
          "11-01 08:00",
          "11-01 08:30",
          "11-01 09:00",
          "11-01 09:30",
          "11-01 10:00",
          "11-01 10:30",
          "11-01 11:00",
          "11-01 11:30",
          "11-01 12:00",
          "11-01 12:30",
          "11-01 13:00",
          "11-01 13:30",
          "11-01 14:00",
          "11-01 14:30",
          "11-01 15:00",
          "11-01 15:30",
          "11-01 16:00",
          "11-01 16:30",
          "11-01 17:00",
          "11-02 07:00",
          "11-02 07:30",
          "11-02 08:00",
          "11-02 08:30",
          "11-02 09:00",
          "11-02 09:30",
          "11-02 10:00",
          "11-02 10:30",
          "11-02 11:00",
          "11-02 11:30",
          "11-02 12:00",
          "11-02 12:30",
          "11-02 13:00",
          "11-02 13:30",
          "11-02 14:00",
          "11-02 14:30",
          "11-02 15:00",
          "11-02 15:30",
          "11-02 16:00",
          "11-02 16:30",
          "11-02 17:00",
          "11-03 07:00",
          "11-03 07:30",
          "11-03 08:00",
          "11-03 08:30",
          "11-03 09:00",
          "11-03 09:30",
          "11-03 10:00",
          "11-03 10:30",
          "11-03 11:00",
          "11-03 11:30",
          "11-03 12:00",
          "11-03 12:30",
          "11-03 13:00",
          "11-03 13:30",
          "11-03 14:00",
          "11-03 14:30",
          "11-03 15:00",
          "11-03 15:30",
          "11-03 16:00",
          "11-03 16:30",
          "11-03 17:00"
         ],
         "y": [
          50.7819628170829,
          138.11462089299343,
          278.5878226782164,
          380.3712681505357,
          485.00812070907523,
          487.14989888655975,
          630.120037228453,
          658.6596052609918,
          719.3429128176936,
          754.2600974060556,
          807.4808835177183,
          771.4385210440388,
          731.9827708127857,
          651.2718966176352,
          683.1258023598124,
          574.3868780750529,
          449.5507022504519,
          344.9180503360237,
          272.1495686436298,
          199.9081099744885,
          94.47571466532713,
          87.06415084203559,
          174.56033981678485,
          268.41145060986855,
          398.8363541932739,
          527.5408043371926,
          582.5408381627662,
          662.0066193266537,
          744.0742562961836,
          818.9888306968171,
          819.1451467005611,
          814.514867298075,
          795.4912046742897,
          762.2778538166447,
          744.6924013090451,
          687.838202931646,
          628.3781437578444,
          567.0556431774102,
          441.272782862119,
          329.60695084225864,
          224.0736289528938,
          136.80034778508931,
          55.52674376708708,
          167.64721056124037,
          314.62756940014725,
          403.5191031560164,
          507.082448256509,
          599.7521833522826,
          703.0311073360183,
          741.330652188521,
          791.1041814135586,
          820.1994894229847,
          839.8464216454543,
          808.5312279727349,
          769.7948353380011,
          748.0955334821347,
          732.0498622100931,
          637.3585001851739,
          454.4897469736185,
          352.2053378187017,
          265.7406854136266,
          226.54119107760783,
          133.730334091761
         ]
        }
       ],
       "layout": {
        "font": {
         "size": 18
        },
        "legend": {
         "font": {
          "size": 12
         },
         "traceorder": "normal",
         "x": 0.75,
         "y": 1
        },
        "template": {
         "data": {
          "bar": [
           {
            "error_x": {
             "color": "#2a3f5f"
            },
            "error_y": {
             "color": "#2a3f5f"
            },
            "marker": {
             "line": {
              "color": "white",
              "width": 0.5
             },
             "pattern": {
              "fillmode": "overlay",
              "size": 10,
              "solidity": 0.2
             }
            },
            "type": "bar"
           }
          ],
          "barpolar": [
           {
            "marker": {
             "line": {
              "color": "white",
              "width": 0.5
             },
             "pattern": {
              "fillmode": "overlay",
              "size": 10,
              "solidity": 0.2
             }
            },
            "type": "barpolar"
           }
          ],
          "carpet": [
           {
            "aaxis": {
             "endlinecolor": "#2a3f5f",
             "gridcolor": "#C8D4E3",
             "linecolor": "#C8D4E3",
             "minorgridcolor": "#C8D4E3",
             "startlinecolor": "#2a3f5f"
            },
            "baxis": {
             "endlinecolor": "#2a3f5f",
             "gridcolor": "#C8D4E3",
             "linecolor": "#C8D4E3",
             "minorgridcolor": "#C8D4E3",
             "startlinecolor": "#2a3f5f"
            },
            "type": "carpet"
           }
          ],
          "choropleth": [
           {
            "colorbar": {
             "outlinewidth": 0,
             "ticks": ""
            },
            "type": "choropleth"
           }
          ],
          "contour": [
           {
            "colorbar": {
             "outlinewidth": 0,
             "ticks": ""
            },
            "colorscale": [
             [
              0,
              "#0d0887"
             ],
             [
              0.1111111111111111,
              "#46039f"
             ],
             [
              0.2222222222222222,
              "#7201a8"
             ],
             [
              0.3333333333333333,
              "#9c179e"
             ],
             [
              0.4444444444444444,
              "#bd3786"
             ],
             [
              0.5555555555555556,
              "#d8576b"
             ],
             [
              0.6666666666666666,
              "#ed7953"
             ],
             [
              0.7777777777777778,
              "#fb9f3a"
             ],
             [
              0.8888888888888888,
              "#fdca26"
             ],
             [
              1,
              "#f0f921"
             ]
            ],
            "type": "contour"
           }
          ],
          "contourcarpet": [
           {
            "colorbar": {
             "outlinewidth": 0,
             "ticks": ""
            },
            "type": "contourcarpet"
           }
          ],
          "heatmap": [
           {
            "colorbar": {
             "outlinewidth": 0,
             "ticks": ""
            },
            "colorscale": [
             [
              0,
              "#0d0887"
             ],
             [
              0.1111111111111111,
              "#46039f"
             ],
             [
              0.2222222222222222,
              "#7201a8"
             ],
             [
              0.3333333333333333,
              "#9c179e"
             ],
             [
              0.4444444444444444,
              "#bd3786"
             ],
             [
              0.5555555555555556,
              "#d8576b"
             ],
             [
              0.6666666666666666,
              "#ed7953"
             ],
             [
              0.7777777777777778,
              "#fb9f3a"
             ],
             [
              0.8888888888888888,
              "#fdca26"
             ],
             [
              1,
              "#f0f921"
             ]
            ],
            "type": "heatmap"
           }
          ],
          "heatmapgl": [
           {
            "colorbar": {
             "outlinewidth": 0,
             "ticks": ""
            },
            "colorscale": [
             [
              0,
              "#0d0887"
             ],
             [
              0.1111111111111111,
              "#46039f"
             ],
             [
              0.2222222222222222,
              "#7201a8"
             ],
             [
              0.3333333333333333,
              "#9c179e"
             ],
             [
              0.4444444444444444,
              "#bd3786"
             ],
             [
              0.5555555555555556,
              "#d8576b"
             ],
             [
              0.6666666666666666,
              "#ed7953"
             ],
             [
              0.7777777777777778,
              "#fb9f3a"
             ],
             [
              0.8888888888888888,
              "#fdca26"
             ],
             [
              1,
              "#f0f921"
             ]
            ],
            "type": "heatmapgl"
           }
          ],
          "histogram": [
           {
            "marker": {
             "pattern": {
              "fillmode": "overlay",
              "size": 10,
              "solidity": 0.2
             }
            },
            "type": "histogram"
           }
          ],
          "histogram2d": [
           {
            "colorbar": {
             "outlinewidth": 0,
             "ticks": ""
            },
            "colorscale": [
             [
              0,
              "#0d0887"
             ],
             [
              0.1111111111111111,
              "#46039f"
             ],
             [
              0.2222222222222222,
              "#7201a8"
             ],
             [
              0.3333333333333333,
              "#9c179e"
             ],
             [
              0.4444444444444444,
              "#bd3786"
             ],
             [
              0.5555555555555556,
              "#d8576b"
             ],
             [
              0.6666666666666666,
              "#ed7953"
             ],
             [
              0.7777777777777778,
              "#fb9f3a"
             ],
             [
              0.8888888888888888,
              "#fdca26"
             ],
             [
              1,
              "#f0f921"
             ]
            ],
            "type": "histogram2d"
           }
          ],
          "histogram2dcontour": [
           {
            "colorbar": {
             "outlinewidth": 0,
             "ticks": ""
            },
            "colorscale": [
             [
              0,
              "#0d0887"
             ],
             [
              0.1111111111111111,
              "#46039f"
             ],
             [
              0.2222222222222222,
              "#7201a8"
             ],
             [
              0.3333333333333333,
              "#9c179e"
             ],
             [
              0.4444444444444444,
              "#bd3786"
             ],
             [
              0.5555555555555556,
              "#d8576b"
             ],
             [
              0.6666666666666666,
              "#ed7953"
             ],
             [
              0.7777777777777778,
              "#fb9f3a"
             ],
             [
              0.8888888888888888,
              "#fdca26"
             ],
             [
              1,
              "#f0f921"
             ]
            ],
            "type": "histogram2dcontour"
           }
          ],
          "mesh3d": [
           {
            "colorbar": {
             "outlinewidth": 0,
             "ticks": ""
            },
            "type": "mesh3d"
           }
          ],
          "parcoords": [
           {
            "line": {
             "colorbar": {
              "outlinewidth": 0,
              "ticks": ""
             }
            },
            "type": "parcoords"
           }
          ],
          "pie": [
           {
            "automargin": true,
            "type": "pie"
           }
          ],
          "scatter": [
           {
            "fillpattern": {
             "fillmode": "overlay",
             "size": 10,
             "solidity": 0.2
            },
            "type": "scatter"
           }
          ],
          "scatter3d": [
           {
            "line": {
             "colorbar": {
              "outlinewidth": 0,
              "ticks": ""
             }
            },
            "marker": {
             "colorbar": {
              "outlinewidth": 0,
              "ticks": ""
             }
            },
            "type": "scatter3d"
           }
          ],
          "scattercarpet": [
           {
            "marker": {
             "colorbar": {
              "outlinewidth": 0,
              "ticks": ""
             }
            },
            "type": "scattercarpet"
           }
          ],
          "scattergeo": [
           {
            "marker": {
             "colorbar": {
              "outlinewidth": 0,
              "ticks": ""
             }
            },
            "type": "scattergeo"
           }
          ],
          "scattergl": [
           {
            "marker": {
             "colorbar": {
              "outlinewidth": 0,
              "ticks": ""
             }
            },
            "type": "scattergl"
           }
          ],
          "scattermapbox": [
           {
            "marker": {
             "colorbar": {
              "outlinewidth": 0,
              "ticks": ""
             }
            },
            "type": "scattermapbox"
           }
          ],
          "scatterpolar": [
           {
            "marker": {
             "colorbar": {
              "outlinewidth": 0,
              "ticks": ""
             }
            },
            "type": "scatterpolar"
           }
          ],
          "scatterpolargl": [
           {
            "marker": {
             "colorbar": {
              "outlinewidth": 0,
              "ticks": ""
             }
            },
            "type": "scatterpolargl"
           }
          ],
          "scatterternary": [
           {
            "marker": {
             "colorbar": {
              "outlinewidth": 0,
              "ticks": ""
             }
            },
            "type": "scatterternary"
           }
          ],
          "surface": [
           {
            "colorbar": {
             "outlinewidth": 0,
             "ticks": ""
            },
            "colorscale": [
             [
              0,
              "#0d0887"
             ],
             [
              0.1111111111111111,
              "#46039f"
             ],
             [
              0.2222222222222222,
              "#7201a8"
             ],
             [
              0.3333333333333333,
              "#9c179e"
             ],
             [
              0.4444444444444444,
              "#bd3786"
             ],
             [
              0.5555555555555556,
              "#d8576b"
             ],
             [
              0.6666666666666666,
              "#ed7953"
             ],
             [
              0.7777777777777778,
              "#fb9f3a"
             ],
             [
              0.8888888888888888,
              "#fdca26"
             ],
             [
              1,
              "#f0f921"
             ]
            ],
            "type": "surface"
           }
          ],
          "table": [
           {
            "cells": {
             "fill": {
              "color": "#EBF0F8"
             },
             "line": {
              "color": "white"
             }
            },
            "header": {
             "fill": {
              "color": "#C8D4E3"
             },
             "line": {
              "color": "white"
             }
            },
            "type": "table"
           }
          ]
         },
         "layout": {
          "annotationdefaults": {
           "arrowcolor": "#2a3f5f",
           "arrowhead": 0,
           "arrowwidth": 1
          },
          "autotypenumbers": "strict",
          "coloraxis": {
           "colorbar": {
            "outlinewidth": 0,
            "ticks": ""
           }
          },
          "colorscale": {
           "diverging": [
            [
             0,
             "#8e0152"
            ],
            [
             0.1,
             "#c51b7d"
            ],
            [
             0.2,
             "#de77ae"
            ],
            [
             0.3,
             "#f1b6da"
            ],
            [
             0.4,
             "#fde0ef"
            ],
            [
             0.5,
             "#f7f7f7"
            ],
            [
             0.6,
             "#e6f5d0"
            ],
            [
             0.7,
             "#b8e186"
            ],
            [
             0.8,
             "#7fbc41"
            ],
            [
             0.9,
             "#4d9221"
            ],
            [
             1,
             "#276419"
            ]
           ],
           "sequential": [
            [
             0,
             "#0d0887"
            ],
            [
             0.1111111111111111,
             "#46039f"
            ],
            [
             0.2222222222222222,
             "#7201a8"
            ],
            [
             0.3333333333333333,
             "#9c179e"
            ],
            [
             0.4444444444444444,
             "#bd3786"
            ],
            [
             0.5555555555555556,
             "#d8576b"
            ],
            [
             0.6666666666666666,
             "#ed7953"
            ],
            [
             0.7777777777777778,
             "#fb9f3a"
            ],
            [
             0.8888888888888888,
             "#fdca26"
            ],
            [
             1,
             "#f0f921"
            ]
           ],
           "sequentialminus": [
            [
             0,
             "#0d0887"
            ],
            [
             0.1111111111111111,
             "#46039f"
            ],
            [
             0.2222222222222222,
             "#7201a8"
            ],
            [
             0.3333333333333333,
             "#9c179e"
            ],
            [
             0.4444444444444444,
             "#bd3786"
            ],
            [
             0.5555555555555556,
             "#d8576b"
            ],
            [
             0.6666666666666666,
             "#ed7953"
            ],
            [
             0.7777777777777778,
             "#fb9f3a"
            ],
            [
             0.8888888888888888,
             "#fdca26"
            ],
            [
             1,
             "#f0f921"
            ]
           ]
          },
          "colorway": [
           "#636efa",
           "#EF553B",
           "#00cc96",
           "#ab63fa",
           "#FFA15A",
           "#19d3f3",
           "#FF6692",
           "#B6E880",
           "#FF97FF",
           "#FECB52"
          ],
          "font": {
           "color": "#2a3f5f"
          },
          "geo": {
           "bgcolor": "white",
           "lakecolor": "white",
           "landcolor": "white",
           "showlakes": true,
           "showland": true,
           "subunitcolor": "#C8D4E3"
          },
          "hoverlabel": {
           "align": "left"
          },
          "hovermode": "closest",
          "mapbox": {
           "style": "light"
          },
          "paper_bgcolor": "white",
          "plot_bgcolor": "white",
          "polar": {
           "angularaxis": {
            "gridcolor": "#EBF0F8",
            "linecolor": "#EBF0F8",
            "ticks": ""
           },
           "bgcolor": "white",
           "radialaxis": {
            "gridcolor": "#EBF0F8",
            "linecolor": "#EBF0F8",
            "ticks": ""
           }
          },
          "scene": {
           "xaxis": {
            "backgroundcolor": "white",
            "gridcolor": "#DFE8F3",
            "gridwidth": 2,
            "linecolor": "#EBF0F8",
            "showbackground": true,
            "ticks": "",
            "zerolinecolor": "#EBF0F8"
           },
           "yaxis": {
            "backgroundcolor": "white",
            "gridcolor": "#DFE8F3",
            "gridwidth": 2,
            "linecolor": "#EBF0F8",
            "showbackground": true,
            "ticks": "",
            "zerolinecolor": "#EBF0F8"
           },
           "zaxis": {
            "backgroundcolor": "white",
            "gridcolor": "#DFE8F3",
            "gridwidth": 2,
            "linecolor": "#EBF0F8",
            "showbackground": true,
            "ticks": "",
            "zerolinecolor": "#EBF0F8"
           }
          },
          "shapedefaults": {
           "line": {
            "color": "#2a3f5f"
           }
          },
          "ternary": {
           "aaxis": {
            "gridcolor": "#DFE8F3",
            "linecolor": "#A2B1C6",
            "ticks": ""
           },
           "baxis": {
            "gridcolor": "#DFE8F3",
            "linecolor": "#A2B1C6",
            "ticks": ""
           },
           "bgcolor": "white",
           "caxis": {
            "gridcolor": "#DFE8F3",
            "linecolor": "#A2B1C6",
            "ticks": ""
           }
          },
          "title": {
           "x": 0.05
          },
          "xaxis": {
           "automargin": true,
           "gridcolor": "#EBF0F8",
           "linecolor": "#EBF0F8",
           "ticks": "",
           "title": {
            "standoff": 15
           },
           "zerolinecolor": "#EBF0F8",
           "zerolinewidth": 2
          },
          "yaxis": {
           "automargin": true,
           "gridcolor": "#EBF0F8",
           "linecolor": "#EBF0F8",
           "ticks": "",
           "title": {
            "standoff": 15
           },
           "zerolinecolor": "#EBF0F8",
           "zerolinewidth": 2
          }
         }
        },
        "title": {
         "text": "Site 48"
        },
        "xaxis": {
         "dtick": 21,
         "linecolor": "black",
         "linewidth": 1,
         "mirror": true,
         "showgrid": false,
         "showline": true,
         "tickangle": 0,
         "tickfont": {
          "size": 16
         },
         "tickmode": "linear",
         "title": {
          "font": {
           "size": 20
          },
          "text": "<b> Date </b>"
         }
        },
        "yaxis": {
         "linecolor": "black",
         "linewidth": 1,
         "mirror": true,
         "range": [
          -50,
          1100
         ],
         "showgrid": true,
         "showline": true,
         "title": {
          "font": {
           "size": 20
          },
          "text": "Irradiance [W/m<sup>2</sup>]"
         }
        }
       }
      },
      "text/html": [
       "<div>                            <div id=\"7af2b034-1072-4246-9ecb-738ca0442250\" class=\"plotly-graph-div\" style=\"height:525px; width:100%;\"></div>            <script type=\"text/javascript\">                require([\"plotly\"], function(Plotly) {                    window.PLOTLYENV=window.PLOTLYENV || {};                                    if (document.getElementById(\"7af2b034-1072-4246-9ecb-738ca0442250\")) {                    Plotly.newPlot(                        \"7af2b034-1072-4246-9ecb-738ca0442250\",                        [{\"line\":{\"color\":\"royalblue\",\"width\":2},\"marker\":{\"size\":8,\"symbol\":\"x\"},\"mode\":\"lines+markers\",\"name\":\"Actual\",\"showlegend\":true,\"x\":[\"11-01 07:00\",\"11-01 07:30\",\"11-01 08:00\",\"11-01 08:30\",\"11-01 09:00\",\"11-01 09:30\",\"11-01 10:00\",\"11-01 10:30\",\"11-01 11:00\",\"11-01 11:30\",\"11-01 12:00\",\"11-01 12:30\",\"11-01 13:00\",\"11-01 13:30\",\"11-01 14:00\",\"11-01 14:30\",\"11-01 15:00\",\"11-01 15:30\",\"11-01 16:00\",\"11-01 16:30\",\"11-01 17:00\",\"11-02 07:00\",\"11-02 07:30\",\"11-02 08:00\",\"11-02 08:30\",\"11-02 09:00\",\"11-02 09:30\",\"11-02 10:00\",\"11-02 10:30\",\"11-02 11:00\",\"11-02 11:30\",\"11-02 12:00\",\"11-02 12:30\",\"11-02 13:00\",\"11-02 13:30\",\"11-02 14:00\",\"11-02 14:30\",\"11-02 15:00\",\"11-02 15:30\",\"11-02 16:00\",\"11-02 16:30\",\"11-02 17:00\",\"11-03 07:00\",\"11-03 07:30\",\"11-03 08:00\",\"11-03 08:30\",\"11-03 09:00\",\"11-03 09:30\",\"11-03 10:00\",\"11-03 10:30\",\"11-03 11:00\",\"11-03 11:30\",\"11-03 12:00\",\"11-03 12:30\",\"11-03 13:00\",\"11-03 13:30\",\"11-03 14:00\",\"11-03 14:30\",\"11-03 15:00\",\"11-03 15:30\",\"11-03 16:00\",\"11-03 16:30\",\"11-03 17:00\"],\"y\":[92.76812,205.6555,357.5377,466.3281,434.9786,608.992,665.9479,745.9494,800.747,843.9851,840.2905,797.0157,709.0762,767.349,666.2405,518.0529,422.7607,325.8956,311.5926,176.4643,68.73475,142.5542,219.7024,376.2669,489.886,578.8131,675.4954,781.0667,844.4241,881.2241,877.6757,862.9704,798.8448,854.9592,789.0046,737.6456,652.8521,551.524,431.6132,321.2499,196.547,86.4397,127.1172,254.7466,379.8884,492.9221,598.4568,694.5538,774.0798,836.1934,875.5906,875.6638,885.321,843.0706,843.2535,816.7327,748.2174,502.4696,420.9683,308.8125,349.234,224.4579,100.0476],\"type\":\"scatter\"},{\"line\":{\"color\":\"firebrick\",\"width\":2},\"marker\":{\"size\":8,\"symbol\":\"circle-open\"},\"mode\":\"lines+markers\",\"name\":\"Forecasted\",\"showlegend\":true,\"x\":[\"11-01 07:00\",\"11-01 07:30\",\"11-01 08:00\",\"11-01 08:30\",\"11-01 09:00\",\"11-01 09:30\",\"11-01 10:00\",\"11-01 10:30\",\"11-01 11:00\",\"11-01 11:30\",\"11-01 12:00\",\"11-01 12:30\",\"11-01 13:00\",\"11-01 13:30\",\"11-01 14:00\",\"11-01 14:30\",\"11-01 15:00\",\"11-01 15:30\",\"11-01 16:00\",\"11-01 16:30\",\"11-01 17:00\",\"11-02 07:00\",\"11-02 07:30\",\"11-02 08:00\",\"11-02 08:30\",\"11-02 09:00\",\"11-02 09:30\",\"11-02 10:00\",\"11-02 10:30\",\"11-02 11:00\",\"11-02 11:30\",\"11-02 12:00\",\"11-02 12:30\",\"11-02 13:00\",\"11-02 13:30\",\"11-02 14:00\",\"11-02 14:30\",\"11-02 15:00\",\"11-02 15:30\",\"11-02 16:00\",\"11-02 16:30\",\"11-02 17:00\",\"11-03 07:00\",\"11-03 07:30\",\"11-03 08:00\",\"11-03 08:30\",\"11-03 09:00\",\"11-03 09:30\",\"11-03 10:00\",\"11-03 10:30\",\"11-03 11:00\",\"11-03 11:30\",\"11-03 12:00\",\"11-03 12:30\",\"11-03 13:00\",\"11-03 13:30\",\"11-03 14:00\",\"11-03 14:30\",\"11-03 15:00\",\"11-03 15:30\",\"11-03 16:00\",\"11-03 16:30\",\"11-03 17:00\"],\"y\":[50.7819628170829,138.11462089299343,278.5878226782164,380.3712681505357,485.00812070907523,487.14989888655975,630.120037228453,658.6596052609918,719.3429128176936,754.2600974060556,807.4808835177183,771.4385210440388,731.9827708127857,651.2718966176352,683.1258023598124,574.3868780750529,449.5507022504519,344.9180503360237,272.1495686436298,199.9081099744885,94.47571466532713,87.06415084203559,174.56033981678485,268.41145060986855,398.8363541932739,527.5408043371926,582.5408381627662,662.0066193266537,744.0742562961836,818.9888306968171,819.1451467005611,814.514867298075,795.4912046742897,762.2778538166447,744.6924013090451,687.838202931646,628.3781437578444,567.0556431774102,441.272782862119,329.60695084225864,224.0736289528938,136.80034778508931,55.52674376708708,167.64721056124037,314.62756940014725,403.5191031560164,507.082448256509,599.7521833522826,703.0311073360183,741.330652188521,791.1041814135586,820.1994894229847,839.8464216454543,808.5312279727349,769.7948353380011,748.0955334821347,732.0498622100931,637.3585001851739,454.4897469736185,352.2053378187017,265.7406854136266,226.54119107760783,133.730334091761],\"type\":\"scatter\"}],                        {\"template\":{\"data\":{\"histogram2dcontour\":[{\"type\":\"histogram2dcontour\",\"colorbar\":{\"outlinewidth\":0,\"ticks\":\"\"},\"colorscale\":[[0.0,\"#0d0887\"],[0.1111111111111111,\"#46039f\"],[0.2222222222222222,\"#7201a8\"],[0.3333333333333333,\"#9c179e\"],[0.4444444444444444,\"#bd3786\"],[0.5555555555555556,\"#d8576b\"],[0.6666666666666666,\"#ed7953\"],[0.7777777777777778,\"#fb9f3a\"],[0.8888888888888888,\"#fdca26\"],[1.0,\"#f0f921\"]]}],\"choropleth\":[{\"type\":\"choropleth\",\"colorbar\":{\"outlinewidth\":0,\"ticks\":\"\"}}],\"histogram2d\":[{\"type\":\"histogram2d\",\"colorbar\":{\"outlinewidth\":0,\"ticks\":\"\"},\"colorscale\":[[0.0,\"#0d0887\"],[0.1111111111111111,\"#46039f\"],[0.2222222222222222,\"#7201a8\"],[0.3333333333333333,\"#9c179e\"],[0.4444444444444444,\"#bd3786\"],[0.5555555555555556,\"#d8576b\"],[0.6666666666666666,\"#ed7953\"],[0.7777777777777778,\"#fb9f3a\"],[0.8888888888888888,\"#fdca26\"],[1.0,\"#f0f921\"]]}],\"heatmap\":[{\"type\":\"heatmap\",\"colorbar\":{\"outlinewidth\":0,\"ticks\":\"\"},\"colorscale\":[[0.0,\"#0d0887\"],[0.1111111111111111,\"#46039f\"],[0.2222222222222222,\"#7201a8\"],[0.3333333333333333,\"#9c179e\"],[0.4444444444444444,\"#bd3786\"],[0.5555555555555556,\"#d8576b\"],[0.6666666666666666,\"#ed7953\"],[0.7777777777777778,\"#fb9f3a\"],[0.8888888888888888,\"#fdca26\"],[1.0,\"#f0f921\"]]}],\"heatmapgl\":[{\"type\":\"heatmapgl\",\"colorbar\":{\"outlinewidth\":0,\"ticks\":\"\"},\"colorscale\":[[0.0,\"#0d0887\"],[0.1111111111111111,\"#46039f\"],[0.2222222222222222,\"#7201a8\"],[0.3333333333333333,\"#9c179e\"],[0.4444444444444444,\"#bd3786\"],[0.5555555555555556,\"#d8576b\"],[0.6666666666666666,\"#ed7953\"],[0.7777777777777778,\"#fb9f3a\"],[0.8888888888888888,\"#fdca26\"],[1.0,\"#f0f921\"]]}],\"contourcarpet\":[{\"type\":\"contourcarpet\",\"colorbar\":{\"outlinewidth\":0,\"ticks\":\"\"}}],\"contour\":[{\"type\":\"contour\",\"colorbar\":{\"outlinewidth\":0,\"ticks\":\"\"},\"colorscale\":[[0.0,\"#0d0887\"],[0.1111111111111111,\"#46039f\"],[0.2222222222222222,\"#7201a8\"],[0.3333333333333333,\"#9c179e\"],[0.4444444444444444,\"#bd3786\"],[0.5555555555555556,\"#d8576b\"],[0.6666666666666666,\"#ed7953\"],[0.7777777777777778,\"#fb9f3a\"],[0.8888888888888888,\"#fdca26\"],[1.0,\"#f0f921\"]]}],\"surface\":[{\"type\":\"surface\",\"colorbar\":{\"outlinewidth\":0,\"ticks\":\"\"},\"colorscale\":[[0.0,\"#0d0887\"],[0.1111111111111111,\"#46039f\"],[0.2222222222222222,\"#7201a8\"],[0.3333333333333333,\"#9c179e\"],[0.4444444444444444,\"#bd3786\"],[0.5555555555555556,\"#d8576b\"],[0.6666666666666666,\"#ed7953\"],[0.7777777777777778,\"#fb9f3a\"],[0.8888888888888888,\"#fdca26\"],[1.0,\"#f0f921\"]]}],\"mesh3d\":[{\"type\":\"mesh3d\",\"colorbar\":{\"outlinewidth\":0,\"ticks\":\"\"}}],\"scatter\":[{\"fillpattern\":{\"fillmode\":\"overlay\",\"size\":10,\"solidity\":0.2},\"type\":\"scatter\"}],\"parcoords\":[{\"type\":\"parcoords\",\"line\":{\"colorbar\":{\"outlinewidth\":0,\"ticks\":\"\"}}}],\"scatterpolargl\":[{\"type\":\"scatterpolargl\",\"marker\":{\"colorbar\":{\"outlinewidth\":0,\"ticks\":\"\"}}}],\"bar\":[{\"error_x\":{\"color\":\"#2a3f5f\"},\"error_y\":{\"color\":\"#2a3f5f\"},\"marker\":{\"line\":{\"color\":\"white\",\"width\":0.5},\"pattern\":{\"fillmode\":\"overlay\",\"size\":10,\"solidity\":0.2}},\"type\":\"bar\"}],\"scattergeo\":[{\"type\":\"scattergeo\",\"marker\":{\"colorbar\":{\"outlinewidth\":0,\"ticks\":\"\"}}}],\"scatterpolar\":[{\"type\":\"scatterpolar\",\"marker\":{\"colorbar\":{\"outlinewidth\":0,\"ticks\":\"\"}}}],\"histogram\":[{\"marker\":{\"pattern\":{\"fillmode\":\"overlay\",\"size\":10,\"solidity\":0.2}},\"type\":\"histogram\"}],\"scattergl\":[{\"type\":\"scattergl\",\"marker\":{\"colorbar\":{\"outlinewidth\":0,\"ticks\":\"\"}}}],\"scatter3d\":[{\"type\":\"scatter3d\",\"line\":{\"colorbar\":{\"outlinewidth\":0,\"ticks\":\"\"}},\"marker\":{\"colorbar\":{\"outlinewidth\":0,\"ticks\":\"\"}}}],\"scattermapbox\":[{\"type\":\"scattermapbox\",\"marker\":{\"colorbar\":{\"outlinewidth\":0,\"ticks\":\"\"}}}],\"scatterternary\":[{\"type\":\"scatterternary\",\"marker\":{\"colorbar\":{\"outlinewidth\":0,\"ticks\":\"\"}}}],\"scattercarpet\":[{\"type\":\"scattercarpet\",\"marker\":{\"colorbar\":{\"outlinewidth\":0,\"ticks\":\"\"}}}],\"carpet\":[{\"aaxis\":{\"endlinecolor\":\"#2a3f5f\",\"gridcolor\":\"#C8D4E3\",\"linecolor\":\"#C8D4E3\",\"minorgridcolor\":\"#C8D4E3\",\"startlinecolor\":\"#2a3f5f\"},\"baxis\":{\"endlinecolor\":\"#2a3f5f\",\"gridcolor\":\"#C8D4E3\",\"linecolor\":\"#C8D4E3\",\"minorgridcolor\":\"#C8D4E3\",\"startlinecolor\":\"#2a3f5f\"},\"type\":\"carpet\"}],\"table\":[{\"cells\":{\"fill\":{\"color\":\"#EBF0F8\"},\"line\":{\"color\":\"white\"}},\"header\":{\"fill\":{\"color\":\"#C8D4E3\"},\"line\":{\"color\":\"white\"}},\"type\":\"table\"}],\"barpolar\":[{\"marker\":{\"line\":{\"color\":\"white\",\"width\":0.5},\"pattern\":{\"fillmode\":\"overlay\",\"size\":10,\"solidity\":0.2}},\"type\":\"barpolar\"}],\"pie\":[{\"automargin\":true,\"type\":\"pie\"}]},\"layout\":{\"autotypenumbers\":\"strict\",\"colorway\":[\"#636efa\",\"#EF553B\",\"#00cc96\",\"#ab63fa\",\"#FFA15A\",\"#19d3f3\",\"#FF6692\",\"#B6E880\",\"#FF97FF\",\"#FECB52\"],\"font\":{\"color\":\"#2a3f5f\"},\"hovermode\":\"closest\",\"hoverlabel\":{\"align\":\"left\"},\"paper_bgcolor\":\"white\",\"plot_bgcolor\":\"white\",\"polar\":{\"bgcolor\":\"white\",\"angularaxis\":{\"gridcolor\":\"#EBF0F8\",\"linecolor\":\"#EBF0F8\",\"ticks\":\"\"},\"radialaxis\":{\"gridcolor\":\"#EBF0F8\",\"linecolor\":\"#EBF0F8\",\"ticks\":\"\"}},\"ternary\":{\"bgcolor\":\"white\",\"aaxis\":{\"gridcolor\":\"#DFE8F3\",\"linecolor\":\"#A2B1C6\",\"ticks\":\"\"},\"baxis\":{\"gridcolor\":\"#DFE8F3\",\"linecolor\":\"#A2B1C6\",\"ticks\":\"\"},\"caxis\":{\"gridcolor\":\"#DFE8F3\",\"linecolor\":\"#A2B1C6\",\"ticks\":\"\"}},\"coloraxis\":{\"colorbar\":{\"outlinewidth\":0,\"ticks\":\"\"}},\"colorscale\":{\"sequential\":[[0.0,\"#0d0887\"],[0.1111111111111111,\"#46039f\"],[0.2222222222222222,\"#7201a8\"],[0.3333333333333333,\"#9c179e\"],[0.4444444444444444,\"#bd3786\"],[0.5555555555555556,\"#d8576b\"],[0.6666666666666666,\"#ed7953\"],[0.7777777777777778,\"#fb9f3a\"],[0.8888888888888888,\"#fdca26\"],[1.0,\"#f0f921\"]],\"sequentialminus\":[[0.0,\"#0d0887\"],[0.1111111111111111,\"#46039f\"],[0.2222222222222222,\"#7201a8\"],[0.3333333333333333,\"#9c179e\"],[0.4444444444444444,\"#bd3786\"],[0.5555555555555556,\"#d8576b\"],[0.6666666666666666,\"#ed7953\"],[0.7777777777777778,\"#fb9f3a\"],[0.8888888888888888,\"#fdca26\"],[1.0,\"#f0f921\"]],\"diverging\":[[0,\"#8e0152\"],[0.1,\"#c51b7d\"],[0.2,\"#de77ae\"],[0.3,\"#f1b6da\"],[0.4,\"#fde0ef\"],[0.5,\"#f7f7f7\"],[0.6,\"#e6f5d0\"],[0.7,\"#b8e186\"],[0.8,\"#7fbc41\"],[0.9,\"#4d9221\"],[1,\"#276419\"]]},\"xaxis\":{\"gridcolor\":\"#EBF0F8\",\"linecolor\":\"#EBF0F8\",\"ticks\":\"\",\"title\":{\"standoff\":15},\"zerolinecolor\":\"#EBF0F8\",\"automargin\":true,\"zerolinewidth\":2},\"yaxis\":{\"gridcolor\":\"#EBF0F8\",\"linecolor\":\"#EBF0F8\",\"ticks\":\"\",\"title\":{\"standoff\":15},\"zerolinecolor\":\"#EBF0F8\",\"automargin\":true,\"zerolinewidth\":2},\"scene\":{\"xaxis\":{\"backgroundcolor\":\"white\",\"gridcolor\":\"#DFE8F3\",\"linecolor\":\"#EBF0F8\",\"showbackground\":true,\"ticks\":\"\",\"zerolinecolor\":\"#EBF0F8\",\"gridwidth\":2},\"yaxis\":{\"backgroundcolor\":\"white\",\"gridcolor\":\"#DFE8F3\",\"linecolor\":\"#EBF0F8\",\"showbackground\":true,\"ticks\":\"\",\"zerolinecolor\":\"#EBF0F8\",\"gridwidth\":2},\"zaxis\":{\"backgroundcolor\":\"white\",\"gridcolor\":\"#DFE8F3\",\"linecolor\":\"#EBF0F8\",\"showbackground\":true,\"ticks\":\"\",\"zerolinecolor\":\"#EBF0F8\",\"gridwidth\":2}},\"shapedefaults\":{\"line\":{\"color\":\"#2a3f5f\"}},\"annotationdefaults\":{\"arrowcolor\":\"#2a3f5f\",\"arrowhead\":0,\"arrowwidth\":1},\"geo\":{\"bgcolor\":\"white\",\"landcolor\":\"white\",\"subunitcolor\":\"#C8D4E3\",\"showland\":true,\"showlakes\":true,\"lakecolor\":\"white\"},\"title\":{\"x\":0.05},\"mapbox\":{\"style\":\"light\"}}},\"xaxis\":{\"title\":{\"text\":\"<b> Date </b>\",\"font\":{\"size\":20}},\"tickfont\":{\"size\":16},\"showgrid\":false,\"tickmode\":\"linear\",\"dtick\":21,\"tickangle\":0,\"showline\":true,\"linewidth\":1,\"linecolor\":\"black\",\"mirror\":true},\"yaxis\":{\"title\":{\"text\":\"Irradiance [W/m<sup>2</sup>]\",\"font\":{\"size\":20}},\"showgrid\":true,\"range\":[-50,1100],\"showline\":true,\"linewidth\":1,\"linecolor\":\"black\",\"mirror\":true},\"legend\":{\"font\":{\"size\":12},\"x\":0.75,\"y\":1,\"traceorder\":\"normal\"},\"font\":{\"size\":18},\"title\":{\"text\":\"Site 48\"}},                        {\"responsive\": true}                    ).then(function(){\n",
       "                            \n",
       "var gd = document.getElementById('7af2b034-1072-4246-9ecb-738ca0442250');\n",
       "var x = new MutationObserver(function (mutations, observer) {{\n",
       "        var display = window.getComputedStyle(gd).display;\n",
       "        if (!display || display === 'none') {{\n",
       "            console.log([gd, 'removed!']);\n",
       "            Plotly.purge(gd);\n",
       "            observer.disconnect();\n",
       "        }}\n",
       "}});\n",
       "\n",
       "// Listen for the removal of the full notebook cells\n",
       "var notebookContainer = gd.closest('#notebook-container');\n",
       "if (notebookContainer) {{\n",
       "    x.observe(notebookContainer, {childList: true});\n",
       "}}\n",
       "\n",
       "// Listen for the clearing of the current output cell\n",
       "var outputEl = gd.closest('.output');\n",
       "if (outputEl) {{\n",
       "    x.observe(outputEl, {childList: true});\n",
       "}}\n",
       "\n",
       "                        })                };                });            </script>        </div>"
      ]
     },
     "metadata": {},
     "output_type": "display_data"
    },
    {
     "data": {
      "text/plain": [
       "[66.78049904155299, 58.393224877808805, 0.933827995509367]"
      ]
     },
     "execution_count": 30,
     "metadata": {},
     "output_type": "execute_result"
    }
   ],
   "source": [
    "from sklearn.metrics import r2_score, mean_absolute_error, mean_squared_error\n",
    "from datetime import timedelta\n",
    "\n",
    "\n",
    "def plot_and_result(y_merge, step, site, legend_status):\n",
    "    \n",
    "  y_merge = y_merge[y_merge['site'] == 1]\n",
    "  y_merge = y_merge[[f'I_lead_{step}step',f'forecast_{step}_step']].dropna().iloc[:(22-step)*3]\n",
    "  y_true = y_merge[f'I_lead_{step}step'].ravel()\n",
    "  y_pred = y_merge[f'forecast_{step}_step'].ravel()\n",
    "  dates = y_merge.index + timedelta(minutes = 30 * step)\n",
    "\n",
    "  dates_list = [dt.strftime('%m-%d %H:%M') for dt in dates]\n",
    "  \n",
    "  r_2 = r2_score(y_true, y_pred)\n",
    "  rmse = mean_squared_error(y_true, y_pred) ** 0.5\n",
    "  mae = mean_absolute_error(y_true,y_pred)\n",
    "\n",
    "  fig = go.Figure()\n",
    "  fig.add_trace(go.Scatter(x=dates_list,\n",
    "                            y=y_true,\n",
    "                            name=\"Actual\",\n",
    "                            mode='lines+markers',\n",
    "                           marker=dict(symbol='x', size=8),\n",
    "                            line=dict(color='royalblue', width=2)\n",
    "                           ,showlegend=legend_status\n",
    "                            ))\n",
    "\n",
    "  fig.add_trace(go.Scatter(x=dates_list,\n",
    "                            y=y_pred,\n",
    "                            name=\"Forecasted\",\n",
    "                           mode='lines+markers',\n",
    "                           marker=dict(symbol='circle-open', size=8),\n",
    "                            line=dict(color='firebrick', width=2)\n",
    "                           ,showlegend=legend_status   \n",
    "                            ))\n",
    "\n",
    "  fig.update_layout(\n",
    "                    title = f'Site {site}',\n",
    "                    xaxis_title='Date',\n",
    "                    yaxis_title='Irradiance[W/m2]',\n",
    "                    xaxis=dict(title_font=dict(size=20),showgrid=False,tickmode='linear', dtick=21, tickfont=dict(size=16)),\n",
    "                    yaxis=dict(title_font=dict(size=20),showgrid=False),\n",
    "                    legend=dict(x=0.75,y=1,traceorder='normal', font=dict(size=12)),\n",
    "                    font=dict(size=18))\n",
    "\n",
    "  fig.update_yaxes(title_text='Irradiance [W/m<sup>2</sup>]',range=[-50, 1100], \n",
    "                    showline=True, linewidth=1, linecolor='black',mirror=True,showgrid=True)\n",
    "  fig.update_xaxes(title_text='<b> Date </b>',tickangle= 360,\n",
    "                     showline=True, linewidth=1, linecolor='black',mirror=True)\n",
    "  fig.show()\n",
    "  result = [rmse, mae, r_2]\n",
    "  pio.write_image(fig, f'{step}_step_forecast_SARIMAX_site{site}.jpg')\n",
    "  pio.write_image(fig, f'{step}_step_forecast_SARIMAX_site{site}.pdf')\n",
    "  pio.write_image(fig, f'{step}_step_forecast_SARIMAX_site{site}.svg')\n",
    "#   pio.write_image(fig, f'{step}_step_forecast_SARIMAX_site{site}.eps')\n",
    "  return result\n",
    "\n",
    "plot_and_result(y_merge, step = 1, site = 48, legend_status = True)"
   ]
  },
  {
   "cell_type": "code",
   "execution_count": 45,
   "id": "5724a044",
   "metadata": {
    "scrolled": true
   },
   "outputs": [
    {
     "name": "stdout",
     "output_type": "stream",
     "text": [
      "1\n"
     ]
    },
    {
     "name": "stderr",
     "output_type": "stream",
     "text": [
      "C:\\Users\\User\\AppData\\Local\\Temp\\ipykernel_6544\\2736913982.py:34: SettingWithCopyWarning:\n",
      "\n",
      "\n",
      "A value is trying to be set on a copy of a slice from a DataFrame\n",
      "\n",
      "See the caveats in the documentation: https://pandas.pydata.org/pandas-docs/stable/user_guide/indexing.html#returning-a-view-versus-a-copy\n",
      "\n"
     ]
    },
    {
     "name": "stdout",
     "output_type": "stream",
     "text": [
      "2\n"
     ]
    },
    {
     "name": "stderr",
     "output_type": "stream",
     "text": [
      "C:\\Users\\User\\AppData\\Local\\Temp\\ipykernel_6544\\2736913982.py:34: SettingWithCopyWarning:\n",
      "\n",
      "\n",
      "A value is trying to be set on a copy of a slice from a DataFrame\n",
      "\n",
      "See the caveats in the documentation: https://pandas.pydata.org/pandas-docs/stable/user_guide/indexing.html#returning-a-view-versus-a-copy\n",
      "\n",
      "D:\\Anacondas\\lib\\site-packages\\statsmodels\\base\\model.py:604: ConvergenceWarning:\n",
      "\n",
      "Maximum Likelihood optimization failed to converge. Check mle_retvals\n",
      "\n"
     ]
    },
    {
     "name": "stdout",
     "output_type": "stream",
     "text": [
      "3\n"
     ]
    },
    {
     "name": "stderr",
     "output_type": "stream",
     "text": [
      "C:\\Users\\User\\AppData\\Local\\Temp\\ipykernel_6544\\2736913982.py:34: SettingWithCopyWarning:\n",
      "\n",
      "\n",
      "A value is trying to be set on a copy of a slice from a DataFrame\n",
      "\n",
      "See the caveats in the documentation: https://pandas.pydata.org/pandas-docs/stable/user_guide/indexing.html#returning-a-view-versus-a-copy\n",
      "\n"
     ]
    },
    {
     "name": "stdout",
     "output_type": "stream",
     "text": [
      "4\n"
     ]
    },
    {
     "name": "stderr",
     "output_type": "stream",
     "text": [
      "C:\\Users\\User\\AppData\\Local\\Temp\\ipykernel_6544\\2736913982.py:34: SettingWithCopyWarning:\n",
      "\n",
      "\n",
      "A value is trying to be set on a copy of a slice from a DataFrame\n",
      "\n",
      "See the caveats in the documentation: https://pandas.pydata.org/pandas-docs/stable/user_guide/indexing.html#returning-a-view-versus-a-copy\n",
      "\n"
     ]
    },
    {
     "name": "stdout",
     "output_type": "stream",
     "text": [
      "6\n"
     ]
    },
    {
     "name": "stderr",
     "output_type": "stream",
     "text": [
      "C:\\Users\\User\\AppData\\Local\\Temp\\ipykernel_6544\\2736913982.py:34: SettingWithCopyWarning:\n",
      "\n",
      "\n",
      "A value is trying to be set on a copy of a slice from a DataFrame\n",
      "\n",
      "See the caveats in the documentation: https://pandas.pydata.org/pandas-docs/stable/user_guide/indexing.html#returning-a-view-versus-a-copy\n",
      "\n"
     ]
    },
    {
     "name": "stdout",
     "output_type": "stream",
     "text": [
      "7\n"
     ]
    },
    {
     "name": "stderr",
     "output_type": "stream",
     "text": [
      "C:\\Users\\User\\AppData\\Local\\Temp\\ipykernel_6544\\2736913982.py:34: SettingWithCopyWarning:\n",
      "\n",
      "\n",
      "A value is trying to be set on a copy of a slice from a DataFrame\n",
      "\n",
      "See the caveats in the documentation: https://pandas.pydata.org/pandas-docs/stable/user_guide/indexing.html#returning-a-view-versus-a-copy\n",
      "\n"
     ]
    },
    {
     "name": "stdout",
     "output_type": "stream",
     "text": [
      "8\n"
     ]
    },
    {
     "name": "stderr",
     "output_type": "stream",
     "text": [
      "C:\\Users\\User\\AppData\\Local\\Temp\\ipykernel_6544\\2736913982.py:34: SettingWithCopyWarning:\n",
      "\n",
      "\n",
      "A value is trying to be set on a copy of a slice from a DataFrame\n",
      "\n",
      "See the caveats in the documentation: https://pandas.pydata.org/pandas-docs/stable/user_guide/indexing.html#returning-a-view-versus-a-copy\n",
      "\n"
     ]
    },
    {
     "name": "stdout",
     "output_type": "stream",
     "text": [
      "9\n"
     ]
    },
    {
     "name": "stderr",
     "output_type": "stream",
     "text": [
      "C:\\Users\\User\\AppData\\Local\\Temp\\ipykernel_6544\\2736913982.py:34: SettingWithCopyWarning:\n",
      "\n",
      "\n",
      "A value is trying to be set on a copy of a slice from a DataFrame\n",
      "\n",
      "See the caveats in the documentation: https://pandas.pydata.org/pandas-docs/stable/user_guide/indexing.html#returning-a-view-versus-a-copy\n",
      "\n"
     ]
    },
    {
     "name": "stdout",
     "output_type": "stream",
     "text": [
      "10\n"
     ]
    },
    {
     "name": "stderr",
     "output_type": "stream",
     "text": [
      "C:\\Users\\User\\AppData\\Local\\Temp\\ipykernel_6544\\2736913982.py:34: SettingWithCopyWarning:\n",
      "\n",
      "\n",
      "A value is trying to be set on a copy of a slice from a DataFrame\n",
      "\n",
      "See the caveats in the documentation: https://pandas.pydata.org/pandas-docs/stable/user_guide/indexing.html#returning-a-view-versus-a-copy\n",
      "\n"
     ]
    },
    {
     "name": "stdout",
     "output_type": "stream",
     "text": [
      "11\n"
     ]
    },
    {
     "name": "stderr",
     "output_type": "stream",
     "text": [
      "C:\\Users\\User\\AppData\\Local\\Temp\\ipykernel_6544\\2736913982.py:34: SettingWithCopyWarning:\n",
      "\n",
      "\n",
      "A value is trying to be set on a copy of a slice from a DataFrame\n",
      "\n",
      "See the caveats in the documentation: https://pandas.pydata.org/pandas-docs/stable/user_guide/indexing.html#returning-a-view-versus-a-copy\n",
      "\n"
     ]
    },
    {
     "name": "stdout",
     "output_type": "stream",
     "text": [
      "12\n"
     ]
    },
    {
     "name": "stderr",
     "output_type": "stream",
     "text": [
      "C:\\Users\\User\\AppData\\Local\\Temp\\ipykernel_6544\\2736913982.py:34: SettingWithCopyWarning:\n",
      "\n",
      "\n",
      "A value is trying to be set on a copy of a slice from a DataFrame\n",
      "\n",
      "See the caveats in the documentation: https://pandas.pydata.org/pandas-docs/stable/user_guide/indexing.html#returning-a-view-versus-a-copy\n",
      "\n"
     ]
    },
    {
     "name": "stdout",
     "output_type": "stream",
     "text": [
      "14\n"
     ]
    },
    {
     "name": "stderr",
     "output_type": "stream",
     "text": [
      "C:\\Users\\User\\AppData\\Local\\Temp\\ipykernel_6544\\2736913982.py:34: SettingWithCopyWarning:\n",
      "\n",
      "\n",
      "A value is trying to be set on a copy of a slice from a DataFrame\n",
      "\n",
      "See the caveats in the documentation: https://pandas.pydata.org/pandas-docs/stable/user_guide/indexing.html#returning-a-view-versus-a-copy\n",
      "\n",
      "D:\\Anacondas\\lib\\site-packages\\statsmodels\\base\\model.py:604: ConvergenceWarning:\n",
      "\n",
      "Maximum Likelihood optimization failed to converge. Check mle_retvals\n",
      "\n"
     ]
    },
    {
     "name": "stdout",
     "output_type": "stream",
     "text": [
      "15\n"
     ]
    },
    {
     "name": "stderr",
     "output_type": "stream",
     "text": [
      "C:\\Users\\User\\AppData\\Local\\Temp\\ipykernel_6544\\2736913982.py:34: SettingWithCopyWarning:\n",
      "\n",
      "\n",
      "A value is trying to be set on a copy of a slice from a DataFrame\n",
      "\n",
      "See the caveats in the documentation: https://pandas.pydata.org/pandas-docs/stable/user_guide/indexing.html#returning-a-view-versus-a-copy\n",
      "\n",
      "D:\\Anacondas\\lib\\site-packages\\statsmodels\\base\\model.py:604: ConvergenceWarning:\n",
      "\n",
      "Maximum Likelihood optimization failed to converge. Check mle_retvals\n",
      "\n"
     ]
    },
    {
     "name": "stdout",
     "output_type": "stream",
     "text": [
      "16\n"
     ]
    },
    {
     "name": "stderr",
     "output_type": "stream",
     "text": [
      "C:\\Users\\User\\AppData\\Local\\Temp\\ipykernel_6544\\2736913982.py:34: SettingWithCopyWarning:\n",
      "\n",
      "\n",
      "A value is trying to be set on a copy of a slice from a DataFrame\n",
      "\n",
      "See the caveats in the documentation: https://pandas.pydata.org/pandas-docs/stable/user_guide/indexing.html#returning-a-view-versus-a-copy\n",
      "\n",
      "D:\\Anacondas\\lib\\site-packages\\statsmodels\\base\\model.py:604: ConvergenceWarning:\n",
      "\n",
      "Maximum Likelihood optimization failed to converge. Check mle_retvals\n",
      "\n"
     ]
    },
    {
     "name": "stdout",
     "output_type": "stream",
     "text": [
      "17\n"
     ]
    },
    {
     "name": "stderr",
     "output_type": "stream",
     "text": [
      "C:\\Users\\User\\AppData\\Local\\Temp\\ipykernel_6544\\2736913982.py:34: SettingWithCopyWarning:\n",
      "\n",
      "\n",
      "A value is trying to be set on a copy of a slice from a DataFrame\n",
      "\n",
      "See the caveats in the documentation: https://pandas.pydata.org/pandas-docs/stable/user_guide/indexing.html#returning-a-view-versus-a-copy\n",
      "\n"
     ]
    },
    {
     "name": "stdout",
     "output_type": "stream",
     "text": [
      "18\n"
     ]
    },
    {
     "name": "stderr",
     "output_type": "stream",
     "text": [
      "C:\\Users\\User\\AppData\\Local\\Temp\\ipykernel_6544\\2736913982.py:34: SettingWithCopyWarning:\n",
      "\n",
      "\n",
      "A value is trying to be set on a copy of a slice from a DataFrame\n",
      "\n",
      "See the caveats in the documentation: https://pandas.pydata.org/pandas-docs/stable/user_guide/indexing.html#returning-a-view-versus-a-copy\n",
      "\n"
     ]
    },
    {
     "name": "stdout",
     "output_type": "stream",
     "text": [
      "19\n"
     ]
    },
    {
     "name": "stderr",
     "output_type": "stream",
     "text": [
      "C:\\Users\\User\\AppData\\Local\\Temp\\ipykernel_6544\\2736913982.py:34: SettingWithCopyWarning:\n",
      "\n",
      "\n",
      "A value is trying to be set on a copy of a slice from a DataFrame\n",
      "\n",
      "See the caveats in the documentation: https://pandas.pydata.org/pandas-docs/stable/user_guide/indexing.html#returning-a-view-versus-a-copy\n",
      "\n"
     ]
    },
    {
     "name": "stdout",
     "output_type": "stream",
     "text": [
      "20\n"
     ]
    },
    {
     "name": "stderr",
     "output_type": "stream",
     "text": [
      "C:\\Users\\User\\AppData\\Local\\Temp\\ipykernel_6544\\2736913982.py:34: SettingWithCopyWarning:\n",
      "\n",
      "\n",
      "A value is trying to be set on a copy of a slice from a DataFrame\n",
      "\n",
      "See the caveats in the documentation: https://pandas.pydata.org/pandas-docs/stable/user_guide/indexing.html#returning-a-view-versus-a-copy\n",
      "\n"
     ]
    },
    {
     "name": "stdout",
     "output_type": "stream",
     "text": [
      "21\n"
     ]
    },
    {
     "name": "stderr",
     "output_type": "stream",
     "text": [
      "C:\\Users\\User\\AppData\\Local\\Temp\\ipykernel_6544\\2736913982.py:34: SettingWithCopyWarning:\n",
      "\n",
      "\n",
      "A value is trying to be set on a copy of a slice from a DataFrame\n",
      "\n",
      "See the caveats in the documentation: https://pandas.pydata.org/pandas-docs/stable/user_guide/indexing.html#returning-a-view-versus-a-copy\n",
      "\n"
     ]
    },
    {
     "name": "stdout",
     "output_type": "stream",
     "text": [
      "22\n"
     ]
    },
    {
     "name": "stderr",
     "output_type": "stream",
     "text": [
      "C:\\Users\\User\\AppData\\Local\\Temp\\ipykernel_6544\\2736913982.py:34: SettingWithCopyWarning:\n",
      "\n",
      "\n",
      "A value is trying to be set on a copy of a slice from a DataFrame\n",
      "\n",
      "See the caveats in the documentation: https://pandas.pydata.org/pandas-docs/stable/user_guide/indexing.html#returning-a-view-versus-a-copy\n",
      "\n"
     ]
    },
    {
     "name": "stdout",
     "output_type": "stream",
     "text": [
      "23\n"
     ]
    },
    {
     "name": "stderr",
     "output_type": "stream",
     "text": [
      "C:\\Users\\User\\AppData\\Local\\Temp\\ipykernel_6544\\2736913982.py:34: SettingWithCopyWarning:\n",
      "\n",
      "\n",
      "A value is trying to be set on a copy of a slice from a DataFrame\n",
      "\n",
      "See the caveats in the documentation: https://pandas.pydata.org/pandas-docs/stable/user_guide/indexing.html#returning-a-view-versus-a-copy\n",
      "\n"
     ]
    },
    {
     "name": "stdout",
     "output_type": "stream",
     "text": [
      "24\n"
     ]
    },
    {
     "name": "stderr",
     "output_type": "stream",
     "text": [
      "C:\\Users\\User\\AppData\\Local\\Temp\\ipykernel_6544\\2736913982.py:34: SettingWithCopyWarning:\n",
      "\n",
      "\n",
      "A value is trying to be set on a copy of a slice from a DataFrame\n",
      "\n",
      "See the caveats in the documentation: https://pandas.pydata.org/pandas-docs/stable/user_guide/indexing.html#returning-a-view-versus-a-copy\n",
      "\n"
     ]
    },
    {
     "name": "stdout",
     "output_type": "stream",
     "text": [
      "25\n"
     ]
    },
    {
     "name": "stderr",
     "output_type": "stream",
     "text": [
      "C:\\Users\\User\\AppData\\Local\\Temp\\ipykernel_6544\\2736913982.py:34: SettingWithCopyWarning:\n",
      "\n",
      "\n",
      "A value is trying to be set on a copy of a slice from a DataFrame\n",
      "\n",
      "See the caveats in the documentation: https://pandas.pydata.org/pandas-docs/stable/user_guide/indexing.html#returning-a-view-versus-a-copy\n",
      "\n"
     ]
    },
    {
     "name": "stdout",
     "output_type": "stream",
     "text": [
      "26\n"
     ]
    },
    {
     "name": "stderr",
     "output_type": "stream",
     "text": [
      "C:\\Users\\User\\AppData\\Local\\Temp\\ipykernel_6544\\2736913982.py:34: SettingWithCopyWarning:\n",
      "\n",
      "\n",
      "A value is trying to be set on a copy of a slice from a DataFrame\n",
      "\n",
      "See the caveats in the documentation: https://pandas.pydata.org/pandas-docs/stable/user_guide/indexing.html#returning-a-view-versus-a-copy\n",
      "\n"
     ]
    },
    {
     "name": "stdout",
     "output_type": "stream",
     "text": [
      "27\n"
     ]
    },
    {
     "name": "stderr",
     "output_type": "stream",
     "text": [
      "C:\\Users\\User\\AppData\\Local\\Temp\\ipykernel_6544\\2736913982.py:34: SettingWithCopyWarning:\n",
      "\n",
      "\n",
      "A value is trying to be set on a copy of a slice from a DataFrame\n",
      "\n",
      "See the caveats in the documentation: https://pandas.pydata.org/pandas-docs/stable/user_guide/indexing.html#returning-a-view-versus-a-copy\n",
      "\n"
     ]
    },
    {
     "name": "stdout",
     "output_type": "stream",
     "text": [
      "28\n"
     ]
    },
    {
     "name": "stderr",
     "output_type": "stream",
     "text": [
      "C:\\Users\\User\\AppData\\Local\\Temp\\ipykernel_6544\\2736913982.py:34: SettingWithCopyWarning:\n",
      "\n",
      "\n",
      "A value is trying to be set on a copy of a slice from a DataFrame\n",
      "\n",
      "See the caveats in the documentation: https://pandas.pydata.org/pandas-docs/stable/user_guide/indexing.html#returning-a-view-versus-a-copy\n",
      "\n"
     ]
    },
    {
     "name": "stdout",
     "output_type": "stream",
     "text": [
      "29\n"
     ]
    },
    {
     "name": "stderr",
     "output_type": "stream",
     "text": [
      "C:\\Users\\User\\AppData\\Local\\Temp\\ipykernel_6544\\2736913982.py:34: SettingWithCopyWarning:\n",
      "\n",
      "\n",
      "A value is trying to be set on a copy of a slice from a DataFrame\n",
      "\n",
      "See the caveats in the documentation: https://pandas.pydata.org/pandas-docs/stable/user_guide/indexing.html#returning-a-view-versus-a-copy\n",
      "\n"
     ]
    },
    {
     "name": "stdout",
     "output_type": "stream",
     "text": [
      "30\n"
     ]
    },
    {
     "name": "stderr",
     "output_type": "stream",
     "text": [
      "C:\\Users\\User\\AppData\\Local\\Temp\\ipykernel_6544\\2736913982.py:34: SettingWithCopyWarning:\n",
      "\n",
      "\n",
      "A value is trying to be set on a copy of a slice from a DataFrame\n",
      "\n",
      "See the caveats in the documentation: https://pandas.pydata.org/pandas-docs/stable/user_guide/indexing.html#returning-a-view-versus-a-copy\n",
      "\n"
     ]
    },
    {
     "name": "stdout",
     "output_type": "stream",
     "text": [
      "34\n"
     ]
    },
    {
     "name": "stderr",
     "output_type": "stream",
     "text": [
      "C:\\Users\\User\\AppData\\Local\\Temp\\ipykernel_6544\\2736913982.py:34: SettingWithCopyWarning:\n",
      "\n",
      "\n",
      "A value is trying to be set on a copy of a slice from a DataFrame\n",
      "\n",
      "See the caveats in the documentation: https://pandas.pydata.org/pandas-docs/stable/user_guide/indexing.html#returning-a-view-versus-a-copy\n",
      "\n"
     ]
    },
    {
     "name": "stdout",
     "output_type": "stream",
     "text": [
      "35\n"
     ]
    },
    {
     "name": "stderr",
     "output_type": "stream",
     "text": [
      "C:\\Users\\User\\AppData\\Local\\Temp\\ipykernel_6544\\2736913982.py:34: SettingWithCopyWarning:\n",
      "\n",
      "\n",
      "A value is trying to be set on a copy of a slice from a DataFrame\n",
      "\n",
      "See the caveats in the documentation: https://pandas.pydata.org/pandas-docs/stable/user_guide/indexing.html#returning-a-view-versus-a-copy\n",
      "\n",
      "D:\\Anacondas\\lib\\site-packages\\statsmodels\\base\\model.py:604: ConvergenceWarning:\n",
      "\n",
      "Maximum Likelihood optimization failed to converge. Check mle_retvals\n",
      "\n"
     ]
    },
    {
     "name": "stdout",
     "output_type": "stream",
     "text": [
      "36\n"
     ]
    },
    {
     "name": "stderr",
     "output_type": "stream",
     "text": [
      "C:\\Users\\User\\AppData\\Local\\Temp\\ipykernel_6544\\2736913982.py:34: SettingWithCopyWarning:\n",
      "\n",
      "\n",
      "A value is trying to be set on a copy of a slice from a DataFrame\n",
      "\n",
      "See the caveats in the documentation: https://pandas.pydata.org/pandas-docs/stable/user_guide/indexing.html#returning-a-view-versus-a-copy\n",
      "\n"
     ]
    },
    {
     "name": "stdout",
     "output_type": "stream",
     "text": [
      "37\n"
     ]
    },
    {
     "name": "stderr",
     "output_type": "stream",
     "text": [
      "C:\\Users\\User\\AppData\\Local\\Temp\\ipykernel_6544\\2736913982.py:34: SettingWithCopyWarning:\n",
      "\n",
      "\n",
      "A value is trying to be set on a copy of a slice from a DataFrame\n",
      "\n",
      "See the caveats in the documentation: https://pandas.pydata.org/pandas-docs/stable/user_guide/indexing.html#returning-a-view-versus-a-copy\n",
      "\n"
     ]
    },
    {
     "name": "stdout",
     "output_type": "stream",
     "text": [
      "39\n"
     ]
    },
    {
     "name": "stderr",
     "output_type": "stream",
     "text": [
      "C:\\Users\\User\\AppData\\Local\\Temp\\ipykernel_6544\\2736913982.py:34: SettingWithCopyWarning:\n",
      "\n",
      "\n",
      "A value is trying to be set on a copy of a slice from a DataFrame\n",
      "\n",
      "See the caveats in the documentation: https://pandas.pydata.org/pandas-docs/stable/user_guide/indexing.html#returning-a-view-versus-a-copy\n",
      "\n"
     ]
    },
    {
     "name": "stdout",
     "output_type": "stream",
     "text": [
      "40\n"
     ]
    },
    {
     "name": "stderr",
     "output_type": "stream",
     "text": [
      "C:\\Users\\User\\AppData\\Local\\Temp\\ipykernel_6544\\2736913982.py:34: SettingWithCopyWarning:\n",
      "\n",
      "\n",
      "A value is trying to be set on a copy of a slice from a DataFrame\n",
      "\n",
      "See the caveats in the documentation: https://pandas.pydata.org/pandas-docs/stable/user_guide/indexing.html#returning-a-view-versus-a-copy\n",
      "\n"
     ]
    },
    {
     "name": "stdout",
     "output_type": "stream",
     "text": [
      "41\n"
     ]
    },
    {
     "name": "stderr",
     "output_type": "stream",
     "text": [
      "C:\\Users\\User\\AppData\\Local\\Temp\\ipykernel_6544\\2736913982.py:34: SettingWithCopyWarning:\n",
      "\n",
      "\n",
      "A value is trying to be set on a copy of a slice from a DataFrame\n",
      "\n",
      "See the caveats in the documentation: https://pandas.pydata.org/pandas-docs/stable/user_guide/indexing.html#returning-a-view-versus-a-copy\n",
      "\n",
      "D:\\Anacondas\\lib\\site-packages\\statsmodels\\base\\model.py:604: ConvergenceWarning:\n",
      "\n",
      "Maximum Likelihood optimization failed to converge. Check mle_retvals\n",
      "\n"
     ]
    },
    {
     "name": "stdout",
     "output_type": "stream",
     "text": [
      "42\n"
     ]
    },
    {
     "name": "stderr",
     "output_type": "stream",
     "text": [
      "C:\\Users\\User\\AppData\\Local\\Temp\\ipykernel_6544\\2736913982.py:34: SettingWithCopyWarning:\n",
      "\n",
      "\n",
      "A value is trying to be set on a copy of a slice from a DataFrame\n",
      "\n",
      "See the caveats in the documentation: https://pandas.pydata.org/pandas-docs/stable/user_guide/indexing.html#returning-a-view-versus-a-copy\n",
      "\n"
     ]
    },
    {
     "name": "stdout",
     "output_type": "stream",
     "text": [
      "43\n"
     ]
    },
    {
     "name": "stderr",
     "output_type": "stream",
     "text": [
      "C:\\Users\\User\\AppData\\Local\\Temp\\ipykernel_6544\\2736913982.py:34: SettingWithCopyWarning:\n",
      "\n",
      "\n",
      "A value is trying to be set on a copy of a slice from a DataFrame\n",
      "\n",
      "See the caveats in the documentation: https://pandas.pydata.org/pandas-docs/stable/user_guide/indexing.html#returning-a-view-versus-a-copy\n",
      "\n",
      "D:\\Anacondas\\lib\\site-packages\\statsmodels\\base\\model.py:604: ConvergenceWarning:\n",
      "\n",
      "Maximum Likelihood optimization failed to converge. Check mle_retvals\n",
      "\n"
     ]
    },
    {
     "name": "stdout",
     "output_type": "stream",
     "text": [
      "46\n"
     ]
    },
    {
     "name": "stderr",
     "output_type": "stream",
     "text": [
      "C:\\Users\\User\\AppData\\Local\\Temp\\ipykernel_6544\\2736913982.py:34: SettingWithCopyWarning:\n",
      "\n",
      "\n",
      "A value is trying to be set on a copy of a slice from a DataFrame\n",
      "\n",
      "See the caveats in the documentation: https://pandas.pydata.org/pandas-docs/stable/user_guide/indexing.html#returning-a-view-versus-a-copy\n",
      "\n"
     ]
    },
    {
     "name": "stdout",
     "output_type": "stream",
     "text": [
      "47\n"
     ]
    },
    {
     "name": "stderr",
     "output_type": "stream",
     "text": [
      "C:\\Users\\User\\AppData\\Local\\Temp\\ipykernel_6544\\2736913982.py:34: SettingWithCopyWarning:\n",
      "\n",
      "\n",
      "A value is trying to be set on a copy of a slice from a DataFrame\n",
      "\n",
      "See the caveats in the documentation: https://pandas.pydata.org/pandas-docs/stable/user_guide/indexing.html#returning-a-view-versus-a-copy\n",
      "\n"
     ]
    },
    {
     "name": "stdout",
     "output_type": "stream",
     "text": [
      "48\n"
     ]
    },
    {
     "name": "stderr",
     "output_type": "stream",
     "text": [
      "C:\\Users\\User\\AppData\\Local\\Temp\\ipykernel_6544\\2736913982.py:34: SettingWithCopyWarning:\n",
      "\n",
      "\n",
      "A value is trying to be set on a copy of a slice from a DataFrame\n",
      "\n",
      "See the caveats in the documentation: https://pandas.pydata.org/pandas-docs/stable/user_guide/indexing.html#returning-a-view-versus-a-copy\n",
      "\n"
     ]
    },
    {
     "name": "stdout",
     "output_type": "stream",
     "text": [
      "49\n"
     ]
    },
    {
     "name": "stderr",
     "output_type": "stream",
     "text": [
      "C:\\Users\\User\\AppData\\Local\\Temp\\ipykernel_6544\\2736913982.py:34: SettingWithCopyWarning:\n",
      "\n",
      "\n",
      "A value is trying to be set on a copy of a slice from a DataFrame\n",
      "\n",
      "See the caveats in the documentation: https://pandas.pydata.org/pandas-docs/stable/user_guide/indexing.html#returning-a-view-versus-a-copy\n",
      "\n"
     ]
    },
    {
     "name": "stdout",
     "output_type": "stream",
     "text": [
      "50\n"
     ]
    },
    {
     "name": "stderr",
     "output_type": "stream",
     "text": [
      "C:\\Users\\User\\AppData\\Local\\Temp\\ipykernel_6544\\2736913982.py:34: SettingWithCopyWarning:\n",
      "\n",
      "\n",
      "A value is trying to be set on a copy of a slice from a DataFrame\n",
      "\n",
      "See the caveats in the documentation: https://pandas.pydata.org/pandas-docs/stable/user_guide/indexing.html#returning-a-view-versus-a-copy\n",
      "\n"
     ]
    },
    {
     "name": "stdout",
     "output_type": "stream",
     "text": [
      "51\n"
     ]
    },
    {
     "name": "stderr",
     "output_type": "stream",
     "text": [
      "C:\\Users\\User\\AppData\\Local\\Temp\\ipykernel_6544\\2736913982.py:34: SettingWithCopyWarning:\n",
      "\n",
      "\n",
      "A value is trying to be set on a copy of a slice from a DataFrame\n",
      "\n",
      "See the caveats in the documentation: https://pandas.pydata.org/pandas-docs/stable/user_guide/indexing.html#returning-a-view-versus-a-copy\n",
      "\n"
     ]
    },
    {
     "name": "stdout",
     "output_type": "stream",
     "text": [
      "52\n"
     ]
    },
    {
     "name": "stderr",
     "output_type": "stream",
     "text": [
      "C:\\Users\\User\\AppData\\Local\\Temp\\ipykernel_6544\\2736913982.py:34: SettingWithCopyWarning:\n",
      "\n",
      "\n",
      "A value is trying to be set on a copy of a slice from a DataFrame\n",
      "\n",
      "See the caveats in the documentation: https://pandas.pydata.org/pandas-docs/stable/user_guide/indexing.html#returning-a-view-versus-a-copy\n",
      "\n"
     ]
    },
    {
     "name": "stdout",
     "output_type": "stream",
     "text": [
      "53\n"
     ]
    },
    {
     "name": "stderr",
     "output_type": "stream",
     "text": [
      "C:\\Users\\User\\AppData\\Local\\Temp\\ipykernel_6544\\2736913982.py:34: SettingWithCopyWarning:\n",
      "\n",
      "\n",
      "A value is trying to be set on a copy of a slice from a DataFrame\n",
      "\n",
      "See the caveats in the documentation: https://pandas.pydata.org/pandas-docs/stable/user_guide/indexing.html#returning-a-view-versus-a-copy\n",
      "\n",
      "C:\\Users\\User\\AppData\\Local\\Temp\\ipykernel_6544\\2736913982.py:34: SettingWithCopyWarning:\n",
      "\n",
      "\n",
      "A value is trying to be set on a copy of a slice from a DataFrame\n",
      "\n",
      "See the caveats in the documentation: https://pandas.pydata.org/pandas-docs/stable/user_guide/indexing.html#returning-a-view-versus-a-copy\n",
      "\n"
     ]
    },
    {
     "name": "stdout",
     "output_type": "stream",
     "text": [
      "55\n",
      "56\n"
     ]
    },
    {
     "name": "stderr",
     "output_type": "stream",
     "text": [
      "C:\\Users\\User\\AppData\\Local\\Temp\\ipykernel_6544\\2736913982.py:34: SettingWithCopyWarning:\n",
      "\n",
      "\n",
      "A value is trying to be set on a copy of a slice from a DataFrame\n",
      "\n",
      "See the caveats in the documentation: https://pandas.pydata.org/pandas-docs/stable/user_guide/indexing.html#returning-a-view-versus-a-copy\n",
      "\n"
     ]
    }
   ],
   "source": [
    "# include cloud\n",
    "\n",
    "start_train_date = '2022-02-05'\n",
    "end_train_date = '2022-10-31'\n",
    "start_test_date = '2022-11-01' #'2022-02-05'\n",
    "end_test_date = '2023-02-28'\n",
    "p,d,q,P,D,Q,T = 1,0,1,0,1,1,24\n",
    "step_of_forecast = 8\n",
    "total_lag = D*T+p\n",
    "\n",
    "no_site = [e for e in range(1,5)]\n",
    "no_site = no_site + [e for e in range(6,13)]\n",
    "no_site = no_site + [e for e in range(14,31)]\n",
    "no_site = no_site + [e for e in range(34,38)]\n",
    "no_site = no_site + [e for e in range(39,44)]\n",
    "no_site = no_site + [e for e in range(46,54)]\n",
    "no_site = no_site + [e for e in range(55,57)]\n",
    "\n",
    "y_merge_cloud = pd.DataFrame()\n",
    "I1_cloud = pd.DataFrame()\n",
    "I2_cloud = pd.DataFrame()\n",
    "I3_cloud = pd.DataFrame()\n",
    "I4_cloud = pd.DataFrame()\n",
    "I5_cloud = pd.DataFrame()\n",
    "I6_cloud = pd.DataFrame()\n",
    "I7_cloud = pd.DataFrame()\n",
    "I8_cloud = pd.DataFrame()\n",
    "for i in no_site:\n",
    "    ## set up data\n",
    "    print(i)\n",
    "    site = solar_df[solar_df['site'] == i]\n",
    "    site_train_test = site[['iclr','I','ci_est(t+1)','ci_est(t+2)','ci_est(t+3)',\n",
    "                            'ci_est(t+4)','ci_est(t+5)','ci_est(t+6)','ci_est(t+7)','ci_est(t+8)','ci_center']]\n",
    "    site_train_test.dropna(inplace = True)\n",
    "    X = site_train_test[['iclr','ci_est(t+1)','ci_est(t+2)','ci_est(t+3)','ci_est(t+4)','ci_est(t+5)','ci_est(t+6)','ci_est(t+7)','ci_est(t+8)']]\n",
    "    y = site_train_test[['I']].loc[start_train_date:end_test_date]\n",
    "    X_for_fit = site_train_test[['iclr','ci_center']].loc[start_train_date:end_train_date]\n",
    "\n",
    "    X_train, y_train = X.loc[start_train_date:end_train_date], np.asarray(y.loc[start_train_date:end_train_date])\n",
    "    X_test, y_test = X.loc[start_test_date:end_test_date], np.asarray(y.loc[start_test_date:end_test_date])\n",
    "#     y_endog = np.asarray(y.loc[start_train_date:end_endog_date])\n",
    "    y_endog = y_train[-total_lag+1:]\n",
    "\n",
    "    I_1_step = []\n",
    "    I_2_step = []\n",
    "    I_3_step = []\n",
    "    I_4_step = []\n",
    "    I_5_step = []\n",
    "    I_6_step = []\n",
    "    I_7_step = []\n",
    "    I_8_step = []\n",
    "\n",
    "    endo = y_endog[-total_lag+1:]\n",
    "    exo = np.array(X_for_fit.iloc[-total_lag+1:])\n",
    "\n",
    "\n",
    "\n",
    "    ## model fitting\n",
    "    model = sm.tsa.statespace.SARIMAX(y_train, exog=np.array(X_for_fit), order = (p,d,q), seasonal_order = (P,D,Q,T))\n",
    "    result = model.fit()\n",
    "\n",
    "    ## forecasting\n",
    "    for j in range(1,len(y.loc[start_test_date:end_test_date])-8):\n",
    "      exog_for_result = np.array(X_test[['iclr']].iloc[-len(y.loc[start_test_date:end_test_date])+j:\n",
    "                                                       -len(y.loc[start_test_date:end_test_date])+j+step_of_forecast])\n",
    "      pre_CI = np.array(X_test[['ci_est(t+1)','ci_est(t+2)','ci_est(t+3)','ci_est(t+4)'\n",
    "                                ,'ci_est(t+5)','ci_est(t+6)','ci_est(t+7)','ci_est(t+8)']].iloc[-len(y.loc[start_test_date:end_test_date])+j:\n",
    "                                                                                                -len(y.loc[start_test_date:end_test_date])+j+1].T)\n",
    "      exog_for_result = np.concatenate([exog_for_result,pre_CI],axis = 1)\n",
    "\n",
    "      y_pred_1 = result.forecast(steps = 8, exog=exog_for_result)\n",
    "      I_1_step.append(y_pred_1[0])\n",
    "      I_2_step.append(y_pred_1[1])\n",
    "      I_3_step.append(y_pred_1[2])\n",
    "      I_4_step.append(y_pred_1[3])\n",
    "      I_5_step.append(y_pred_1[4])\n",
    "      I_6_step.append(y_pred_1[5])\n",
    "      I_7_step.append(y_pred_1[6])\n",
    "      I_8_step.append(y_pred_1[7])\n",
    "\n",
    "      endo = np.concatenate((endo[-total_lag+1:],y_test[j:j+1]))\n",
    "      exo = np.concatenate((exo[-total_lag+1:],np.array(X_for_fit.iloc[j:j+1])))\n",
    "      result = result.extend(endog = endo, exog = exo)\n",
    "        \n",
    "    I_1_step = np.array(I_1_step)\n",
    "    I_2_step = np.array(I_2_step)\n",
    "    I_3_step = np.array(I_3_step)\n",
    "    I_4_step = np.array(I_4_step)\n",
    "    I_5_step = np.array(I_5_step)\n",
    "    I_6_step = np.array(I_6_step)\n",
    "    I_7_step = np.array(I_7_step)\n",
    "    I_8_step = np.array(I_8_step)\n",
    "    \n",
    "    I_1_step[I_1_step < 0] = 0\n",
    "    I_2_step[I_2_step < 0] = 0\n",
    "    I_3_step[I_3_step < 0] = 0\n",
    "    I_4_step[I_4_step < 0] = 0\n",
    "    I_5_step[I_5_step < 0] = 0\n",
    "    I_6_step[I_6_step < 0] = 0\n",
    "    I_7_step[I_7_step < 0] = 0\n",
    "    I_8_step[I_8_step < 0] = 0\n",
    "    \n",
    "    y_forecast = pd.DataFrame()\n",
    "    y_forecast['forecast_1_step'] = I_1_step\n",
    "    y_forecast['forecast_2_step'] = I_2_step\n",
    "    y_forecast['forecast_3_step'] = I_3_step\n",
    "    y_forecast['forecast_4_step'] = I_4_step\n",
    "    y_forecast['forecast_5_step'] = I_5_step\n",
    "    y_forecast['forecast_6_step'] = I_6_step\n",
    "    y_forecast['forecast_7_step'] = I_7_step\n",
    "    y_forecast['forecast_8_step'] = I_8_step\n",
    "    y_forecast['Datetime'] = np.array(y.iloc[-len(y.loc[start_test_date:end_test_date]):-step_of_forecast-1].index)\n",
    "    y_forecast = y_forecast.set_index(y_forecast['Datetime'])\n",
    "    y_forecast.drop('Datetime', axis=1, inplace=True)\n",
    "\n",
    "\n",
    "\n",
    "    y_test_all = site[['I_lead_1step','I_lead_2step','I_lead_3step','I_lead_4step','I_lead_5step','I_lead_6step','I_lead_7step','I_lead_8step']]\n",
    "    y_test_all = y_test_all.loc[start_test_date:end_test_date]\n",
    "    error_1_step = pd.merge(y_test_all['I_lead_1step'].dropna(), y_forecast['forecast_1_step'], how = 'inner', left_index = True, right_index = True)\n",
    "    error_2_step = pd.merge(y_test_all['I_lead_2step'].dropna(), y_forecast['forecast_2_step'], how = 'inner', left_index = True, right_index = True)\n",
    "    error_3_step = pd.merge(y_test_all['I_lead_3step'].dropna(), y_forecast['forecast_3_step'], how = 'inner', left_index = True, right_index = True)\n",
    "    error_4_step = pd.merge(y_test_all['I_lead_4step'].dropna(), y_forecast['forecast_4_step'], how = 'inner', left_index = True, right_index = True)\n",
    "    error_5_step = pd.merge(y_test_all['I_lead_5step'].dropna(), y_forecast['forecast_5_step'], how = 'inner', left_index = True, right_index = True)\n",
    "    error_6_step = pd.merge(y_test_all['I_lead_6step'].dropna(), y_forecast['forecast_6_step'], how = 'inner', left_index = True, right_index = True)\n",
    "    error_7_step = pd.merge(y_test_all['I_lead_7step'].dropna(), y_forecast['forecast_7_step'], how = 'inner', left_index = True, right_index = True)\n",
    "    error_8_step = pd.merge(y_test_all['I_lead_8step'].dropna(), y_forecast['forecast_8_step'], how = 'inner', left_index = True, right_index = True)\n",
    "    \n",
    "    error_1_step = error_1_step.between_time('06:29','16:59')\n",
    "    error_2_step = error_2_step.between_time('06:29','16:29')\n",
    "    error_3_step = error_3_step.between_time('06:29','15:59')\n",
    "    error_4_step = error_4_step.between_time('06:29','15:29')\n",
    "    error_5_step = error_5_step.between_time('06:29','14:59')\n",
    "    error_6_step = error_6_step.between_time('06:29','14:29')\n",
    "    error_7_step = error_7_step.between_time('06:29','13:59')\n",
    "    error_8_step = error_8_step.between_time('06:29','13:29')\n",
    "\n",
    "    y_pre_merge_cloud = pd.DataFrame()\n",
    "    y_pre_merge_cloud = pd.merge(y_pre_merge_cloud,error_1_step,how = 'outer', left_index = True, right_index = True)\n",
    "    y_pre_merge_cloud = pd.merge(y_pre_merge_cloud,error_2_step,how = 'outer', left_index = True, right_index = True)\n",
    "    y_pre_merge_cloud = pd.merge(y_pre_merge_cloud,error_3_step,how = 'outer', left_index = True, right_index = True)\n",
    "    y_pre_merge_cloud = pd.merge(y_pre_merge_cloud,error_4_step,how = 'outer', left_index = True, right_index = True)\n",
    "    y_pre_merge_cloud = pd.merge(y_pre_merge_cloud,error_5_step,how = 'outer', left_index = True, right_index = True)\n",
    "    y_pre_merge_cloud = pd.merge(y_pre_merge_cloud,error_6_step,how = 'outer', left_index = True, right_index = True)\n",
    "    y_pre_merge_cloud = pd.merge(y_pre_merge_cloud,error_7_step,how = 'outer', left_index = True, right_index = True)\n",
    "    y_pre_merge_cloud = pd.merge(y_pre_merge_cloud,error_8_step,how = 'outer', left_index = True, right_index = True)\n",
    "    y_pre_merge_cloud['site'] = i\n",
    "#     y_pre_merge_cloud.drop(['I_lead_1step','I_lead_2step','I_lead_3step','I_lead_4step','I_lead_5step','I_lead_6step','I_lead_7step','I_lead_8step'],axis = 1, inplace = True)\n",
    "    y_merge_cloud = pd.concat([y_merge_cloud, y_pre_merge_cloud])\n",
    "\n",
    "\n",
    "    error_1_step['site'] = i\n",
    "    error_2_step['site'] = i\n",
    "    error_3_step['site'] = i\n",
    "    error_4_step['site'] = i\n",
    "    error_5_step['site'] = i\n",
    "    error_6_step['site'] = i\n",
    "    error_7_step['site'] = i\n",
    "    error_8_step['site'] = i\n",
    "    I1_cloud = pd.concat([I1_cloud,error_1_step])\n",
    "    I2_cloud = pd.concat([I2_cloud,error_2_step])\n",
    "    I3_cloud = pd.concat([I3_cloud,error_3_step])\n",
    "    I4_cloud = pd.concat([I4_cloud,error_4_step])\n",
    "    I5_cloud = pd.concat([I5_cloud,error_5_step])\n",
    "    I6_cloud = pd.concat([I6_cloud,error_6_step])\n",
    "    I7_cloud = pd.concat([I7_cloud,error_7_step])\n",
    "    I8_cloud = pd.concat([I8_cloud,error_8_step])\n"
   ]
  },
  {
   "cell_type": "code",
   "execution_count": 46,
   "id": "510842fd",
   "metadata": {
    "scrolled": true
   },
   "outputs": [],
   "source": [
    "y_merge_cloud.to_csv('y_merge_cloud.csv')"
   ]
  },
  {
   "cell_type": "code",
   "execution_count": null,
   "id": "3d9eea8d",
   "metadata": {},
   "outputs": [],
   "source": []
  }
 ],
 "metadata": {
  "kernelspec": {
   "display_name": "Python 3 (ipykernel)",
   "language": "python",
   "name": "python3"
  },
  "language_info": {
   "codemirror_mode": {
    "name": "ipython",
    "version": 3
   },
   "file_extension": ".py",
   "mimetype": "text/x-python",
   "name": "python",
   "nbconvert_exporter": "python",
   "pygments_lexer": "ipython3",
   "version": "3.9.13"
  }
 },
 "nbformat": 4,
 "nbformat_minor": 5
}
