{
 "cells": [
  {
   "cell_type": "markdown",
   "id": "670fe177",
   "metadata": {},
   "source": [
    "# Import all libraries"
   ]
  },
  {
   "cell_type": "code",
   "execution_count": null,
   "id": "a4a14d16",
   "metadata": {},
   "outputs": [],
   "source": [
    "import numpy as np \n",
    "import pandas as pd \n",
    "import random\n",
    "import os\n",
    "from  datetime import datetime, timedelta, time"
   ]
  },
  {
   "cell_type": "code",
   "execution_count": null,
   "id": "c045b2f1",
   "metadata": {},
   "outputs": [],
   "source": [
    "import tensorflow as tf\n",
    "from tensorflow.keras.models import Model, Sequential, load_model\n",
    "from tensorflow.keras.layers import Conv3D,MaxPool3D, Dense,Flatten, Concatenate, ConvLSTM2D, ConvLSTM3D\n",
    "from tensorflow.keras.layers import Input\n",
    "from tensorflow.keras.metrics import RootMeanSquaredError, MeanAbsoluteError\n",
    "\n",
    "!pip install wandb\n",
    "import wandb\n",
    "from wandb.keras import WandbCallback\n",
    "tf.test.gpu_device_name()"
   ]
  },
  {
   "cell_type": "markdown",
   "id": "a416efe5",
   "metadata": {},
   "source": [
    "# Define relevant class"
   ]
  },
  {
   "cell_type": "code",
   "execution_count": null,
   "id": "05f71e14",
   "metadata": {},
   "outputs": [],
   "source": [
    "from sklearn.preprocessing import MinMaxScaler,StandardScaler\n",
    "def split_to_each_step(df, fh_step):\n",
    "  use_cols = ['site','Datetime', f'I_lead_{fh_step}step', \n",
    "                     'I', f'I_lead_{fh_step}step_back1D', f'hour_index_lead_{fh_step}step', f'iclr_lead_{fh_step}step', \n",
    "                     'I_lag_1step',\n",
    "                     'filename']\n",
    "\n",
    "  _df = df[use_cols]\n",
    "  _df = _df.dropna()\n",
    "  _df['Datetime'] = pd.to_datetime(_df['Datetime'])\n",
    "\n",
    "  date_index = _df['Datetime'].dt.date\n",
    "\n",
    "  _df_train = _df[date_index.isin(train_date_val_list)]\n",
    "  # _df_val = _df[date_index.isin(val_date_list)]\n",
    "  _df_test = _df[date_index.isin(val_date_list)]\n",
    "\n",
    "  _df_train = _df_train.set_index(['site', 'Datetime'])\n",
    "  # _df_val = _df_val.set_index(['site', 'Datetime'])\n",
    "  _df_test = _df_test.set_index(['site', 'Datetime'])\n",
    "\n",
    "\n",
    "  scaler = StandardScaler()\n",
    "  X_train = _df_train.drop(columns=['filename', f'I_lead_{fh_step}step'])\n",
    "  X_train = scaler.fit_transform(X_train)\n",
    "\n",
    "  _df_train[list(set(_df_train.columns) - set(['filename', f'I_lead_{fh_step}step']))] = X_train\n",
    "  # _df_val[list(set(_df_val.columns) - set(['filename', f'I_lead_{fh_step}step']))] = scaler.transform(_df_val.drop(columns=['filename', f'I_lead_{fh_step}step']))\n",
    "  _df_test[list(set(_df_test.columns) - set(['filename', f'I_lead_{fh_step}step']))] = scaler.transform(_df_test.drop(columns=['filename', f'I_lead_{fh_step}step']))\n",
    "  \n",
    "  return _df_train, _df_test, scaler\n"
   ]
  },
  {
   "cell_type": "code",
   "execution_count": null,
   "id": "33014e28",
   "metadata": {},
   "outputs": [],
   "source": [
    "class CustomDataGenerator(tf.keras.utils.Sequence):\n",
    "    def __init__(self, df, image_dir, image_size, batch_size, fh_step):\n",
    "        self.df = df\n",
    "        self.image_dir = image_dir\n",
    "        self.image_size = image_size\n",
    "        self.batch_size = batch_size\n",
    "        self.fh_step = fh_step\n",
    "\n",
    "    def __len__(self):\n",
    "        return int(np.ceil(len(self.df) / float(self.batch_size)))\n",
    "\n",
    "    def __getitem__(self, idx):\n",
    "        batch = self.df[idx * self.batch_size:(idx + 1) * self.batch_size]\n",
    "        images = []\n",
    "        for _, row in batch.iterrows():\n",
    "            image_path = os.path.join(self.image_dir, row['filename'])\n",
    "            image = np.load(image_path)\n",
    "            image = image.transpose((2,0,1))\n",
    "            image = image.reshape((2,35,35,1))\n",
    "            # if (image.shape[0] != 34) | (image.shape[1] != 34) :\n",
    "            #   print(row['filename'], image.shape)\n",
    "            images.append(image)\n",
    "        images = np.array(images)\n",
    "        \n",
    "        numerical_features = np.array(batch.drop(columns=['filename', f'I_lead_{self.fh_step}step']))\n",
    "\n",
    "        labels = np.array(batch[f'I_lead_{self.fh_step}step'])\n",
    "        inputs = [images, numerical_features]\n",
    "        return inputs, labels\n",
    "\n",
    "    def get_labels(self):\n",
    "        return np.array(self.df[f'I_lead_{self.fh_step}step'])"
   ]
  },
  {
   "cell_type": "markdown",
   "id": "cf2aa1e5",
   "metadata": {},
   "source": [
    "# Import data\n",
    "- import cnn table and train test date list.\n",
    "- if train in google colab , created blank folder to store sequence image (.npy) name all_images"
   ]
  },
  {
   "cell_type": "code",
   "execution_count": null,
   "id": "073f989e",
   "metadata": {},
   "outputs": [],
   "source": [
    "# create blank folder and download zip file from gg drive to colab VM\n",
    "!mkdir all_images\n",
    "!gdown https://drive.google.com/uc?id=1YvN_Vjssq85-InJCFMx_Nzu6uwYXdkYh"
   ]
  },
  {
   "cell_type": "code",
   "execution_count": null,
   "id": "983c7dad",
   "metadata": {},
   "outputs": [],
   "source": [
    "# extract zip file to all_images folder\n",
    "!tar -xzvf \"/content/cutted_im_all_r.tar.gz\" -C \"/content/all_images\""
   ]
  },
  {
   "cell_type": "code",
   "execution_count": null,
   "id": "2d4cbbbe",
   "metadata": {},
   "outputs": [],
   "source": [
    "# change the path to exact location.\n",
    "datelist_var_path = 'train_test_date_listVar.pkl'\n",
    "csv_path = 'df_cnn_r.csv'"
   ]
  },
  {
   "cell_type": "code",
   "execution_count": null,
   "id": "2bcad5bf",
   "metadata": {},
   "outputs": [],
   "source": [
    "import pickle\n",
    "f = open(datelist_var_path, 'rb')\n",
    "train_date_list, test_date_list, val_date_list,train_date_val_list = pickle.load(f)"
   ]
  },
  {
   "cell_type": "code",
   "execution_count": null,
   "id": "71649f2c",
   "metadata": {},
   "outputs": [],
   "source": [
    "df = pd.read_csv(csv_path)\n",
    "df = df.iloc[:,1:]"
   ]
  },
  {
   "cell_type": "markdown",
   "id": "d7cddcf1",
   "metadata": {},
   "source": [
    "# CNN-LSTM"
   ]
  },
  {
   "cell_type": "code",
   "execution_count": null,
   "id": "265a6a19",
   "metadata": {},
   "outputs": [],
   "source": [
    "fh_step=1\n",
    "df_train, df_test,scaler = split_to_each_step(df, fh_step=fh_step)\n",
    "print(f'model {fh_step} step, the data have {df_train.shape[0]} samples for training and {df_test.shape[0]} for testing')"
   ]
  },
  {
   "cell_type": "code",
   "execution_count": null,
   "id": "718e879e",
   "metadata": {},
   "outputs": [],
   "source": [
    "# log in to WandB to log the experiment\n",
    "key = ''\n",
    "wandb.login(key=key)\n",
    "run = wandb.init(project='CNN_RGB',\n",
    "                 config={\n",
    "                     'learning_rate':0.01,\n",
    "                     'epochs':30,\n",
    "                     'batch_size':32,\n",
    "                     'loss_function':\"mean_absolute_error\",\n",
    "                     'architecture':'CNN_LSTM_5dense',\n",
    "                     'fh_step':fh_step,\n",
    "                     },\n",
    "                 name=f'{fh_step}_step_only_r_prac')\n",
    "config = wandb.config"
   ]
  },
  {
   "cell_type": "code",
   "execution_count": null,
   "id": "31bfc52d",
   "metadata": {},
   "outputs": [],
   "source": [
    "train_generator = CustomDataGenerator(df=df_train, image_dir='stack-r-channel', image_size=(2,35, 35,1), batch_size=wandb.config.batch_size, fh_step=fh_step)\n",
    "# val_generator = CustomDataGenerator(df=df_val, image_dir='/content/all_images', image_size=(35, 35,2), batch_size=config.batch_size, fh_step=fh_step)\n",
    "test_generator = CustomDataGenerator(df=df_test, image_dir='stack-r-channel', image_size=(2,35, 35,1), batch_size=wandb.config.batch_size, fh_step=fh_step)"
   ]
  },
  {
   "cell_type": "markdown",
   "id": "6c8cea85",
   "metadata": {},
   "source": [
    "## Define model structure"
   ]
  },
  {
   "cell_type": "code",
   "execution_count": null,
   "id": "79eb476e",
   "metadata": {},
   "outputs": [],
   "source": [
    "from keras import backend as K\n",
    "K.clear_session()\n",
    "im_input_shape = (2, 35, 35, 1)\n",
    "\n",
    "im_inputs = Input(shape=im_input_shape)\n",
    "\n",
    "convlstm = ConvLSTM2D(filters=64, kernel_size=3, activation='relu', \n",
    "                      padding='same', return_sequences=True, data_format='channels_last')(im_inputs)\n",
    "\n",
    "im_flatten = Flatten()(convlstm)\n",
    "meas_input_shape = (df_train.shape[1]-2,)\n",
    "meas_inputs = Input(shape=meas_input_shape)\n",
    "\n",
    "concatenated = Concatenate(axis=1)([im_flatten, meas_inputs])\n",
    "\n",
    "dense1 = Dense(units=32,activation='relu')(concatenated)\n",
    "dense2 = Dense(units=32, activation='relu')(dense1)\n",
    "dense3 = Dense(units=32, activation='relu')(dense2)\n",
    "dense4 = Dense(units=32, activation='relu')(dense3)\n",
    "dense5 = Dense(units=32, activation='relu')(dense4)\n",
    "outputs = Dense(units=1, activation='relu')(dense5)\n",
    "\n",
    "model = Model(inputs=[im_inputs, meas_inputs], outputs=outputs)\n",
    "model.summary()"
   ]
  },
  {
   "cell_type": "markdown",
   "id": "9e7043d6",
   "metadata": {},
   "source": [
    "## Fit model"
   ]
  },
  {
   "cell_type": "code",
   "execution_count": null,
   "id": "ef04f8c4",
   "metadata": {},
   "outputs": [],
   "source": [
    "from tensorflow.keras.callbacks import EarlyStopping, ModelCheckpoint\n",
    "model_path = ''\n",
    "np.random.seed(42)\n",
    "tf.random.set_seed(42)\n",
    "model.compile(loss=\"mean_absolute_error\", \n",
    "              optimizer=tf.keras.optimizers.Adam(learning_rate=config.learning_rate), \n",
    "              metrics=['mean_absolute_error', 'RootMeanSquaredError'])\n",
    "history = model.fit_generator(generator=train_generator, \n",
    "                              validation_data=test_generator,\n",
    "                              epochs=wandb.config.epochs, \n",
    "                              callbacks=[\n",
    "                          EarlyStopping(monitor=\"val_loss\",patience=10,restore_best_weights=True),\n",
    "                                       WandbCallback()])\n",
    "\n",
    "model.save_weights(os.path.join(model_path, f'weights_CNN-LSTM{fh_step}step_RGB.h5'))\n",
    "\n",
    "from sklearn.metrics import mean_absolute_error, mean_squared_error\n",
    "y_pred = model.predict_generator(test_generator)\n",
    "y_pred = y_pred.flatten()\n",
    "y_true = df_test[f'I_lead_{fh_step}step'].to_numpy()\n",
    "df_test[f'I_pred{fh_step}step'] = y_pred\n",
    "df_test.to_csv(f'df{fh_step}step_testCNN-LSTM_R.csv') \n",
    "mae = mean_absolute_error(y_true, y_pred)\n",
    "rmse = (mean_squared_error(y_true, y_pred))**0.5\n",
    "wandb.save(f'df{fh_step}step_testCNN-LSTM_R.csv')\n",
    "wandb.finish()"
   ]
  },
  {
   "cell_type": "markdown",
   "id": "7643b058",
   "metadata": {},
   "source": [
    "# 3D-CNN"
   ]
  },
  {
   "cell_type": "code",
   "execution_count": null,
   "id": "098ca1b5",
   "metadata": {},
   "outputs": [],
   "source": [
    "fh_step=1\n",
    "df_train, df_test,scaler = split_to_each_step(df, fh_step=fh_step)\n",
    "print(f'model {fh_step} step, the data have {df_train.shape[0]} samples for training and {df_test.shape[0]} for testing')"
   ]
  },
  {
   "cell_type": "code",
   "execution_count": null,
   "id": "326f4e58",
   "metadata": {},
   "outputs": [],
   "source": [
    "# log in to WandB to log the experiment\n",
    "key = ''\n",
    "wandb.login(key=key)\n",
    "run = wandb.init(project='CNN_RGB',\n",
    "                 config={\n",
    "                     'learning_rate':0.01,\n",
    "                     'epochs':30,\n",
    "                     'batch_size':32,\n",
    "                     'loss_function':\"mean_absolute_error\",\n",
    "                     'architecture':'CNN_LSTM_5dense',\n",
    "                     'fh_step':fh_step,\n",
    "                     },\n",
    "                 name=f'{fh_step}_step_only_r_prac')\n",
    "config = wandb.config"
   ]
  },
  {
   "cell_type": "code",
   "execution_count": null,
   "id": "07d47086",
   "metadata": {},
   "outputs": [],
   "source": [
    "train_generator = CustomDataGenerator(df=df_train, image_dir='/content/all_images', image_size=(2,35, 35,1), batch_size=wandb.config.batch_size, fh_step=fh_step)\n",
    "# val_generator = CustomDataGenerator(df=df_val, image_dir='/content/all_images', image_size=(35, 35,2), batch_size=config.batch_size, fh_step=fh_step)\n",
    "test_generator = CustomDataGenerator(df=df_test, image_dir='/content/all_images', image_size=(2,35, 35,1), batch_size=wandb.config.batch_size, fh_step=fh_step)"
   ]
  },
  {
   "cell_type": "markdown",
   "id": "c4d5a8d5",
   "metadata": {},
   "source": [
    "## Define model structure"
   ]
  },
  {
   "cell_type": "code",
   "execution_count": null,
   "id": "ea76ea8d",
   "metadata": {},
   "outputs": [],
   "source": [
    "from keras import backend as K\n",
    "K.clear_session()\n",
    "im_input_shape = (2, 35, 35, 1)\n",
    "\n",
    "im_inputs = Input(shape=im_input_shape)\n",
    "\n",
    "conv1 = Conv3D(filters=32, kernel_size=(2,3,3), activation='relu', \n",
    "                      padding='same', data_format='channels_last')(im_inputs)\n",
    "\n",
    "maxpool1 = MaxPool3D(pool_size=(1,2,2), strides=(1,2,2),padding='valid')(conv1)\n",
    "\n",
    "conv2 = Conv3D(filters=32, kernel_size=(2,3,3), activation='relu', \n",
    "                      padding='valid', data_format='channels_last')(maxpool1)\n",
    "\n",
    "maxpool2 = MaxPool3D(pool_size=(1,2,2), strides=(1,2,2))(conv2)\n",
    "\n",
    "\n",
    "im_flatten = Flatten()(maxpool2)\n",
    "\n",
    "meas_input_shape = (df_train.shape[1]-2,)\n",
    "meas_inputs = Input(shape=meas_input_shape)\n",
    "\n",
    "concatenated = Concatenate(axis=1)([im_flatten, meas_inputs])\n",
    "\n",
    "dense1 = Dense(units=32,activation='relu')(concatenated)\n",
    "dense2 = Dense(units=32, activation='relu')(dense1)\n",
    "dense3 = Dense(units=32, activation='relu')(dense2)\n",
    "dense4 = Dense(units=32, activation='relu')(dense3)\n",
    "dense5 = Dense(units=32, activation='relu')(dense4)\n",
    "outputs = Dense(units=1, activation='relu')(dense5)\n",
    "\n",
    "model = Model(inputs=[im_inputs, meas_inputs], outputs=outputs)\n",
    "model.summary()"
   ]
  },
  {
   "cell_type": "markdown",
   "id": "f68d98b8",
   "metadata": {},
   "source": [
    "## Fit model"
   ]
  },
  {
   "cell_type": "code",
   "execution_count": null,
   "id": "07f66f22",
   "metadata": {},
   "outputs": [],
   "source": [
    "from tensorflow.keras.callbacks import EarlyStopping, ModelCheckpoint\n",
    "model_path = ''\n",
    "np.random.seed(42)\n",
    "tf.random.set_seed(42)\n",
    "model.compile(loss=\"mean_absolute_error\", \n",
    "              optimizer=tf.keras.optimizers.Adam(learning_rate=config.learning_rate), \n",
    "              metrics=['mean_absolute_error', 'RootMeanSquaredError'])\n",
    "history = model.fit_generator(generator=train_generator, \n",
    "                              validation_data=test_generator,\n",
    "                              epochs=wandb.config.epochs, \n",
    "                              callbacks=[\n",
    "                          EarlyStopping(monitor=\"val_loss\",patience=10,restore_best_weights=True),\n",
    "                                       WandbCallback()])\n",
    "\n",
    "\n",
    "model.save_weights(os.path.join(model_path, f'weights_3DCNN{fh_step}step_RGB.h5'))\n",
    "\n",
    "from sklearn.metrics import mean_absolute_error, mean_squared_error\n",
    "y_pred = model.predict_generator(test_generator)\n",
    "y_pred = y_pred.flatten()\n",
    "y_true = df_test[f'I_lead_{fh_step}step'].to_numpy()\n",
    "df_test[f'I_pred{fh_step}step'] = y_pred\n",
    "df_test.to_csv(f'df{fh_step}step_test3DCNN_R_test.csv') \n",
    "mae = mean_absolute_error(y_true, y_pred)\n",
    "rmse = (mean_squared_error(y_true, y_pred))**0.5\n",
    "wandb.save(f'df{fh_step}step_test3DCNN_R_test.csv')\n",
    "print(mae,rmse)\n",
    "wandb.finish()"
   ]
  }
 ],
 "metadata": {
  "kernelspec": {
   "display_name": "Python 3 (ipykernel)",
   "language": "python",
   "name": "python3"
  },
  "language_info": {
   "codemirror_mode": {
    "name": "ipython",
    "version": 3
   },
   "file_extension": ".py",
   "mimetype": "text/x-python",
   "name": "python",
   "nbconvert_exporter": "python",
   "pygments_lexer": "ipython3",
   "version": "3.9.13"
  },
  "toc": {
   "base_numbering": 1,
   "nav_menu": {},
   "number_sections": true,
   "sideBar": true,
   "skip_h1_title": false,
   "title_cell": "Table of Contents",
   "title_sidebar": "Contents",
   "toc_cell": false,
   "toc_position": {},
   "toc_section_display": true,
   "toc_window_display": true
  },
  "varInspector": {
   "cols": {
    "lenName": 16,
    "lenType": 16,
    "lenVar": 40
   },
   "kernels_config": {
    "python": {
     "delete_cmd_postfix": "",
     "delete_cmd_prefix": "del ",
     "library": "var_list.py",
     "varRefreshCmd": "print(var_dic_list())"
    },
    "r": {
     "delete_cmd_postfix": ") ",
     "delete_cmd_prefix": "rm(",
     "library": "var_list.r",
     "varRefreshCmd": "cat(var_dic_list()) "
    }
   },
   "types_to_exclude": [
    "module",
    "function",
    "builtin_function_or_method",
    "instance",
    "_Feature"
   ],
   "window_display": false
  }
 },
 "nbformat": 4,
 "nbformat_minor": 5
}
