{
 "cells": [
  {
   "cell_type": "markdown",
   "id": "d88f4de1",
   "metadata": {},
   "source": [
    "# Import all libraries"
   ]
  },
  {
   "cell_type": "code",
   "execution_count": null,
   "id": "ca8df152",
   "metadata": {},
   "outputs": [],
   "source": [
    "import numpy as np\n",
    "import pandas as pd\n",
    "import matplotlib.pyplot as plt\n",
    "import random\n",
    "import os\n",
    "from  datetime import datetime, timedelta, time"
   ]
  },
  {
   "cell_type": "code",
   "execution_count": null,
   "id": "b86c8d6e",
   "metadata": {},
   "outputs": [],
   "source": [
    "import tensorflow as tf\n",
    "from tensorflow.keras.models import Model, Sequential, load_model\n",
    "from tensorflow.keras.layers import Conv3D,MaxPooling3D, Dense,Flatten, Concatenate, ConvLSTM2D, ConvLSTM3D\n",
    "from tensorflow.keras.layers import Input\n",
    "from tensorflow.keras.metrics import RootMeanSquaredError, MeanAbsoluteError\n",
    "import wandb\n",
    "from wandb.keras import WandbCallback\n",
    "tf.test.gpu_device_name()\n",
    "\n",
    "from tensorflow.keras.callbacks import EarlyStopping, ModelCheckpoint\n",
    "from sklearn.metrics import mean_absolute_error, mean_squared_error"
   ]
  },
  {
   "cell_type": "markdown",
   "id": "caf1054d",
   "metadata": {},
   "source": [
    "# Define function"
   ]
  },
  {
   "cell_type": "code",
   "execution_count": null,
   "id": "b47ddf5c",
   "metadata": {},
   "outputs": [],
   "source": [
    "from sklearn.preprocessing import MinMaxScaler,StandardScaler\n",
    "def split_to_each_step(df, fh_step):\n",
    "  use_cols = ['site','Datetime', f'I_lead_{fh_step}step', \n",
    "                     'I', f'I_lead_{fh_step}step_back1D', f'hour_index_lead_{fh_step}step', f'iclr_lead_{fh_step}step', \n",
    "                     'I_lag_1step', 'ci_center', f'ci_est(t+{fh_step})']\n",
    "\n",
    "\n",
    "  _df = df[use_cols]\n",
    "  _df = _df.dropna()\n",
    "  _df['Datetime'] = pd.to_datetime(_df['Datetime'])\n",
    "\n",
    "  date_index = _df['Datetime'].dt.date\n",
    "  _df_train = _df[date_index.isin(train_date_list)]\n",
    "  # _df_val = _df[date_index.isin(val_date_list)]\n",
    "  _df_test = _df[date_index.isin(test_date_list)]\n",
    "\n",
    "  \n",
    "  _df_train = _df_train.set_index(['site', 'Datetime'])\n",
    "  # _df_val = _df_val.set_index(['site', 'Datetime'])\n",
    "  _df_test = _df_test.set_index(['site', 'Datetime'])\n",
    "\n",
    "\n",
    "  scaler = StandardScaler()\n",
    "  X_train = _df_train.drop(columns=[f'I_lead_{fh_step}step'])\n",
    "  X_train = scaler.fit_transform(X_train)\n",
    "\n",
    "  _df_train[list(set(_df_train.columns) - set([f'I_lead_{fh_step}step']))] = X_train\n",
    "  # _df_val[list(set(_df_val.columns) - set(['filename', f'I_lead_{fh_step}step']))] = scaler.transform(_df_val.drop(columns=['filename', f'I_lead_{fh_step}step']))\n",
    "  _df_test[list(set(_df_test.columns) - set([f'I_lead_{fh_step}step']))] = scaler.transform(_df_test.drop(columns=[f'I_lead_{fh_step}step']))\n",
    "  \n",
    "  return _df_train, _df_test, scaler\n"
   ]
  },
  {
   "cell_type": "markdown",
   "id": "68e2106e",
   "metadata": {},
   "source": [
    "# Import data"
   ]
  },
  {
   "cell_type": "code",
   "execution_count": null,
   "id": "48b51c47",
   "metadata": {},
   "outputs": [],
   "source": [
    "import pickle\n",
    "f = open('train_test_date_listVar.pkl', 'rb')\n",
    "train_date_list, test_date_list, val_date_list,train_date_val_list = pickle.load(f)\n",
    "all_sites_df = pd.read_csv('processed_all_sites_HS1e0_df_not_imputed_R_channel.csv')"
   ]
  },
  {
   "cell_type": "markdown",
   "id": "d87890f8",
   "metadata": {},
   "source": [
    "# Model training"
   ]
  },
  {
   "cell_type": "markdown",
   "id": "b52f96d3",
   "metadata": {},
   "source": [
    "## Split data"
   ]
  },
  {
   "cell_type": "code",
   "execution_count": null,
   "id": "a729b4ae",
   "metadata": {},
   "outputs": [],
   "source": [
    "from joblib import dump\n",
    "fh_step=1\n",
    "df_train, df_test,scaler = split_to_each_step(all_sites_df, fh_step=fh_step)\n",
    "print(f'model {fh_step} step, the data have {df_train.shape[0]} samples for training and {df_test.shape[0]} for testing')"
   ]
  },
  {
   "cell_type": "code",
   "execution_count": null,
   "id": "f1bf3379",
   "metadata": {},
   "outputs": [],
   "source": [
    "# log in to WandB to log the experiment\n",
    "key = ''\n",
    "wandb.login(key=key)\n",
    "\n",
    "run = wandb.init(project='ANN-with-cloud',\n",
    "                 config={\n",
    "                     'learning_rate':0.005,\n",
    "                     'epochs':30,\n",
    "                     'batch_size':32,\n",
    "                     'loss_function':\"mean_absolute_error\",\n",
    "                     'architecture':'ANN',\n",
    "                     'fh_step':fh_step,\n",
    "                     },\n",
    "                 name=f'ANN-{fh_step}step')\n",
    "config = wandb.config"
   ]
  },
  {
   "cell_type": "code",
   "execution_count": null,
   "id": "ec02fb82",
   "metadata": {},
   "outputs": [],
   "source": [
    "X_train, y_train = df_train.drop(columns=[f'I_lead_{fh_step}step']),   df_train[f'I_lead_{fh_step}step']\n",
    "X_test, y_test = df_test.drop(columns=[f'I_lead_{fh_step}step']),   df_test[f'I_lead_{fh_step}step']\n"
   ]
  },
  {
   "cell_type": "markdown",
   "id": "562331df",
   "metadata": {},
   "source": [
    "## Define model structure"
   ]
  },
  {
   "cell_type": "code",
   "execution_count": null,
   "id": "8a8b45c8",
   "metadata": {},
   "outputs": [],
   "source": [
    "from keras import backend as K\n",
    "K.clear_session()\n",
    "input = Input(shape=X_train.shape[1],)\n",
    "dense1 = Dense(64, activation='relu')(input)\n",
    "dense2 = Dense(64, activation='relu')(dense1)\n",
    "dense3 = Dense(64, activation='relu')(dense2)\n",
    "\n",
    "output = Dense(1, activation='relu')(dense3)\n",
    "\n",
    "model = Model(inputs=input, outputs=output)\n",
    "model.summary()"
   ]
  },
  {
   "cell_type": "markdown",
   "id": "fa15d8b2",
   "metadata": {},
   "source": [
    "## Fit model"
   ]
  },
  {
   "cell_type": "code",
   "execution_count": null,
   "id": "aa034182",
   "metadata": {},
   "outputs": [],
   "source": [
    "from tensorflow.keras.callbacks import EarlyStopping, ModelCheckpoint\n",
    "from sklearn.metrics import mean_absolute_error, mean_squared_error\n",
    "np.random.seed(42)\n",
    "tf.random.set_seed(42)\n",
    "model.compile(loss=\"mean_absolute_error\", \n",
    "              optimizer=tf.keras.optimizers.Adam(learning_rate=config.learning_rate), \n",
    "              metrics=['mean_absolute_error', 'RootMeanSquaredError'])\n",
    "history = model.fit(X_train,y_train,\n",
    "                    validation_data=(X_test, y_test),\n",
    "                    epochs=wandb.config.epochs, \n",
    "                    callbacks=[EarlyStopping(monitor=\"val_loss\",patience=10,restore_best_weights=True),\n",
    "                                       WandbCallback()])\n",
    "model.save_weights(f'weights_ANN{fh_step}step.h5')\n",
    "y_pred = model.predict(X_test)\n",
    "y_pred = y_pred.flatten()\n",
    "y_true = df_test[f'I_lead_{fh_step}step'].to_numpy()\n",
    "df_test[f'I_pred{fh_step}step'] = y_pred\n",
    "df_test.to_csv(f'df{fh_step}step_test-ANN.csv') \n",
    "mae = mean_absolute_error(y_true, y_pred)\n",
    "rmse = (mean_squared_error(y_true, y_pred))**0.5\n",
    "print(mae,rmse)\n",
    "wandb.save(f'df{fh_step}step_test-ANN.csv')\n",
    "wandb.save(f'weights_ANN{fh_step}step.h5')\n",
    "wandb.finish()"
   ]
  }
 ],
 "metadata": {
  "kernelspec": {
   "display_name": "Python 3 (ipykernel)",
   "language": "python",
   "name": "python3"
  },
  "language_info": {
   "codemirror_mode": {
    "name": "ipython",
    "version": 3
   },
   "file_extension": ".py",
   "mimetype": "text/x-python",
   "name": "python",
   "nbconvert_exporter": "python",
   "pygments_lexer": "ipython3",
   "version": "3.9.13"
  },
  "toc": {
   "base_numbering": 1,
   "nav_menu": {},
   "number_sections": true,
   "sideBar": true,
   "skip_h1_title": false,
   "title_cell": "Table of Contents",
   "title_sidebar": "Contents",
   "toc_cell": false,
   "toc_position": {},
   "toc_section_display": true,
   "toc_window_display": true
  },
  "varInspector": {
   "cols": {
    "lenName": 16,
    "lenType": 16,
    "lenVar": 40
   },
   "kernels_config": {
    "python": {
     "delete_cmd_postfix": "",
     "delete_cmd_prefix": "del ",
     "library": "var_list.py",
     "varRefreshCmd": "print(var_dic_list())"
    },
    "r": {
     "delete_cmd_postfix": ") ",
     "delete_cmd_prefix": "rm(",
     "library": "var_list.r",
     "varRefreshCmd": "cat(var_dic_list()) "
    }
   },
   "types_to_exclude": [
    "module",
    "function",
    "builtin_function_or_method",
    "instance",
    "_Feature"
   ],
   "window_display": false
  }
 },
 "nbformat": 4,
 "nbformat_minor": 5
}
