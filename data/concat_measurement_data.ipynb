{
 "cells": [
  {
   "cell_type": "code",
   "execution_count": 4,
   "id": "f8735a35",
   "metadata": {},
   "outputs": [],
   "source": [
    "import numpy as np\n",
    "import pandas as pd"
   ]
  },
  {
   "cell_type": "code",
   "execution_count": 5,
   "id": "5eaba3c7",
   "metadata": {},
   "outputs": [],
   "source": [
    "all_sites_no = 56\n",
    "site_no_list = [i for i in range(1, all_sites_no + 1)]\n",
    "\n",
    "# create null DataFrame to store upcomming data\n",
    "all_sites_df = pd.DataFrame()\n",
    "# loop over site  \n",
    "\n",
    "for site_no in site_no_list:\n",
    "    site_no_str = ('00' + str(site_no))[-3:]\n",
    "\n",
    "    df2022 = pd.read_csv(f'site{(\"00\"+str(i))[-3:]}_2022.csv', parse_dates=['Datetime'], skiprows=1,names=['Datetime', 'P', \n",
    "                                                                                  'T_ambient','I', 'T_pv'])\n",
    "    df2023 = pd.read_csv(f'site{(\"00\"+str(i))[-3:]}_2023.csv', parse_dates=['Datetime'], skiprows=1,names=['Datetime', 'P', \n",
    "                                                                                  'T_ambient','I', 'T_pv'])\n",
    "    \n",
    "    site_df = pd.concat([df2022, df2023], ignore_index=True)\n",
    "    site_df.to_csv(f'site{(\"00\"+str(i))[-3:]}.csv')\n",
    "    "
   ]
  }
 ],
 "metadata": {
  "kernelspec": {
   "display_name": "Python 3 (ipykernel)",
   "language": "python",
   "name": "python3"
  },
  "language_info": {
   "codemirror_mode": {
    "name": "ipython",
    "version": 3
   },
   "file_extension": ".py",
   "mimetype": "text/x-python",
   "name": "python",
   "nbconvert_exporter": "python",
   "pygments_lexer": "ipython3",
   "version": "3.9.13"
  },
  "toc": {
   "base_numbering": 1,
   "nav_menu": {},
   "number_sections": true,
   "sideBar": true,
   "skip_h1_title": false,
   "title_cell": "Table of Contents",
   "title_sidebar": "Contents",
   "toc_cell": false,
   "toc_position": {},
   "toc_section_display": true,
   "toc_window_display": false
  },
  "varInspector": {
   "cols": {
    "lenName": 16,
    "lenType": 16,
    "lenVar": 40
   },
   "kernels_config": {
    "python": {
     "delete_cmd_postfix": "",
     "delete_cmd_prefix": "del ",
     "library": "var_list.py",
     "varRefreshCmd": "print(var_dic_list())"
    },
    "r": {
     "delete_cmd_postfix": ") ",
     "delete_cmd_prefix": "rm(",
     "library": "var_list.r",
     "varRefreshCmd": "cat(var_dic_list()) "
    }
   },
   "types_to_exclude": [
    "module",
    "function",
    "builtin_function_or_method",
    "instance",
    "_Feature"
   ],
   "window_display": false
  }
 },
 "nbformat": 4,
 "nbformat_minor": 5
}
