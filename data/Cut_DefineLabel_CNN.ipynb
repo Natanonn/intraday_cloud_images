{
 "cells": [
  {
   "cell_type": "markdown",
   "metadata": {},
   "source": [
    "- To cut ands stack sequence of cloud images to tensor (.npy) the all images data should locate in cloud_im_path to run this code, the result is (.npy) files save in *cut_im_path* and filename(.npy) table `label_r.csv`  "
   ]
  },
  {
   "cell_type": "code",
   "execution_count": null,
   "metadata": {
    "id": "HIttX4cY1tkh"
   },
   "outputs": [],
   "source": [
    "import numpy as np\n",
    "import pandas as pd\n",
    "from PIL import Image\n",
    "import os\n",
    "import matplotlib.pyplot as plt\n",
    "import time\n",
    "from datetime import timedelta"
   ]
  },
  {
   "cell_type": "code",
   "execution_count": null,
   "metadata": {
    "id": "3K22vzfM26-j"
   },
   "outputs": [],
   "source": [
    "cloud_im_path = 'example_pics'\n",
    "cut_im_path = 'cut_im_all'"
   ]
  },
  {
   "cell_type": "code",
   "execution_count": null,
   "metadata": {
    "id": "P2rUH_nT_MG1"
   },
   "outputs": [],
   "source": [
    "plant_df = pd.read_csv('plant.csv')\n",
    "row_list = plant_df['row'].to_numpy()[:56] -1 \n",
    "col_list = plant_df['col'].to_numpy()[:56] -1 \n"
   ]
  },
  {
   "cell_type": "code",
   "execution_count": null,
   "metadata": {
    "colab": {
     "base_uri": "https://localhost:8080/"
    },
    "id": "EVlBcNvkR9E8",
    "outputId": "eabbf0e8-1650-44e8-baef-da913ea25936"
   },
   "outputs": [],
   "source": [
    "row_list"
   ]
  },
  {
   "cell_type": "markdown",
   "metadata": {
    "id": "-UjJ4yHT_i57"
   },
   "source": [
    "# Main"
   ]
  },
  {
   "cell_type": "code",
   "execution_count": null,
   "metadata": {
    "colab": {
     "base_uri": "https://localhost:8080/"
    },
    "id": "aV12WreV_GB_",
    "outputId": "2540b43c-cfe0-49e1-a4ea-00e2410ef1d3"
   },
   "outputs": [],
   "source": [
    "datetime_list =pd.date_range('2022-03-22 02:00:00','2023-03-01',freq='10min')\n",
    "datetime_list"
   ]
  },
  {
   "cell_type": "code",
   "execution_count": null,
   "metadata": {
    "colab": {
     "base_uri": "https://localhost:8080/"
    },
    "id": "JzCGZemy_F6-",
    "outputId": "97e188a5-e4f9-4fc1-af3b-18b6392bd394"
   },
   "outputs": [],
   "source": [
    "w = 17\n",
    "h = 17\n",
    "prev_im = Image.open(os.path.join(cloud_im_path, 'himawari_ahi_overview_202203230200.tif'))\n",
    "prev_im_arr = np.array(prev_im)[:, :, 0] / 255\n",
    "ci_future_arr = np.array([[0,0,0,0,0,0,0,0]])\n",
    "filename_list = [0]\n",
    "k=0\n",
    "notfound_status = False\n",
    "for datetime in datetime_list :\n",
    "    datetime_utc = datetime - timedelta(hours=7)\n",
    "    curr_filename = f'himawari_ahi_overview_{datetime_utc.strftime(\"%Y%m%d%H%M\")}.tif'\n",
    "    try :\n",
    "        curr_im = Image.open(os.path.join(cloud_im_path, curr_filename))\n",
    "        curr_im_arr = np.array(curr_im)[:, :, 0] / 255\n",
    "\n",
    "        if notfound_status : \n",
    "            prev_im_arr = curr_im_arr\n",
    "            notfound_status = False\n",
    "            k+=1      \n",
    "            # append with nan\n",
    "            continue\n",
    "        # Stack\n",
    "        stacked_arr = np.stack((prev_im_arr, curr_im_arr), axis=2)\n",
    "        t0 = time.time()+1\n",
    "        stacked_arr_site1 = stacked_arr[row_list[0]-h:row_list[0]+h+1, col_list[0]-w:col_list[0]+w+1, :]\n",
    "        stacked_arr_site2 = stacked_arr[row_list[1]-h:row_list[1]+h+1, col_list[1]-w:col_list[1]+w+1, :]\n",
    "        stacked_arr_site3 = stacked_arr[row_list[2]-h:row_list[2]+h+1, col_list[2]-w:col_list[2]+w+1, :]\n",
    "        stacked_arr_site4 = stacked_arr[row_list[3]-h:row_list[3]+h+1, col_list[3]-w:col_list[3]+w+1, :]\n",
    "        stacked_arr_site5 = stacked_arr[row_list[4]-h:row_list[4]+h+1, col_list[4]-w:col_list[4]+w+1, :]\n",
    "        stacked_arr_site6 = stacked_arr[row_list[5]-h:row_list[5]+h+1, col_list[5]-w:col_list[5]+w+1, :]\n",
    "        stacked_arr_site7 = stacked_arr[row_list[6]-h:row_list[6]+h+1, col_list[6]-w:col_list[6]+w+1, :]\n",
    "        stacked_arr_site8 = stacked_arr[row_list[7]-h:row_list[7]+h+1, col_list[7]-w:col_list[7]+w+1, :]\n",
    "        stacked_arr_site9 = stacked_arr[row_list[8]-h:row_list[8]+h+1, col_list[8]-w:col_list[8]+w+1, :]\n",
    "        stacked_arr_site10 = stacked_arr[row_list[9]-h:row_list[9]+h+1, col_list[9]-w:col_list[9]+w+1, :]\n",
    "        stacked_arr_site11 = stacked_arr[row_list[10]-h:row_list[10]+h+1, col_list[10]-w:col_list[10]+w+1, :]\n",
    "        stacked_arr_site12 = stacked_arr[row_list[11]-h:row_list[11]+h+1, col_list[11]-w:col_list[11]+w+1, :]\n",
    "        stacked_arr_site13 = stacked_arr[row_list[12]-h:row_list[12]+h+1, col_list[12]-w:col_list[12]+w+1, :]\n",
    "        stacked_arr_site14 = stacked_arr[row_list[13]-h:row_list[13]+h+1, col_list[13]-w:col_list[13]+w+1, :]\n",
    "        stacked_arr_site15 = stacked_arr[row_list[14]-h:row_list[14]+h+1, col_list[14]-w:col_list[14]+w+1, :]\n",
    "        stacked_arr_site16 = stacked_arr[row_list[15]-h:row_list[15]+h+1, col_list[15]-w:col_list[15]+w+1, :]\n",
    "        stacked_arr_site17 = stacked_arr[row_list[16]-h:row_list[16]+h+1, col_list[16]-w:col_list[16]+w+1, :]\n",
    "        stacked_arr_site18 = stacked_arr[row_list[17]-h:row_list[17]+h+1, col_list[17]-w:col_list[17]+w+1, :]\n",
    "        stacked_arr_site19 = stacked_arr[row_list[18]-h:row_list[18]+h+1, col_list[18]-w:col_list[18]+w+1, :]\n",
    "        stacked_arr_site20 = stacked_arr[row_list[19]-h:row_list[19]+h+1, col_list[19]-w:col_list[19]+w+1, :]\n",
    "        stacked_arr_site21 = stacked_arr[row_list[20]-h:row_list[20]+h+1, col_list[20]-w:col_list[20]+w+1, :]\n",
    "        stacked_arr_site22 = stacked_arr[row_list[21]-h:row_list[21]+h+1, col_list[21]-w:col_list[21]+w+1, :]\n",
    "        stacked_arr_site23 = stacked_arr[row_list[22]-h:row_list[22]+h+1, col_list[22]-w:col_list[22]+w+1, :]\n",
    "        stacked_arr_site24 = stacked_arr[row_list[23]-h:row_list[23]+h+1, col_list[23]-w:col_list[23]+w+1, :]\n",
    "        stacked_arr_site25 = stacked_arr[row_list[24]-h:row_list[24]+h+1, col_list[24]-w:col_list[24]+w+1, :]\n",
    "        stacked_arr_site26 = stacked_arr[row_list[25]-h:row_list[25]+h+1, col_list[25]-w:col_list[25]+w+1, :]\n",
    "        stacked_arr_site27 = stacked_arr[row_list[26]-h:row_list[26]+h+1, col_list[26]-w:col_list[26]+w+1, :]\n",
    "        stacked_arr_site28 = stacked_arr[row_list[27]-h:row_list[27]+h+1, col_list[27]-w:col_list[27]+w+1, :]\n",
    "        stacked_arr_site29 = stacked_arr[row_list[28]-h:row_list[28]+h+1, col_list[28]-w:col_list[28]+w+1, :]\n",
    "        stacked_arr_site30 = stacked_arr[row_list[29]-h:row_list[29]+h+1, col_list[29]-w:col_list[29]+w+1, :]\n",
    "        stacked_arr_site31 = stacked_arr[row_list[30]-h:row_list[30]+h+1, col_list[30]-w:col_list[30]+w+1, :]\n",
    "        stacked_arr_site32 = stacked_arr[row_list[31]-h:row_list[31]+h+1, col_list[31]-w:col_list[31]+w+1, :]\n",
    "        stacked_arr_site33 = stacked_arr[row_list[32]-h:row_list[32]+h+1, col_list[32]-w:col_list[32]+w+1, :]\n",
    "        stacked_arr_site34 = stacked_arr[row_list[33]-h:row_list[33]+h+1, col_list[33]-w:col_list[33]+w+1, :]\n",
    "        stacked_arr_site35 = stacked_arr[row_list[34]-h:row_list[34]+h+1, col_list[34]-w:col_list[34]+w+1, :]\n",
    "        stacked_arr_site36 = stacked_arr[row_list[35]-h:row_list[35]+h+1, col_list[35]-w:col_list[35]+w+1, :]\n",
    "        stacked_arr_site37 = stacked_arr[row_list[36]-h:row_list[36]+h+1, col_list[36]-w:col_list[36]+w+1, :]\n",
    "        stacked_arr_site38 = stacked_arr[row_list[37]-h:row_list[37]+h+1, col_list[37]-w:col_list[37]+w+1, :]\n",
    "        stacked_arr_site39 = stacked_arr[row_list[38]-h:row_list[38]+h+1, col_list[38]-w:col_list[38]+w+1, :]\n",
    "        stacked_arr_site40 = stacked_arr[row_list[39]-h:row_list[39]+h+1, col_list[39]-w:col_list[39]+w+1, :]\n",
    "        stacked_arr_site41 = stacked_arr[row_list[40]-h:row_list[40]+h+1, col_list[40]-w:col_list[40]+w+1, :]\n",
    "        stacked_arr_site42 = stacked_arr[row_list[41]-h:row_list[41]+h+1, col_list[41]-w:col_list[41]+w+1, :]\n",
    "        stacked_arr_site43 = stacked_arr[row_list[42]-h:row_list[42]+h+1, col_list[42]-w:col_list[42]+w+1, :]\n",
    "        stacked_arr_site44 = stacked_arr[row_list[43]-h:row_list[43]+h+1, col_list[43]-w:col_list[43]+w+1, :]\n",
    "        stacked_arr_site45 = stacked_arr[row_list[44]-h:row_list[44]+h+1, col_list[44]-w:col_list[44]+w+1, :]\n",
    "        stacked_arr_site46 = stacked_arr[row_list[45]-h:row_list[45]+h+1, col_list[45]-w:col_list[45]+w+1, :]\n",
    "        stacked_arr_site47 = stacked_arr[row_list[46]-h:row_list[46]+h+1, col_list[46]-w:col_list[46]+w+1, :]\n",
    "        stacked_arr_site48 = stacked_arr[row_list[47]-h:row_list[47]+h+1, col_list[47]-w:col_list[47]+w+1, :]\n",
    "        stacked_arr_site49 = stacked_arr[row_list[48]-h:row_list[48]+h+1, col_list[48]-w:col_list[48]+w+1, :]\n",
    "        stacked_arr_site50 = stacked_arr[row_list[49]-h:row_list[49]+h+1, col_list[49]-w:col_list[49]+w+1, :]\n",
    "        stacked_arr_site51 = stacked_arr[row_list[50]-h:row_list[50]+h+1, col_list[50]-w:col_list[50]+w+1, :]\n",
    "        stacked_arr_site52 = stacked_arr[row_list[51]-h:row_list[51]+h+1, col_list[51]-w:col_list[51]+w+1, :]\n",
    "        stacked_arr_site53 = stacked_arr[row_list[52]-h:row_list[52]+h+1, col_list[52]-w:col_list[52]+w+1, :]\n",
    "        stacked_arr_site54 = stacked_arr[row_list[53]-h:row_list[53]+h+1, col_list[53]-w:col_list[53]+w+1, :]\n",
    "        stacked_arr_site55 = stacked_arr[row_list[54]-h:row_list[54]+h+1, col_list[54]-w:col_list[54]+w+1, :]\n",
    "        stacked_arr_site56 = stacked_arr[row_list[55]-h:row_list[55]+h+1, col_list[55]-w:col_list[55]+w+1, :]\n",
    "\n",
    "        \n",
    "        # save each \n",
    "        np.save(os.path.join(cutted_im_path, f'stacked_arr_site001_{datetime.strftime(\"%Y%m%d%H%M\")}.npy'), stacked_arr_site1)\n",
    "        np.save(os.path.join(cutted_im_path, f'stacked_arr_site002_{datetime.strftime(\"%Y%m%d%H%M\")}.npy'), stacked_arr_site2)\n",
    "        np.save(os.path.join(cutted_im_path, f'stacked_arr_site003_{datetime.strftime(\"%Y%m%d%H%M\")}.npy'), stacked_arr_site3)\n",
    "        np.save(os.path.join(cutted_im_path, f'stacked_arr_site004_{datetime.strftime(\"%Y%m%d%H%M\")}.npy'), stacked_arr_site4)\n",
    "        np.save(os.path.join(cutted_im_path, f'stacked_arr_site005_{datetime.strftime(\"%Y%m%d%H%M\")}.npy'), stacked_arr_site5)\n",
    "        np.save(os.path.join(cutted_im_path, f'stacked_arr_site006_{datetime.strftime(\"%Y%m%d%H%M\")}.npy'), stacked_arr_site6)\n",
    "        np.save(os.path.join(cutted_im_path, f'stacked_arr_site007_{datetime.strftime(\"%Y%m%d%H%M\")}.npy'), stacked_arr_site7)\n",
    "        np.save(os.path.join(cutted_im_path, f'stacked_arr_site008_{datetime.strftime(\"%Y%m%d%H%M\")}.npy'), stacked_arr_site8)\n",
    "        np.save(os.path.join(cutted_im_path, f'stacked_arr_site009_{datetime.strftime(\"%Y%m%d%H%M\")}.npy'), stacked_arr_site9)\n",
    "        np.save(os.path.join(cutted_im_path, f'stacked_arr_site010_{datetime.strftime(\"%Y%m%d%H%M\")}.npy'), stacked_arr_site10)\n",
    "        np.save(os.path.join(cutted_im_path, f'stacked_arr_site011_{datetime.strftime(\"%Y%m%d%H%M\")}.npy'), stacked_arr_site11)\n",
    "        np.save(os.path.join(cutted_im_path, f'stacked_arr_site012_{datetime.strftime(\"%Y%m%d%H%M\")}.npy'), stacked_arr_site12)\n",
    "        np.save(os.path.join(cutted_im_path, f'stacked_arr_site013_{datetime.strftime(\"%Y%m%d%H%M\")}.npy'), stacked_arr_site13)\n",
    "        np.save(os.path.join(cutted_im_path, f'stacked_arr_site014_{datetime.strftime(\"%Y%m%d%H%M\")}.npy'), stacked_arr_site14)\n",
    "        np.save(os.path.join(cutted_im_path, f'stacked_arr_site015_{datetime.strftime(\"%Y%m%d%H%M\")}.npy'), stacked_arr_site15)\n",
    "        np.save(os.path.join(cutted_im_path, f'stacked_arr_site016_{datetime.strftime(\"%Y%m%d%H%M\")}.npy'), stacked_arr_site16)\n",
    "        np.save(os.path.join(cutted_im_path, f'stacked_arr_site017_{datetime.strftime(\"%Y%m%d%H%M\")}.npy'), stacked_arr_site17)\n",
    "        np.save(os.path.join(cutted_im_path, f'stacked_arr_site018_{datetime.strftime(\"%Y%m%d%H%M\")}.npy'), stacked_arr_site18)\n",
    "        np.save(os.path.join(cutted_im_path, f'stacked_arr_site019_{datetime.strftime(\"%Y%m%d%H%M\")}.npy'), stacked_arr_site19)\n",
    "        np.save(os.path.join(cutted_im_path, f'stacked_arr_site020_{datetime.strftime(\"%Y%m%d%H%M\")}.npy'), stacked_arr_site20)\n",
    "        np.save(os.path.join(cutted_im_path, f'stacked_arr_site021_{datetime.strftime(\"%Y%m%d%H%M\")}.npy'), stacked_arr_site21)\n",
    "        np.save(os.path.join(cutted_im_path, f'stacked_arr_site022_{datetime.strftime(\"%Y%m%d%H%M\")}.npy'), stacked_arr_site22)\n",
    "        np.save(os.path.join(cutted_im_path, f'stacked_arr_site023_{datetime.strftime(\"%Y%m%d%H%M\")}.npy'), stacked_arr_site23)\n",
    "        np.save(os.path.join(cutted_im_path, f'stacked_arr_site024_{datetime.strftime(\"%Y%m%d%H%M\")}.npy'), stacked_arr_site24)\n",
    "        np.save(os.path.join(cutted_im_path, f'stacked_arr_site025_{datetime.strftime(\"%Y%m%d%H%M\")}.npy'), stacked_arr_site25)\n",
    "        np.save(os.path.join(cutted_im_path, f'stacked_arr_site026_{datetime.strftime(\"%Y%m%d%H%M\")}.npy'), stacked_arr_site26)\n",
    "        np.save(os.path.join(cutted_im_path, f'stacked_arr_site027_{datetime.strftime(\"%Y%m%d%H%M\")}.npy'), stacked_arr_site27)\n",
    "        np.save(os.path.join(cutted_im_path, f'stacked_arr_site028_{datetime.strftime(\"%Y%m%d%H%M\")}.npy'), stacked_arr_site28)\n",
    "        np.save(os.path.join(cutted_im_path, f'stacked_arr_site029_{datetime.strftime(\"%Y%m%d%H%M\")}.npy'), stacked_arr_site29)\n",
    "        np.save(os.path.join(cutted_im_path, f'stacked_arr_site030_{datetime.strftime(\"%Y%m%d%H%M\")}.npy'), stacked_arr_site30)\n",
    "        np.save(os.path.join(cutted_im_path, f'stacked_arr_site031_{datetime.strftime(\"%Y%m%d%H%M\")}.npy'), stacked_arr_site31)\n",
    "        np.save(os.path.join(cutted_im_path, f'stacked_arr_site032_{datetime.strftime(\"%Y%m%d%H%M\")}.npy'), stacked_arr_site32)\n",
    "        np.save(os.path.join(cutted_im_path, f'stacked_arr_site033_{datetime.strftime(\"%Y%m%d%H%M\")}.npy'), stacked_arr_site33)\n",
    "        np.save(os.path.join(cutted_im_path, f'stacked_arr_site034_{datetime.strftime(\"%Y%m%d%H%M\")}.npy'), stacked_arr_site34)\n",
    "        np.save(os.path.join(cutted_im_path, f'stacked_arr_site035_{datetime.strftime(\"%Y%m%d%H%M\")}.npy'), stacked_arr_site35)\n",
    "        np.save(os.path.join(cutted_im_path, f'stacked_arr_site036_{datetime.strftime(\"%Y%m%d%H%M\")}.npy'), stacked_arr_site36)\n",
    "        np.save(os.path.join(cutted_im_path, f'stacked_arr_site037_{datetime.strftime(\"%Y%m%d%H%M\")}.npy'), stacked_arr_site37)\n",
    "        np.save(os.path.join(cutted_im_path, f'stacked_arr_site038_{datetime.strftime(\"%Y%m%d%H%M\")}.npy'), stacked_arr_site38)\n",
    "        np.save(os.path.join(cutted_im_path, f'stacked_arr_site039_{datetime.strftime(\"%Y%m%d%H%M\")}.npy'), stacked_arr_site39)\n",
    "        np.save(os.path.join(cutted_im_path, f'stacked_arr_site040_{datetime.strftime(\"%Y%m%d%H%M\")}.npy'), stacked_arr_site40)\n",
    "        np.save(os.path.join(cutted_im_path, f'stacked_arr_site041_{datetime.strftime(\"%Y%m%d%H%M\")}.npy'), stacked_arr_site41)\n",
    "        np.save(os.path.join(cutted_im_path, f'stacked_arr_site042_{datetime.strftime(\"%Y%m%d%H%M\")}.npy'), stacked_arr_site42)\n",
    "        np.save(os.path.join(cutted_im_path, f'stacked_arr_site043_{datetime.strftime(\"%Y%m%d%H%M\")}.npy'), stacked_arr_site43)\n",
    "        np.save(os.path.join(cutted_im_path, f'stacked_arr_site044_{datetime.strftime(\"%Y%m%d%H%M\")}.npy'), stacked_arr_site44)\n",
    "        np.save(os.path.join(cutted_im_path, f'stacked_arr_site045_{datetime.strftime(\"%Y%m%d%H%M\")}.npy'), stacked_arr_site45)\n",
    "        np.save(os.path.join(cutted_im_path, f'stacked_arr_site046_{datetime.strftime(\"%Y%m%d%H%M\")}.npy'), stacked_arr_site46)\n",
    "        np.save(os.path.join(cutted_im_path, f'stacked_arr_site047_{datetime.strftime(\"%Y%m%d%H%M\")}.npy'), stacked_arr_site47)\n",
    "        np.save(os.path.join(cutted_im_path, f'stacked_arr_site048_{datetime.strftime(\"%Y%m%d%H%M\")}.npy'), stacked_arr_site48)\n",
    "        np.save(os.path.join(cutted_im_path, f'stacked_arr_site049_{datetime.strftime(\"%Y%m%d%H%M\")}.npy'), stacked_arr_site49)\n",
    "        np.save(os.path.join(cutted_im_path, f'stacked_arr_site050_{datetime.strftime(\"%Y%m%d%H%M\")}.npy'), stacked_arr_site50)\n",
    "        np.save(os.path.join(cutted_im_path, f'stacked_arr_site051_{datetime.strftime(\"%Y%m%d%H%M\")}.npy'), stacked_arr_site51)\n",
    "        np.save(os.path.join(cutted_im_path, f'stacked_arr_site052_{datetime.strftime(\"%Y%m%d%H%M\")}.npy'), stacked_arr_site52)\n",
    "        np.save(os.path.join(cutted_im_path, f'stacked_arr_site053_{datetime.strftime(\"%Y%m%d%H%M\")}.npy'), stacked_arr_site53)\n",
    "        np.save(os.path.join(cutted_im_path, f'stacked_arr_site054_{datetime.strftime(\"%Y%m%d%H%M\")}.npy'), stacked_arr_site54)\n",
    "        np.save(os.path.join(cutted_im_path, f'stacked_arr_site055_{datetime.strftime(\"%Y%m%d%H%M\")}.npy'), stacked_arr_site55)\n",
    "        np.save(os.path.join(cutted_im_path, f'stacked_arr_site056_{datetime.strftime(\"%Y%m%d%H%M\")}.npy'), stacked_arr_site56)\n",
    "\n",
    "        ci_future_pic = np.zeros([56, 8])\n",
    "        for fh in range(1,9):\n",
    "          next_fh_step_filename = os.path.join(cloud_im_path, f'himawari_ahi_overview_{(datetime_utc + timedelta(minutes=30*fh)).strftime(\"%Y%m%d%H%M\")}.tif')\n",
    "          if  os.path.exists(next_fh_step_filename) :\n",
    "            next_fh_im = Image.open(os.path.join(cloud_im_path, next_fh_step_filename))\n",
    "            next_fh_arr = np.array(next_fh_im)[:, :, 0] / 255\n",
    "            ci_future_pic[:, fh-1] = next_fh_arr[row_list,col_list]\n",
    "          else : \n",
    "            ci_future_pic[:, fh-1] = np.nan\n",
    "        filename_pic = [f'stacked_arr_site{( \"00\"+str(site_no) )[-3:]}_{datetime.strftime(\"%Y%m%d%H%M\")}.npy' for site_no in range(1, 57)]\n",
    "\n",
    "        filename_list = filename_list + filename_pic\n",
    "        ci_future_arr = np.concatenate([ci_future_arr, ci_future_pic], axis=0)\n",
    "        \n",
    "        k+=1\n",
    "        if k%100 == 0 : \n",
    "          print(k)\n",
    "        \n",
    "        prev_im_arr = curr_im_arr\n",
    "    except:\n",
    "        notfound_status = True\n",
    "        k+=1\n",
    "        print(k, f'{curr_filename} Not Found')\n",
    "    if k%1000 == 0 : \n",
    "          df = pd.DataFrame(ci_future_arr[1:,:] ,columns = ['ci_center_lead_1step', 'ci_center_lead_2step','ci_center_lead_3step','ci_center_lead_4step','ci_center_lead_5step','ci_center_lead_6step','ci_center_lead_7step','ci_center_lead_8step'])\n",
    "          df['filename'] = filename_list[1:]\n",
    "          df.to_csv(f'label_CNN{k}.csv')\n",
    "\n",
    "df = pd.DataFrame(ci_future_arr[1:,:] ,columns = ['ci_center_lead_1step', 'ci_center_lead_2step','ci_center_lead_3step','ci_center_lead_4step','ci_center_lead_5step','ci_center_lead_6step','ci_center_lead_7step','ci_center_lead_8step'])\n",
    "df['filename'] = filename_list[1:]\n",
    "df.to_csv(f'label_r.csv')\n"
   ]
  }
 ],
 "metadata": {
  "colab": {
   "provenance": []
  },
  "gpuClass": "standard",
  "kernelspec": {
   "display_name": "Python 3 (ipykernel)",
   "language": "python",
   "name": "python3"
  },
  "language_info": {
   "codemirror_mode": {
    "name": "ipython",
    "version": 3
   },
   "file_extension": ".py",
   "mimetype": "text/x-python",
   "name": "python",
   "nbconvert_exporter": "python",
   "pygments_lexer": "ipython3",
   "version": "3.9.13"
  },
  "toc": {
   "base_numbering": 1,
   "nav_menu": {},
   "number_sections": true,
   "sideBar": true,
   "skip_h1_title": false,
   "title_cell": "Table of Contents",
   "title_sidebar": "Contents",
   "toc_cell": false,
   "toc_position": {},
   "toc_section_display": true,
   "toc_window_display": false
  },
  "varInspector": {
   "cols": {
    "lenName": 16,
    "lenType": 16,
    "lenVar": 40
   },
   "kernels_config": {
    "python": {
     "delete_cmd_postfix": "",
     "delete_cmd_prefix": "del ",
     "library": "var_list.py",
     "varRefreshCmd": "print(var_dic_list())"
    },
    "r": {
     "delete_cmd_postfix": ") ",
     "delete_cmd_prefix": "rm(",
     "library": "var_list.r",
     "varRefreshCmd": "cat(var_dic_list()) "
    }
   },
   "types_to_exclude": [
    "module",
    "function",
    "builtin_function_or_method",
    "instance",
    "_Feature"
   ],
   "window_display": false
  }
 },
 "nbformat": 4,
 "nbformat_minor": 1
}
